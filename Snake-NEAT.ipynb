{
 "cells": [
  {
   "cell_type": "code",
   "execution_count": 1,
   "metadata": {},
   "outputs": [],
   "source": [
    "import gym\n",
    "import gym_snake\n",
    "from matplotlib import pyplot as plt\n",
    "import numpy as np\n",
    "import cv2 as cv\n",
    "import torch\n",
    "import random\n",
    "from helpers.feature_extraction import feature_vector, find_apple_coordinates_pixel_array, distances_to_walls\n",
    "from helpers.genetic_algorithms import GameNet, create_population, calculate_fitness, selection_boltzmann\n",
    "\n",
    "\n",
    "\n",
    "# Construct Environment\n",
    "env = gym.make('snake-v0')\n",
    "env.grid_size = 15, 15\n",
    "observation = env.reset()  # Constructs an instance of the game\n",
    "\n",
    "# Controller\n",
    "game_controller = env.controller\n",
    "\n",
    "# Grid\n",
    "grid_object = game_controller.grid\n",
    "grid_pixels = grid_object.grid\n",
    "\n",
    "# Snake(s)\n",
    "snakes_array = game_controller.snakes\n",
    "snake_object1 = snakes_array[0]\n",
    "\n",
    "observation = env.reset()\n",
    "to_pixels = lambda x: cv.resize(x, env.grid_size)\n",
    "    "
   ]
  },
  {
   "cell_type": "code",
   "execution_count": 2,
   "metadata": {},
   "outputs": [
    {
     "name": "stdout",
     "output_type": "stream",
     "text": [
      "True\n"
     ]
    }
   ],
   "source": [
    "print(torch.cuda.is_available())\n",
    "cuda = torch.device('cuda:0')"
   ]
  },
  {
   "cell_type": "code",
   "execution_count": 3,
   "metadata": {},
   "outputs": [
    {
     "name": "stdout",
     "output_type": "stream",
     "text": [
      "[ 0.         0.         1.         0.         6.        14.\n",
      "  3.         9.        12.         6.         0.2058696]\n"
     ]
    }
   ],
   "source": [
    "print(feature_vector(snake_object1, grid_object.grid, env.grid_size, grid_object.FOOD_COLOR))"
   ]
  },
  {
   "cell_type": "code",
   "execution_count": 4,
   "metadata": {},
   "outputs": [
    {
     "data": {
      "text/plain": [
       "<matplotlib.image.AxesImage at 0x7f4f43eeb0f0>"
      ]
     },
     "execution_count": 4,
     "metadata": {},
     "output_type": "execute_result"
    },
    {
     "data": {
      "image/png": "[encoded data removed]",
      "text/plain": [
       "<Figure size 432x288 with 1 Axes>"
      ]
     },
     "metadata": {
      "needs_background": "light"
     },
     "output_type": "display_data"
    }
   ],
   "source": [
    "plt.imshow(env.step(snake_object1.RIGHT)[0])"
   ]
  },
  {
   "cell_type": "code",
   "execution_count": null,
   "metadata": {
    "scrolled": false
   },
   "outputs": [
    {
     "name": "stderr",
     "output_type": "stream",
     "text": [
      "/home/arattel/PycharmProject/Gym-Snake/gym_snake/envs/snake_env.py:41: UserWarning: Matplotlib is currently using module://ipykernel.pylab.backend_inline, which is a non-GUI backend, so cannot show the figure.\n",
      "  self.fig.show()\n"
     ]
    },
    {
     "data": {
      "image/png": "[encoded data removed]",
      "text/plain": [
       "<Figure size 432x288 with 1 Axes>"
      ]
     },
     "metadata": {
      "needs_background": "light"
     },
     "output_type": "display_data"
    }
   ],
   "source": [
    "#Initial population + configurations\n",
    "n_individuals = 500\n",
    "n_generations = 20\n",
    "population = create_population(n_individuals)\n",
    "percentage_to_save = .3\n",
    "\n",
    "\n",
    "for i in range(n_generations):\n",
    "    new_generation = []\n",
    "    fitness = []\n",
    "    for i in range(len(population)):\n",
    "        fit_score = calculate_fitness(population[i], env)\n",
    "        fitness.append(fit_score)\n",
    "    print(\"Best result:\", max(fitness))\n",
    "    mating_pool = selection_boltzmann(population, fitness, int(percentage_to_save * n_individuals), i, \n",
    "                                      n_generations)\n",
    "    new_generation = []\n",
    "    while len(new_generation) < n_individuals:\n",
    "        sample = random.sample(mating_pool, 2)\n",
    "        parent1, parent2 = sample[0], sample[1]\n",
    "        child1, child2 = parent1.crossover(parent2)\n",
    "        child1.mutate()\n",
    "        child2.mutate()\n",
    "        new_generation += [child1, child2]\n",
    "    population = new_generation\n"
   ]
  },
  {
   "cell_type": "code",
   "execution_count": null,
   "metadata": {},
   "outputs": [],
   "source": []
  }
 ],
 "metadata": {
  "kernelspec": {
   "display_name": "Python 3",
   "language": "python",
   "name": "python3"
  },
  "language_info": {
   "codemirror_mode": {
    "name": "ipython",
    "version": 3
   },
   "file_extension": ".py",
   "mimetype": "text/x-python",
   "name": "python",
   "nbconvert_exporter": "python",
   "pygments_lexer": "ipython3",
   "version": "3.6.8"
  },
  "pycharm": {
   "stem_cell": {
    "cell_type": "raw",
    "metadata": {
     "collapsed": false
    },
    "source": []
   }
  }
 },
 "nbformat": 4,
 "nbformat_minor": 2
}
