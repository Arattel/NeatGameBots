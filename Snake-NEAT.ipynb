{
 "cells": [
  {
   "cell_type": "code",
   "execution_count": 1,
   "metadata": {},
   "outputs": [],
   "source": [
    "import gym\n",
    "import gym_snake\n",
    "from matplotlib import pyplot as plt\n",
    "from array2gif import write_gif\n",
    "import numpy as np\n",
    "import cv2 as cv\n",
    "import torch\n",
    "import random\n",
    "from more_itertools import sort_together\n",
    "from copy import deepcopy\n",
    "\n",
    "\n",
    "\n",
    "# Construct Environment\n",
    "env = gym.make('snake-v0')\n",
    "env.grid_size = 15, 15\n",
    "observation = env.reset()  # Constructs an instance of the game\n",
    "\n",
    "# Controller\n",
    "game_controller = env.controller\n",
    "\n",
    "# Grid\n",
    "grid_object = game_controller.grid\n",
    "grid_pixels = grid_object.grid\n",
    "\n",
    "# Snake(s)\n",
    "snakes_array = game_controller.snakes\n",
    "snake_object1 = snakes_array[0]\n",
    "\n",
    "observation = env.reset()\n",
    "to_pixels = lambda x: cv.resize(x, env.grid_size)\n",
    "\n",
    "def find_apple_coordinates_pixel_array(pixel_arr, food_color):\n",
    "    indices = np.where(np.all(pixel_arr == food_color, axis=-1))\n",
    "    indexes = list(zip(indices[1], indices[0]))\n",
    "    return np.array(indexes[0])\n",
    "\n",
    "def distances_to_walls(snake_obj, grid_size):\n",
    "    up = snake_obj.head[1] - 1\n",
    "    left = snake_obj.head[0] -1\n",
    "    down = grid_size[1] - up\n",
    "    right = grid_size[0] - left\n",
    "    return np.array([up, right, down, left])\n",
    "    "
   ]
  },
  {
   "cell_type": "code",
   "execution_count": 2,
   "metadata": {},
   "outputs": [
    {
     "name": "stdout",
     "output_type": "stream",
     "text": [
      "True\n"
     ]
    }
   ],
   "source": [
    "print(torch.cuda.is_available())\n",
    "cuda = torch.device('cuda:0')"
   ]
  },
  {
   "cell_type": "code",
   "execution_count": 9,
   "metadata": {},
   "outputs": [
    {
     "name": "stdout",
     "output_type": "stream",
     "text": [
      "[sudo] password for arattel: \n"
     ]
    }
   ],
   "source": [
    "!sudo pip3 freeze > requirements.txt"
   ]
  },
  {
   "cell_type": "code",
   "execution_count": 3,
   "metadata": {},
   "outputs": [
    {
     "name": "stdout",
     "output_type": "stream",
     "text": [
      "[ 0.  0.  1.  0.  1.  2.  3.  9. 12.  6.]\n"
     ]
    }
   ],
   "source": [
    "def feature_vector(snake_object, pixelarr, grid_size, food_color):\n",
    "    direction_vector = np.zeros(4)\n",
    "    direction_vector[snake_object.direction] = 1\n",
    "    pixel_grid = to_pixels(pixelarr)\n",
    "    apple_coord = find_apple_coordinates_pixel_array(pixel_grid, food_color)\n",
    "    distances = distances_to_walls(snake_object, grid_size)\n",
    "    return np.concatenate((direction_vector, apple_coord, distances))\n",
    "\n",
    "print(feature_vector(snake_object1, grid_object.grid, env.grid_size, grid_object.FOOD_COLOR))"
   ]
  },
  {
   "cell_type": "code",
   "execution_count": 4,
   "metadata": {},
   "outputs": [],
   "source": [
    "class GameNet(torch.nn.Module):\n",
    "    def __init__(self):\n",
    "        super(GameNet, self).__init__()\n",
    "        self.fc1 = torch.nn.Linear(10, 14)\n",
    "        self.fc2 = torch.nn.Linear(14, 4)\n",
    "        self.act = torch.nn.Sigmoid()        \n",
    "    \n",
    "    def forward(self, x):\n",
    "        x = self.act(self.fc1(x))\n",
    "        x = self.act(self.fc2(x))\n",
    "        return x.detach()\n",
    "    \n",
    "    def mutate(self, p=.15):\n",
    "        state_dict = self.state_dict()\n",
    "        keys = list(state_dict.keys())\n",
    "        for key in keys:\n",
    "            for index, weight  in enumerate(state_dict[key]):\n",
    "                if random.uniform(0, 1) <= p:\n",
    "                    delta = random.uniform(-.5, .5)\n",
    "                    state_dict[key][index] += delta\n",
    "        return self.load_state_dict(state_dict)\n",
    "    \n",
    "    def crossover(self, other, p=.3):\n",
    "        state_dict0 = deepcopy(self.state_dict())\n",
    "        state_dict1 = deepcopy(other.state_dict())\n",
    "        keys = list(state_dict1.keys())\n",
    "        for key in keys:\n",
    "            if random.uniform(0, 1) <= p:\n",
    "                x = np.random.randint(1, len(state_dict0[key]))\n",
    "                state_dict0[key][:x], state_dict1[key][:x] = state_dict1[key][:x].clone(), state_dict0[key][:x].clone()\n",
    "        \n",
    "        child_net0 = GameNet()\n",
    "        child_net1 = GameNet()\n",
    "        child_net0.load_state_dict(state_dict0)\n",
    "        child_net1.load_state_dict(state_dict1)\n",
    "        return child_net0.to(cuda), child_net1.to(cuda)"
   ]
  },
  {
   "cell_type": "code",
   "execution_count": 5,
   "metadata": {},
   "outputs": [
    {
     "data": {
      "text/plain": [
       "<matplotlib.image.AxesImage at 0x7f70dd294908>"
      ]
     },
     "execution_count": 5,
     "metadata": {},
     "output_type": "execute_result"
    },
    {
     "data": {
      "image/png": "[encoded data removed]",
      "text/plain": [
       "<Figure size 432x288 with 1 Axes>"
      ]
     },
     "metadata": {
      "needs_background": "light"
     },
     "output_type": "display_data"
    }
   ],
   "source": [
    "plt.imshow(env.step(snake_object1.RIGHT)[0])"
   ]
  },
  {
   "cell_type": "code",
   "execution_count": 6,
   "metadata": {},
   "outputs": [],
   "source": [
    "def create_population(individuals=1000):\n",
    "    generation = []\n",
    "    for i in range(individuals):\n",
    "        generation.append(GameNet().to(cuda))\n",
    "    return generation\n",
    "\n"
   ]
  },
  {
   "cell_type": "code",
   "execution_count": 7,
   "metadata": {},
   "outputs": [],
   "source": [
    "def calculate_fitness(individual):\n",
    "    \n",
    "    global env\n",
    "    observation = env.reset()  # Constructs an instance of the game\n",
    "    # Controller\n",
    "    game_controller = env.controller\n",
    "    # Grid\n",
    "    grid_object = game_controller.grid\n",
    "    grid_pixels = grid_object.grid\n",
    "    # Snake(s)\n",
    "    snakes_array = game_controller.snakes\n",
    "    snake_object1 = snakes_array[0]\n",
    "    to_pixels = lambda x: cv.resize(x, env.grid_size)\n",
    "    \n",
    "    env.render()\n",
    "    fitness = 0\n",
    "    features = feature_vector(snake_object1, grid_object.grid, env.grid_size, grid_object.FOOD_COLOR)\n",
    "    features = torch.cuda.FloatTensor(features)\n",
    "    action = np.argmax(individual.forward(features).cpu()).item()\n",
    "     \n",
    "    observation, reward, done, info = env.step(action)\n",
    "    fitness += reward\n",
    "    while not done:\n",
    "        env.render()\n",
    "        features = torch.cuda.FloatTensor(feature_vector(snake_object1, observation, env.grid_size, grid_object.FOOD_COLOR))\n",
    "        action = np.argmax(individual.forward(features).cpu()).item()\n",
    "        observation, reward, done, info = env.step(action)\n",
    "        fitness += reward\n",
    "    return fitness + 1"
   ]
  },
  {
   "cell_type": "code",
   "execution_count": 8,
   "metadata": {},
   "outputs": [],
   "source": [
    "def create_mating_pool(fitness, population, to_choose):\n",
    "    cumulative_fitness = sum(fitness)\n",
    "    fitness = list(map(lambda x: x / cumulative_fitness, fitness))\n",
    "    fitness, population = sort_together([fitness, population], reverse=True)\n",
    "    mating_pool = []\n",
    "    indexes = []\n",
    "    for i in range(to_choose):\n",
    "        p = np.random.uniform(0, 1)\n",
    "        for j in range(len(fitness)):\n",
    "            if fitness[j] >= p and fitness[j] < p:\n",
    "                if j not in indexes:\n",
    "                    mating_pool.append(population[j])\n",
    "                    indexes.append(j)\n",
    "                \n",
    "        while len(mating_pool) <= i:\n",
    "            index_to_append = random.randint(0, len(fitness) - 1)\n",
    "            if index_to_append not in indexes:\n",
    "                indexes.append(index_to_append)\n",
    "                mating_pool.append(population[index_to_append])\n",
    "                \n",
    "    return mating_pool"
   ]
  },
  {
   "cell_type": "code",
   "execution_count": 18,
   "metadata": {
    "scrolled": false
   },
   "outputs": [
    {
     "name": "stdout",
     "output_type": "stream",
     "text": [
      "Best result: 1\n",
      "Best result: 1\n",
      "Best result: 1\n",
      "Best result: 1\n",
      "Best result: 1\n",
      "Best result: 1\n",
      "Best result: 1\n",
      "Best result: 1\n",
      "Best result: 1\n",
      "Best result: 1\n",
      "Best result: 1\n",
      "Best result: 1\n",
      "Best result: 1\n",
      "Best result: 1\n",
      "Best result: 1\n",
      "Best result: 1\n",
      "Best result: 1\n",
      "Best result: 1\n",
      "Best result: 1\n",
      "Best result: 1\n"
     ]
    }
   ],
   "source": [
    "#Initial population + configurations\n",
    "n_individuals = 120\n",
    "n_generations = 20\n",
    "population = create_population(n_individuals)\n",
    "percentage_to_save = .3\n",
    "\n",
    "\n",
    "for i in range(n_generations):\n",
    "    new_generation = []\n",
    "    fitness = []\n",
    "    for i in range(len(population)):\n",
    "        fit_score = calculate_fitness(population[i])\n",
    "        fitness.append(fit_score)\n",
    "    print(\"Best result:\", max(fitness))\n",
    "    mating_pool = create_mating_pool(fitness, population, int(percentage_to_save * n_individuals))\n",
    "    new_generation = []\n",
    "    while len(new_generation) < n_individuals:\n",
    "        sample = random.sample(mating_pool, 2)\n",
    "        parent1, parent2 = sample[0], sample[1]\n",
    "        child1, child2 = parent1.crossover(parent2)\n",
    "        child1.mutate()\n",
    "        child2.mutate()\n",
    "        new_generation += [child1, child2]\n",
    "    population = new_generation\n"
   ]
  }
 ],
 "metadata": {
  "kernelspec": {
   "display_name": "Python 3",
   "language": "python",
   "name": "python3"
  },
  "language_info": {
   "codemirror_mode": {
    "name": "ipython",
    "version": 3
   },
   "file_extension": ".py",
   "mimetype": "text/x-python",
   "name": "python",
   "nbconvert_exporter": "python",
   "pygments_lexer": "ipython3",
   "version": "3.6.8"
  }
 },
 "nbformat": 4,
 "nbformat_minor": 2
}
