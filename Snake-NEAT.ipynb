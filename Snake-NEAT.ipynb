{
 "cells": [
  {
   "cell_type": "code",
   "execution_count": 2,
   "metadata": {},
   "outputs": [],
   "source": [
    "import gym\n",
    "import gym_snake\n",
    "from matplotlib import pyplot as plt\n",
    "import numpy as np\n",
    "import cv2 as cv\n",
    "import torch\n",
    "import random\n",
    "from helpers.feature_extraction import feature_vector, find_apple_coordinates_pixel_array, distances_to_walls\n",
    "from helpers.genetic_algorithms import GameNet, create_mating_pool, create_population, calculate_fitness\n",
    "\n",
    "\n",
    "\n",
    "# Construct Environment\n",
    "env = gym.make('snake-v0')\n",
    "env.grid_size = 15, 15\n",
    "observation = env.reset()  # Constructs an instance of the game\n",
    "\n",
    "# Controller\n",
    "game_controller = env.controller\n",
    "\n",
    "# Grid\n",
    "grid_object = game_controller.grid\n",
    "grid_pixels = grid_object.grid\n",
    "\n",
    "# Snake(s)\n",
    "snakes_array = game_controller.snakes\n",
    "snake_object1 = snakes_array[0]\n",
    "\n",
    "observation = env.reset()\n",
    "to_pixels = lambda x: cv.resize(x, env.grid_size)\n",
    "    "
   ]
  },
  {
   "cell_type": "code",
   "execution_count": 3,
   "metadata": {},
   "outputs": [
    {
     "name": "stdout",
     "output_type": "stream",
     "text": [
      "True\n"
     ]
    }
   ],
   "source": [
    "print(torch.cuda.is_available())\n",
    "cuda = torch.device('cuda:0')"
   ]
  },
  {
   "cell_type": "code",
   "execution_count": 4,
   "metadata": {},
   "outputs": [
    {
     "ename": "TypeError",
     "evalue": "concatenate() takes at most 3 arguments (4 given)",
     "output_type": "error",
     "traceback": [
      "\u001b[1;31m---------------------------------------------------------------------------\u001b[0m",
      "\u001b[1;31mTypeError\u001b[0m                                 Traceback (most recent call last)",
      "\u001b[1;32m<ipython-input-4-4d85e69df99f>\u001b[0m in \u001b[0;36m<module>\u001b[1;34m\u001b[0m\n\u001b[1;32m----> 1\u001b[1;33m \u001b[0mprint\u001b[0m\u001b[1;33m(\u001b[0m\u001b[0mfeature_vector\u001b[0m\u001b[1;33m(\u001b[0m\u001b[0msnake_object1\u001b[0m\u001b[1;33m,\u001b[0m \u001b[0mgrid_object\u001b[0m\u001b[1;33m.\u001b[0m\u001b[0mgrid\u001b[0m\u001b[1;33m,\u001b[0m \u001b[0menv\u001b[0m\u001b[1;33m.\u001b[0m\u001b[0mgrid_size\u001b[0m\u001b[1;33m,\u001b[0m \u001b[0mgrid_object\u001b[0m\u001b[1;33m.\u001b[0m\u001b[0mFOOD_COLOR\u001b[0m\u001b[1;33m)\u001b[0m\u001b[1;33m)\u001b[0m\u001b[1;33m\u001b[0m\u001b[1;33m\u001b[0m\u001b[0m\n\u001b[0m",
      "\u001b[1;32mD:\\programming\\untitled\\SnakeBot\\helpers\\feature_extraction.py\u001b[0m in \u001b[0;36mfeature_vector\u001b[1;34m(snake_object, pixelarr, grid_size, food_color)\u001b[0m\n\u001b[0;32m     38\u001b[0m     \u001b[0mdistances\u001b[0m \u001b[1;33m=\u001b[0m \u001b[0mdistances_to_walls\u001b[0m\u001b[1;33m(\u001b[0m\u001b[0msnake_object\u001b[0m\u001b[1;33m,\u001b[0m \u001b[0mgrid_size\u001b[0m\u001b[1;33m)\u001b[0m\u001b[1;33m\u001b[0m\u001b[1;33m\u001b[0m\u001b[0m\n\u001b[0;32m     39\u001b[0m     \u001b[0mangle\u001b[0m \u001b[1;33m=\u001b[0m \u001b[0mget_angle\u001b[0m\u001b[1;33m(\u001b[0m\u001b[0msnake_object\u001b[0m\u001b[1;33m,\u001b[0m \u001b[0mapple_coord\u001b[0m\u001b[1;33m)\u001b[0m\u001b[1;33m\u001b[0m\u001b[1;33m\u001b[0m\u001b[0m\n\u001b[1;32m---> 40\u001b[1;33m     \u001b[1;32mreturn\u001b[0m \u001b[0mnp\u001b[0m\u001b[1;33m.\u001b[0m\u001b[0mconcatenate\u001b[0m\u001b[1;33m(\u001b[0m\u001b[0mdirection_vector\u001b[0m\u001b[1;33m,\u001b[0m \u001b[0mapple_coord\u001b[0m\u001b[1;33m,\u001b[0m \u001b[0mdistances\u001b[0m\u001b[1;33m,\u001b[0m \u001b[0mangle\u001b[0m\u001b[1;33m)\u001b[0m\u001b[1;33m\u001b[0m\u001b[1;33m\u001b[0m\u001b[0m\n\u001b[0m\u001b[0;32m     41\u001b[0m \u001b[1;33m\u001b[0m\u001b[0m\n\u001b[0;32m     42\u001b[0m \u001b[1;33m\u001b[0m\u001b[0m\n",
      "\u001b[1;31mTypeError\u001b[0m: concatenate() takes at most 3 arguments (4 given)"
     ]
    }
   ],
   "source": [
    "print(feature_vector(snake_object1, grid_object.grid, env.grid_size, grid_object.FOOD_COLOR))"
   ]
  },
  {
   "cell_type": "code",
   "execution_count": 1,
   "metadata": {},
   "outputs": [
    {
     "ename": "NameError",
     "evalue": "name 'plt' is not defined",
     "output_type": "error",
     "traceback": [
      "\u001b[1;31m---------------------------------------------------------------------------\u001b[0m",
      "\u001b[1;31mNameError\u001b[0m                                 Traceback (most recent call last)",
      "\u001b[1;32m<ipython-input-1-00a927c88f29>\u001b[0m in \u001b[0;36m<module>\u001b[1;34m\u001b[0m\n\u001b[1;32m----> 1\u001b[1;33m \u001b[0mplt\u001b[0m\u001b[1;33m.\u001b[0m\u001b[0mimshow\u001b[0m\u001b[1;33m(\u001b[0m\u001b[0menv\u001b[0m\u001b[1;33m.\u001b[0m\u001b[0mstep\u001b[0m\u001b[1;33m(\u001b[0m\u001b[0msnake_object1\u001b[0m\u001b[1;33m.\u001b[0m\u001b[0mRIGHT\u001b[0m\u001b[1;33m)\u001b[0m\u001b[1;33m[\u001b[0m\u001b[1;36m0\u001b[0m\u001b[1;33m]\u001b[0m\u001b[1;33m)\u001b[0m\u001b[1;33m\u001b[0m\u001b[1;33m\u001b[0m\u001b[0m\n\u001b[0m",
      "\u001b[1;31mNameError\u001b[0m: name 'plt' is not defined"
     ]
    }
   ],
   "source": [
    "plt.imshow(env.step(snake_object1.RIGHT)[0])"
   ]
  },
  {
   "cell_type": "code",
   "execution_count": null,
   "metadata": {
    "scrolled": false
   },
   "outputs": [
    {
     "name": "stderr",
     "output_type": "stream",
     "text": [
      "c:\\users\\sofik\\appdata\\local\\programs\\python\\python37\\lib\\site-packages\\matplotlib\\figure.py:445: UserWarning: Matplotlib is currently using module://ipykernel.pylab.backend_inline, which is a non-GUI backend, so cannot show the figure.\n",
      "  % get_backend())\n"
     ]
    },
    {
     "data": {
      "image/png": "[encoded data removed]",
      "text/plain": [
       "<Figure size 432x288 with 1 Axes>"
      ]
     },
     "metadata": {
      "needs_background": "light"
     },
     "output_type": "display_data"
    },
    {
     "name": "stdout",
     "output_type": "stream",
     "text": [
      "Best result: 1\n",
      "Best result: 1\n",
      "Best result: 1\n",
      "Best result: 1\n",
      "Best result: 1\n",
      "Best result: 1\n",
      "Best result: 1\n"
     ]
    }
   ],
   "source": [
    "#Initial population + configurations\n",
    "n_individuals = 120\n",
    "n_generations = 20\n",
    "population = create_population(n_individuals)\n",
    "percentage_to_save = .3\n",
    "\n",
    "\n",
    "for i in range(n_generations):\n",
    "    new_generation = []\n",
    "    fitness = []\n",
    "    for i in range(len(population)):\n",
    "        fit_score = calculate_fitness(population[i], env)\n",
    "        fitness.append(fit_score)\n",
    "    print(\"Best result:\", max(fitness))\n",
    "    mating_pool = create_mating_pool(fitness, population, int(percentage_to_save * n_individuals))\n",
    "    new_generation = []\n",
    "    while len(new_generation) < n_individuals:\n",
    "        sample = random.sample(mating_pool, 2)\n",
    "        parent1, parent2 = sample[0], sample[1]\n",
    "        child1, child2 = parent1.crossover(parent2)\n",
    "        child1.mutate()\n",
    "        child2.mutate()\n",
    "        new_generation += [child1, child2]\n",
    "    population = new_generation\n"
   ]
  },
  {
   "cell_type": "code",
   "execution_count": null,
   "metadata": {},
   "outputs": [],
   "source": []
  }
 ],
 "metadata": {
  "kernelspec": {
   "display_name": "Python 3",
   "language": "python",
   "name": "python3"
  },
  "language_info": {
   "codemirror_mode": {
    "name": "ipython",
    "version": 3
   },
   "file_extension": ".py",
   "mimetype": "text/x-python",
   "name": "python",
   "nbconvert_exporter": "python",
   "pygments_lexer": "ipython3",
   "version": "3.7.2"
  },
  "pycharm": {
   "stem_cell": {
    "cell_type": "raw",
    "metadata": {
     "collapsed": false
    },
    "source": []
   }
  }
 },
 "nbformat": 4,
 "nbformat_minor": 2
}
