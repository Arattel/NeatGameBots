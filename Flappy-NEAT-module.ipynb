{
 "cells": [
  {
   "cell_type": "code",
   "execution_count": 1,
   "metadata": {},
   "outputs": [
    {
     "name": "stdout",
     "output_type": "stream",
     "text": [
      "pygame 1.9.6\n",
      "Hello from the pygame community. https://www.pygame.org/contribute.html\n"
     ]
    },
    {
     "name": "stderr",
     "output_type": "stream",
     "text": [
      "c:\\users\\sofik\\appdata\\local\\programs\\python\\python37\\lib\\site-packages\\gym\\logger.py:30: UserWarning: WARN: Environment '<class 'gym_simpleflappy.envs.flappy_env.FlappyEnvDistance'>' has deprecated methods '_step' and '_reset' rather than 'step' and 'reset'. Compatibility code invoked. Set _gym_disable_underscore_compat = True to disable this behavior.\n",
      "  warnings.warn(colorize('%s: %s'%('WARN', msg % args), 'yellow'))\n"
     ]
    }
   ],
   "source": [
    "import gym\n",
    "import gym_simpleflappy\n",
    "from tqdm import tqdm\n",
    "import neat\n",
    "from matplotlib import pyplot as plt\n",
    "\n",
    "\n",
    "env = gym.make(\"SimpleFlappyDistance-v0\")\n",
    "env.reset()\n",
    "\n",
    "max_eps = 1000\n",
    "episode = 0\n",
    "steps = 0\n",
    "screen_width = 288\n",
    "screen_height = 512\n",
    "max_speed = 10.0"
   ]
  },
  {
   "cell_type": "code",
   "execution_count": 2,
   "metadata": {},
   "outputs": [],
   "source": [
    "observation = env.reset()"
   ]
  },
  {
   "cell_type": "code",
   "execution_count": 3,
   "metadata": {},
   "outputs": [
    {
     "name": "stdout",
     "output_type": "stream",
     "text": [
      "[247.          -9.         168.8        234.15441816 320.8\n",
      " 373.17276174]\n"
     ]
    }
   ],
   "source": [
    "observation, reward, done, info = env.step(1)\n",
    "env.render(mode='human')\n",
    "print(observation)"
   ]
  },
  {
   "cell_type": "code",
   "execution_count": 4,
   "metadata": {},
   "outputs": [
    {
     "name": "stdout",
     "output_type": "stream",
     "text": [
      "[239.          -8.         164.8        234.15441816 316.8\n",
      " 373.17276174]\n"
     ]
    }
   ],
   "source": [
    "observation, reward, done, info = env.step(0)\n",
    "env.render(mode='human')\n",
    "print(observation)"
   ]
  },
  {
   "cell_type": "code",
   "execution_count": 9,
   "metadata": {},
   "outputs": [],
   "source": [
    "def normalize_features(features):\n",
    "    features[3], features[5] = features[3]/screen_height, features[5]/screen_height\n",
    "    features[2], features[4] = features[3]/screen_width, features[5]/screen_width\n",
    "    features[1] /= max_speed\n",
    "    return features\n",
    "\n",
    "\n",
    "def eval_genomes(individuals, config):\n",
    "    \"\"\"\n",
    "    runs the game for each of the individuals\n",
    "    :param config: config file from neat module\n",
    "    :param individuals: list of individuals from one population\n",
    "    :return: None\n",
    "    \"\"\"\n",
    "    global env\n",
    "    env.reset()\n",
    "    nets, genomes = [], []\n",
    "    \n",
    "    for genome_id, genome in tqdm(individuals):\n",
    "        genome.fitness = 0  # start with fitness level of 0\n",
    "        net = neat.nn.FeedForwardNetwork.create(genome, config)\n",
    "        nets.append(net)\n",
    "        genomes.append(genome)\n",
    "    \n",
    "    x = 0\n",
    "    for net in tqdm(nets):  # Cycle for each individual\n",
    "        observation = env.reset()  # Constructs an instance of the game\n",
    "        steps = 0\n",
    "        \n",
    "        # Extract features and normalize them\n",
    "        features = normalize_features(list(observation))\n",
    "        \n",
    "        output = nets[x].activate(features)  # Get output from neural network\n",
    "        action = 0 if output[0] <= 0.5 else 1\n",
    "        \n",
    "        observation, reward, done, info = env.step(action)\n",
    "        genomes[x].fitness += reward\n",
    "        steps += 1\n",
    "        \n",
    "        while not done:  #  Game cycle            \n",
    "            # Extract features and normalize them\n",
    "            features = normalize_features(list(observation))\n",
    "            output = nets[x].activate(features)  # Get input from neural network\n",
    "            action = 0 if output[0] <= 0.5 else 1\n",
    "\n",
    "            observation, reward, done, info = env.step(action)  #  Make a move\n",
    "            steps += 1\n",
    "            if reward == -1:\n",
    "                genomes[x].fitness -= 10 if steps > 15 else 100\n",
    "            else:\n",
    "                genomes[x].fitness += reward\n",
    "        x += 1\n",
    "           "
   ]
  },
  {
   "cell_type": "code",
   "execution_count": 10,
   "metadata": {},
   "outputs": [],
   "source": [
    "def run(config_file, num_generations):\n",
    "    \"\"\"\n",
    "    runs the NEAT algorithm to train a neural network to play game.\n",
    "    :param config_file: location of config file\n",
    "    :return: None\n",
    "    \"\"\"\n",
    "    config = neat.config.Config(neat.DefaultGenome, neat.DefaultReproduction,\n",
    "                         neat.DefaultSpeciesSet, neat.DefaultStagnation,\n",
    "                         config_file)\n",
    "\n",
    "    # Create the population, which is the top-level object for a NEAT run.\n",
    "    population = neat.Population(config)\n",
    "\n",
    "    # Add a stdout reporter to show progress in the terminal.\n",
    "    population.add_reporter(neat.StdOutReporter(False))\n",
    "    stats = neat.StatisticsReporter()\n",
    "    population.add_reporter(stats)\n",
    "    \n",
    "    # Add a checkpointer to save progress\n",
    "    checkpointer = neat.Checkpointer()\n",
    "    population.add_reporter(checkpointer)\n",
    "\n",
    "    steps = 0\n",
    "    \n",
    "    # Run for maximun of num_populations\n",
    "    winner = neat.nn.FeedForwardNetwork.create(\n",
    "        population.run(eval_genomes, num_generations), config)\n",
    "    observation = env.reset()  # Constructs an instance of the game    \n",
    "    features = normalize_features(list(observation))\n",
    "    output = winner.activate(features)  # Get output from neural network\n",
    "    action = 0 if output[0] <= 0.5 else 1\n",
    "    observation, reward, done, info = env.step(action)\n",
    "    \n",
    "    while not done:  #  Game cycle            \n",
    "        features = normalize_features(list(observation))\n",
    "        output = winner.activate(features)  # Get output from neural network\n",
    "        action = 0 if output[0] <= 0.5 else 1\n",
    "        observation, reward, done, info = env.step(action)  #  Make a move\n",
    "        env.render(mode='human')\n",
    "\n",
    "    return winner\n",
    "    \n"
   ]
  },
  {
   "cell_type": "code",
   "execution_count": 13,
   "metadata": {
    "scrolled": false
   },
   "outputs": [
    {
     "name": "stdout",
     "output_type": "stream",
     "text": [
      "\n",
      " ****** Running generation 0 ****** \n",
      "\n"
     ]
    },
    {
     "name": "stderr",
     "output_type": "stream",
     "text": [
      "100%|██████████████████████████████████████████████████████████████████████████████| 380/380 [00:00<00:00, 1308.42it/s]\n",
      "100%|███████████████████████████████████████████████████████████████████████████████| 380/380 [00:01<00:00, 330.07it/s]\n"
     ]
    },
    {
     "name": "stdout",
     "output_type": "stream",
     "text": [
      "Population's average fitness: 29.63684 stdev: 6.49856\n",
      "Best fitness: 36.00000 - size: (21, 140) - species 3 - id 3\n",
      "Average adjusted fitness: 0.511\n",
      "Mean genetic distance 4.162, standard deviation 0.285\n",
      "Population of 760 members in 385 species\n",
      "Total extinctions: 0\n",
      "Generation time: 13.090 sec\n",
      "\n",
      " ****** Running generation 1 ****** \n",
      "\n"
     ]
    },
    {
     "name": "stderr",
     "output_type": "stream",
     "text": [
      "100%|██████████████████████████████████████████████████████████████████████████████| 760/760 [00:00<00:00, 1501.04it/s]\n",
      "100%|███████████████████████████████████████████████████████████████████████████████| 760/760 [00:02<00:00, 352.85it/s]\n"
     ]
    },
    {
     "name": "stdout",
     "output_type": "stream",
     "text": [
      "Population's average fitness: 29.53289 stdev: 6.69320\n",
      "Best fitness: 74.00000 - size: (21, 140) - species 53 - id 597\n",
      "Average adjusted fitness: 0.127\n",
      "Mean genetic distance 4.162, standard deviation 0.285\n",
      "Population of 770 members in 385 species\n",
      "Total extinctions: 0\n",
      "Generation time: 14.136 sec (13.613 average)\n",
      "\n",
      " ****** Running generation 2 ****** \n",
      "\n"
     ]
    },
    {
     "name": "stderr",
     "output_type": "stream",
     "text": [
      "100%|██████████████████████████████████████████████████████████████████████████████| 770/770 [00:00<00:00, 1741.87it/s]\n",
      "100%|███████████████████████████████████████████████████████████████████████████████| 770/770 [00:02<00:00, 365.73it/s]\n"
     ]
    },
    {
     "name": "stdout",
     "output_type": "stream",
     "text": [
      "Population's average fitness: 29.58182 stdev: 6.87583\n",
      "Best fitness: 74.00000 - size: (21, 140) - species 110 - id 110\n",
      "Average adjusted fitness: 0.166\n",
      "Mean genetic distance 3.960, standard deviation 0.522\n",
      "Population of 384 members in 51 species\n",
      "Total extinctions: 0\n",
      "Generation time: 3.630 sec (10.285 average)\n",
      "\n",
      " ****** Running generation 3 ****** \n",
      "\n"
     ]
    },
    {
     "name": "stderr",
     "output_type": "stream",
     "text": [
      "100%|██████████████████████████████████████████████████████████████████████████████| 384/384 [00:00<00:00, 1612.20it/s]\n",
      "100%|███████████████████████████████████████████████████████████████████████████████| 384/384 [00:01<00:00, 347.30it/s]\n"
     ]
    },
    {
     "name": "stdout",
     "output_type": "stream",
     "text": [
      "Population's average fitness: 30.83333 stdev: 6.76875\n",
      "Best fitness: 74.00000 - size: (21, 140) - species 110 - id 1047\n",
      "Average adjusted fitness: 0.144\n",
      "Mean genetic distance 3.946, standard deviation 0.598\n",
      "Population of 377 members in 49 species\n",
      "Total extinctions: 0\n",
      "Generation time: 2.428 sec (8.321 average)\n",
      "\n",
      " ****** Running generation 4 ****** \n",
      "\n"
     ]
    },
    {
     "name": "stderr",
     "output_type": "stream",
     "text": [
      "100%|██████████████████████████████████████████████████████████████████████████████| 377/377 [00:00<00:00, 1687.44it/s]\n",
      "100%|███████████████████████████████████████████████████████████████████████████████| 377/377 [00:01<00:00, 346.47it/s]\n"
     ]
    },
    {
     "name": "stdout",
     "output_type": "stream",
     "text": [
      "Population's average fitness: 33.10345 stdev: 5.40973\n",
      "Best fitness: 36.00000 - size: (21, 140) - species 389 - id 1105\n",
      "Average adjusted fitness: 0.648\n",
      "Mean genetic distance 4.001, standard deviation 0.553\n",
      "Population of 383 members in 75 species\n",
      "Total extinctions: 0\n",
      "Generation time: 2.906 sec (7.238 average)\n",
      "\n",
      " ****** Running generation 5 ****** \n",
      "\n"
     ]
    },
    {
     "name": "stderr",
     "output_type": "stream",
     "text": [
      "100%|██████████████████████████████████████████████████████████████████████████████| 383/383 [00:00<00:00, 1676.74it/s]\n",
      "100%|███████████████████████████████████████████████████████████████████████████████| 383/383 [00:01<00:00, 313.59it/s]\n"
     ]
    },
    {
     "name": "stdout",
     "output_type": "stream",
     "text": [
      "Population's average fitness: 33.18277 stdev: 5.35605\n",
      "Best fitness: 36.00000 - size: (19, 126) - species 427 - id 1449\n",
      "Average adjusted fitness: 0.651\n",
      "Mean genetic distance 4.031, standard deviation 0.601\n",
      "Population of 395 members in 86 species\n",
      "Total extinctions: 0\n",
      "Generation time: 3.239 sec (6.571 average)\n",
      "\n",
      " ****** Running generation 6 ****** \n",
      "\n"
     ]
    },
    {
     "name": "stderr",
     "output_type": "stream",
     "text": [
      "100%|██████████████████████████████████████████████████████████████████████████████| 395/395 [00:00<00:00, 1370.44it/s]\n",
      "100%|███████████████████████████████████████████████████████████████████████████████| 395/395 [00:01<00:00, 327.65it/s]\n"
     ]
    },
    {
     "name": "stdout",
     "output_type": "stream",
     "text": [
      "Population's average fitness: 33.24304 stdev: 5.30695\n",
      "Best fitness: 36.00000 - size: (22, 138) - species 435 - id 1762\n",
      "Average adjusted fitness: 0.679\n",
      "Mean genetic distance 4.080, standard deviation 0.651\n",
      "Population of 377 members in 82 species\n",
      "Total extinctions: 0\n",
      "Generation time: 3.293 sec (6.103 average)\n",
      "\n",
      " ****** Running generation 7 ****** \n",
      "\n"
     ]
    },
    {
     "name": "stderr",
     "output_type": "stream",
     "text": [
      "100%|██████████████████████████████████████████████████████████████████████████████| 377/377 [00:00<00:00, 1180.94it/s]\n",
      "100%|███████████████████████████████████████████████████████████████████████████████| 377/377 [00:01<00:00, 316.21it/s]\n"
     ]
    },
    {
     "name": "stdout",
     "output_type": "stream",
     "text": [
      "Population's average fitness: 33.31034 stdev: 5.26605\n",
      "Best fitness: 36.00000 - size: (20, 131) - species 483 - id 2082\n",
      "Average adjusted fitness: 0.705\n",
      "Mean genetic distance 4.049, standard deviation 0.677\n",
      "Population of 379 members in 89 species\n",
      "Total extinctions: 0\n",
      "Generation time: 3.444 sec (5.771 average)\n",
      "\n",
      " ****** Running generation 8 ****** \n",
      "\n"
     ]
    },
    {
     "name": "stderr",
     "output_type": "stream",
     "text": [
      "100%|██████████████████████████████████████████████████████████████████████████████| 379/379 [00:00<00:00, 1711.25it/s]\n",
      "100%|███████████████████████████████████████████████████████████████████████████████| 379/379 [00:01<00:00, 287.07it/s]\n"
     ]
    },
    {
     "name": "stdout",
     "output_type": "stream",
     "text": [
      "Population's average fitness: 33.08443 stdev: 5.42235\n",
      "Best fitness: 36.00000 - size: (20, 128) - species 467 - id 2358\n",
      "Average adjusted fitness: 0.793\n",
      "Mean genetic distance 4.085, standard deviation 0.786\n",
      "Population of 373 members in 66 species\n",
      "Total extinctions: 0\n",
      "Generation time: 3.057 sec (5.469 average)\n",
      "\n",
      " ****** Running generation 9 ****** \n",
      "\n"
     ]
    },
    {
     "name": "stderr",
     "output_type": "stream",
     "text": [
      "100%|██████████████████████████████████████████████████████████████████████████████| 373/373 [00:00<00:00, 1707.63it/s]\n",
      "100%|███████████████████████████████████████████████████████████████████████████████| 373/373 [00:01<00:00, 352.34it/s]\n"
     ]
    },
    {
     "name": "stdout",
     "output_type": "stream",
     "text": [
      "Population's average fitness: 33.34853 stdev: 5.71267\n",
      "Best fitness: 74.00000 - size: (22, 131) - species 502 - id 2698\n",
      "Average adjusted fitness: 0.186\n",
      "Mean genetic distance 4.190, standard deviation 0.933\n",
      "Population of 374 members in 84 species\n",
      "Total extinctions: 0\n",
      "Generation time: 2.876 sec (5.210 average)\n",
      "\n",
      " ****** Running generation 10 ****** \n",
      "\n"
     ]
    },
    {
     "name": "stderr",
     "output_type": "stream",
     "text": [
      "100%|██████████████████████████████████████████████████████████████████████████████| 374/374 [00:00<00:00, 1647.31it/s]\n",
      "100%|███████████████████████████████████████████████████████████████████████████████| 374/374 [00:01<00:00, 350.90it/s]\n"
     ]
    },
    {
     "name": "stdout",
     "output_type": "stream",
     "text": [
      "Population's average fitness: 33.60160 stdev: 5.04250\n",
      "Best fitness: 36.00000 - size: (22, 131) - species 557 - id 2934\n",
      "Average adjusted fitness: 0.676\n",
      "Mean genetic distance 4.314, standard deviation 1.076\n",
      "Population of 392 members in 70 species\n",
      "Total extinctions: 0\n",
      "Generation time: 2.981 sec (4.199 average)\n",
      "\n",
      " ****** Running generation 11 ****** \n",
      "\n"
     ]
    },
    {
     "name": "stderr",
     "output_type": "stream",
     "text": [
      "100%|██████████████████████████████████████████████████████████████████████████████| 392/392 [00:00<00:00, 1553.38it/s]\n",
      "100%|███████████████████████████████████████████████████████████████████████████████| 392/392 [00:01<00:00, 331.22it/s]\n"
     ]
    },
    {
     "name": "stdout",
     "output_type": "stream",
     "text": [
      "Population's average fitness: 33.51786 stdev: 7.79715\n",
      "Best fitness: 133.00000 - size: (23, 129) - species 551 - id 3273\n",
      "Average adjusted fitness: 0.084\n",
      "Mean genetic distance 4.266, standard deviation 1.043\n",
      "Population of 371 members in 77 species\n",
      "Total extinctions: 0\n",
      "Generation time: 3.423 sec (3.128 average)\n",
      "\n",
      " ****** Running generation 12 ****** \n",
      "\n"
     ]
    },
    {
     "name": "stderr",
     "output_type": "stream",
     "text": [
      "100%|██████████████████████████████████████████████████████████████████████████████| 371/371 [00:00<00:00, 1382.79it/s]\n",
      "100%|███████████████████████████████████████████████████████████████████████████████| 371/371 [00:01<00:00, 301.88it/s]\n"
     ]
    },
    {
     "name": "stdout",
     "output_type": "stream",
     "text": [
      "Population's average fitness: 33.49596 stdev: 5.16330\n",
      "Best fitness: 43.00000 - size: (23, 129) - species 551 - id 3273\n",
      "Average adjusted fitness: 0.429\n",
      "Mean genetic distance 4.160, standard deviation 0.969\n",
      "Population of 374 members in 73 species\n",
      "Total extinctions: 0\n",
      "Generation time: 3.133 sec (3.078 average)\n",
      "\n",
      " ****** Running generation 13 ****** \n",
      "\n"
     ]
    },
    {
     "name": "stderr",
     "output_type": "stream",
     "text": [
      "100%|██████████████████████████████████████████████████████████████████████████████| 374/374 [00:00<00:00, 1450.18it/s]\n",
      "100%|███████████████████████████████████████████████████████████████████████████████| 374/374 [00:01<00:00, 372.72it/s]\n"
     ]
    },
    {
     "name": "stdout",
     "output_type": "stream",
     "text": [
      "Population's average fitness: 33.30481 stdev: 7.50352\n",
      "Best fitness: 133.00000 - size: (22, 131) - species 502 - id 2698\n",
      "Average adjusted fitness: 0.093\n",
      "Mean genetic distance 4.108, standard deviation 0.866\n",
      "Population of 387 members in 81 species\n",
      "Total extinctions: 0\n",
      "Generation time: 3.117 sec (3.147 average)\n",
      "\n",
      " ****** Running generation 14 ****** \n",
      "\n"
     ]
    },
    {
     "name": "stderr",
     "output_type": "stream",
     "text": [
      "100%|██████████████████████████████████████████████████████████████████████████████| 387/387 [00:00<00:00, 1338.05it/s]\n",
      "100%|███████████████████████████████████████████████████████████████████████████████| 387/387 [00:01<00:00, 316.25it/s]\n"
     ]
    },
    {
     "name": "stdout",
     "output_type": "stream",
     "text": [
      "Population's average fitness: 33.21964 stdev: 5.34696\n",
      "Best fitness: 41.00000 - size: (22, 131) - species 650 - id 2698\n",
      "Average adjusted fitness: 0.530\n",
      "Mean genetic distance 4.074, standard deviation 0.825\n",
      "Population of 390 members in 86 species\n",
      "Total extinctions: 0\n",
      "Generation time: 3.425 sec (3.199 average)\n",
      "\n",
      " ****** Running generation 15 ****** \n",
      "\n"
     ]
    },
    {
     "name": "stderr",
     "output_type": "stream",
     "text": [
      "100%|██████████████████████████████████████████████████████████████████████████████| 390/390 [00:00<00:00, 1432.48it/s]\n",
      "100%|███████████████████████████████████████████████████████████████████████████████| 390/390 [00:01<00:00, 346.89it/s]\n"
     ]
    },
    {
     "name": "stdout",
     "output_type": "stream",
     "text": [
      "Population's average fitness: 33.86154 stdev: 5.75894\n",
      "Best fitness: 74.00000 - size: (21, 115) - species 693 - id 4446\n",
      "Average adjusted fitness: 0.210\n",
      "Mean genetic distance 4.071, standard deviation 0.819\n",
      "Population of 383 members in 86 species\n",
      "Total extinctions: 0\n",
      "Generation time: 3.809 sec (3.256 average)\n",
      "\n",
      " ****** Running generation 16 ****** \n",
      "\n"
     ]
    },
    {
     "name": "stderr",
     "output_type": "stream",
     "text": [
      "100%|██████████████████████████████████████████████████████████████████████████████| 383/383 [00:00<00:00, 1910.21it/s]\n",
      "100%|███████████████████████████████████████████████████████████████████████████████| 383/383 [00:01<00:00, 372.27it/s]\n"
     ]
    },
    {
     "name": "stdout",
     "output_type": "stream",
     "text": [
      "Population's average fitness: 33.17232 stdev: 8.05118\n",
      "Best fitness: 133.00000 - size: (24, 113) - species 683 - id 4677\n",
      "Average adjusted fitness: 0.089\n",
      "Mean genetic distance 4.050, standard deviation 0.852\n",
      "Population of 370 members in 79 species\n",
      "Total extinctions: 0\n",
      "Generation time: 2.923 sec (3.219 average)\n",
      "\n",
      " ****** Running generation 17 ****** \n",
      "\n"
     ]
    },
    {
     "name": "stderr",
     "output_type": "stream",
     "text": [
      "100%|██████████████████████████████████████████████████████████████████████████████| 370/370 [00:00<00:00, 1641.31it/s]\n",
      "100%|███████████████████████████████████████████████████████████████████████████████| 370/370 [00:00<00:00, 384.18it/s]\n"
     ]
    },
    {
     "name": "stdout",
     "output_type": "stream",
     "text": [
      "Population's average fitness: 32.94054 stdev: 5.97081\n",
      "Best fitness: 74.00000 - size: (24, 113) - species 729 - id 4677\n",
      "Average adjusted fitness: 0.177\n",
      "Mean genetic distance 4.106, standard deviation 0.893\n",
      "Population of 374 members in 77 species\n",
      "Total extinctions: 0\n",
      "Generation time: 2.886 sec (3.163 average)\n",
      "\n",
      " ****** Running generation 18 ****** \n",
      "\n"
     ]
    },
    {
     "name": "stderr",
     "output_type": "stream",
     "text": [
      "100%|██████████████████████████████████████████████████████████████████████████████| 374/374 [00:00<00:00, 1912.96it/s]\n",
      "100%|███████████████████████████████████████████████████████████████████████████████| 374/374 [00:00<00:00, 382.30it/s]\n"
     ]
    },
    {
     "name": "stdout",
     "output_type": "stream",
     "text": [
      "Population's average fitness: 33.32888 stdev: 5.78874\n",
      "Best fitness: 77.00000 - size: (21, 114) - species 693 - id 4982\n",
      "Average adjusted fitness: 0.698\n",
      "Mean genetic distance 4.124, standard deviation 0.962\n",
      "Population of 379 members in 75 species\n",
      "Total extinctions: 0\n",
      "Generation time: 2.801 sec (3.137 average)\n",
      "\n",
      " ****** Running generation 19 ****** \n",
      "\n"
     ]
    },
    {
     "name": "stderr",
     "output_type": "stream",
     "text": [
      "100%|██████████████████████████████████████████████████████████████████████████████| 379/379 [00:00<00:00, 1412.49it/s]\n",
      "100%|███████████████████████████████████████████████████████████████████████████████| 379/379 [00:01<00:00, 293.83it/s]\n"
     ]
    },
    {
     "name": "stdout",
     "output_type": "stream",
     "text": [
      "Population's average fitness: 34.08971 stdev: 9.21295\n",
      "Best fitness: 172.00000 - size: (19, 105) - species 753 - id 5682\n",
      "Average adjusted fitness: 0.065\n",
      "Mean genetic distance 4.133, standard deviation 0.918\n",
      "Population of 391 members in 78 species\n",
      "Total extinctions: 0\n",
      "Generation time: 3.357 sec (3.185 average)\n",
      "\n",
      " ****** Running generation 20 ****** \n",
      "\n"
     ]
    },
    {
     "name": "stderr",
     "output_type": "stream",
     "text": [
      "100%|██████████████████████████████████████████████████████████████████████████████| 391/391 [00:00<00:00, 1306.51it/s]\n",
      "100%|███████████████████████████████████████████████████████████████████████████████| 391/391 [00:01<00:00, 358.20it/s]\n"
     ]
    },
    {
     "name": "stdout",
     "output_type": "stream",
     "text": [
      "Population's average fitness: 33.38875 stdev: 5.69581\n",
      "Best fitness: 74.00000 - size: (23, 111) - species 800 - id 6088\n",
      "Average adjusted fitness: 0.185\n",
      "Mean genetic distance 4.078, standard deviation 0.880\n",
      "Population of 377 members in 84 species\n",
      "Total extinctions: 0\n",
      "Generation time: 3.429 sec (3.230 average)\n",
      "\n",
      " ****** Running generation 21 ****** \n",
      "\n"
     ]
    },
    {
     "name": "stderr",
     "output_type": "stream",
     "text": [
      "100%|██████████████████████████████████████████████████████████████████████████████| 377/377 [00:00<00:00, 1086.21it/s]\n",
      "100%|███████████████████████████████████████████████████████████████████████████████| 377/377 [00:01<00:00, 306.52it/s]\n"
     ]
    },
    {
     "name": "stdout",
     "output_type": "stream",
     "text": [
      "Population's average fitness: 33.68966 stdev: 4.96959\n",
      "Best fitness: 36.00000 - size: (23, 120) - species 839 - id 5874\n",
      "Average adjusted fitness: 0.746\n",
      "Mean genetic distance 4.133, standard deviation 0.898\n",
      "Population of 379 members in 83 species\n",
      "Total extinctions: 0\n",
      "Generation time: 3.294 sec (3.217 average)\n",
      "\n",
      " ****** Running generation 22 ****** \n",
      "\n"
     ]
    },
    {
     "name": "stderr",
     "output_type": "stream",
     "text": [
      "100%|██████████████████████████████████████████████████████████████████████████████| 379/379 [00:00<00:00, 1530.27it/s]\n",
      "100%|███████████████████████████████████████████████████████████████████████████████| 379/379 [00:01<00:00, 309.95it/s]\n"
     ]
    },
    {
     "name": "stdout",
     "output_type": "stream",
     "text": [
      "Population's average fitness: 33.56464 stdev: 5.07234\n",
      "Best fitness: 36.00000 - size: (25, 111) - species 848 - id 6474\n",
      "Average adjusted fitness: 0.806\n",
      "Mean genetic distance 4.200, standard deviation 0.930\n",
      "Population of 383 members in 82 species\n",
      "Total extinctions: 0\n",
      "Generation time: 3.212 sec (3.225 average)\n",
      "\n",
      " ****** Running generation 23 ****** \n",
      "\n"
     ]
    },
    {
     "name": "stderr",
     "output_type": "stream",
     "text": [
      "100%|██████████████████████████████████████████████████████████████████████████████| 383/383 [00:00<00:00, 1789.53it/s]\n",
      "100%|███████████████████████████████████████████████████████████████████████████████| 383/383 [00:01<00:00, 377.89it/s]\n"
     ]
    },
    {
     "name": "stdout",
     "output_type": "stream",
     "text": [
      "Population's average fitness: 33.69191 stdev: 4.96769\n",
      "Best fitness: 36.00000 - size: (20, 100) - species 887 - id 6759\n",
      "Average adjusted fitness: 0.785\n",
      "Mean genetic distance 4.199, standard deviation 0.886\n",
      "Population of 378 members in 84 species\n",
      "Total extinctions: 0\n",
      "Generation time: 2.976 sec (3.211 average)\n",
      "\n",
      " ****** Running generation 24 ****** \n",
      "\n"
     ]
    },
    {
     "name": "stderr",
     "output_type": "stream",
     "text": [
      "100%|██████████████████████████████████████████████████████████████████████████████| 378/378 [00:00<00:00, 1849.03it/s]\n",
      "100%|███████████████████████████████████████████████████████████████████████████████| 378/378 [00:01<00:00, 343.38it/s]\n"
     ]
    },
    {
     "name": "stdout",
     "output_type": "stream",
     "text": [
      "Population's average fitness: 34.55556 stdev: 4.08551\n",
      "Best fitness: 36.00000 - size: (18, 106) - species 921 - id 7053\n",
      "Average adjusted fitness: 0.846\n",
      "Mean genetic distance 4.148, standard deviation 0.882\n",
      "Population of 376 members in 80 species\n",
      "Total extinctions: 0\n",
      "Generation time: 3.269 sec (3.196 average)\n",
      "\n",
      " ****** Running generation 25 ****** \n",
      "\n"
     ]
    },
    {
     "name": "stderr",
     "output_type": "stream",
     "text": [
      "100%|██████████████████████████████████████████████████████████████████████████████| 376/376 [00:00<00:00, 1385.88it/s]\n",
      "100%|███████████████████████████████████████████████████████████████████████████████| 376/376 [00:01<00:00, 371.82it/s]\n"
     ]
    },
    {
     "name": "stdout",
     "output_type": "stream",
     "text": [
      "Population's average fitness: 34.09840 stdev: 4.59398\n",
      "Best fitness: 36.00000 - size: (19, 101) - species 903 - id 7344\n",
      "Average adjusted fitness: 0.788\n",
      "Mean genetic distance 4.162, standard deviation 0.917\n",
      "Population of 379 members in 66 species\n",
      "Total extinctions: 0\n",
      "Generation time: 3.236 sec (3.138 average)\n",
      "\n",
      " ****** Running generation 26 ****** \n",
      "\n"
     ]
    },
    {
     "name": "stderr",
     "output_type": "stream",
     "text": [
      "100%|██████████████████████████████████████████████████████████████████████████████| 379/379 [00:00<00:00, 1709.43it/s]\n",
      "100%|███████████████████████████████████████████████████████████████████████████████| 379/379 [00:00<00:00, 395.23it/s]\n"
     ]
    },
    {
     "name": "stdout",
     "output_type": "stream",
     "text": [
      "Population's average fitness: 33.81530 stdev: 4.87930\n",
      "Best fitness: 40.00000 - size: (20, 99) - species 948 - id 7350\n",
      "Average adjusted fitness: 0.502\n",
      "Mean genetic distance 4.264, standard deviation 1.061\n",
      "Population of 383 members in 77 species\n",
      "Total extinctions: 0\n",
      "Generation time: 2.787 sec (3.125 average)\n",
      "\n",
      " ****** Running generation 27 ****** \n",
      "\n"
     ]
    },
    {
     "name": "stderr",
     "output_type": "stream",
     "text": [
      "100%|██████████████████████████████████████████████████████████████████████████████| 383/383 [00:00<00:00, 2025.70it/s]\n",
      "100%|███████████████████████████████████████████████████████████████████████████████| 383/383 [00:00<00:00, 386.31it/s]\n"
     ]
    },
    {
     "name": "stdout",
     "output_type": "stream",
     "text": [
      "Population's average fitness: 32.94517 stdev: 5.51188\n",
      "Best fitness: 36.00000 - size: (19, 93) - species 947 - id 7925\n",
      "Average adjusted fitness: 0.711\n",
      "Mean genetic distance 4.249, standard deviation 1.101\n",
      "Population of 384 members in 76 species\n",
      "Total extinctions: 0\n",
      "Generation time: 2.894 sec (3.125 average)\n",
      "\n",
      " ****** Running generation 28 ****** \n",
      "\n"
     ]
    },
    {
     "name": "stderr",
     "output_type": "stream",
     "text": [
      "100%|██████████████████████████████████████████████████████████████████████████████| 384/384 [00:00<00:00, 1946.00it/s]\n",
      "100%|███████████████████████████████████████████████████████████████████████████████| 384/384 [00:00<00:00, 387.82it/s]\n"
     ]
    },
    {
     "name": "stdout",
     "output_type": "stream",
     "text": [
      "Population's average fitness: 33.15625 stdev: 5.37418\n",
      "Best fitness: 36.00000 - size: (19, 93) - species 947 - id 7925\n",
      "Average adjusted fitness: 0.756\n",
      "Mean genetic distance 4.301, standard deviation 1.139\n",
      "Population of 379 members in 87 species\n",
      "Total extinctions: 0\n",
      "Generation time: 3.122 sec (3.158 average)\n",
      "\n",
      " ****** Running generation 29 ****** \n",
      "\n"
     ]
    },
    {
     "name": "stderr",
     "output_type": "stream",
     "text": [
      "100%|██████████████████████████████████████████████████████████████████████████████| 379/379 [00:00<00:00, 1759.25it/s]\n",
      "100%|███████████████████████████████████████████████████████████████████████████████| 379/379 [00:00<00:00, 400.47it/s]\n"
     ]
    },
    {
     "name": "stdout",
     "output_type": "stream",
     "text": [
      "Population's average fitness: 33.87335 stdev: 4.80872\n",
      "Best fitness: 36.00000 - size: (17, 86) - species 1023 - id 8549\n",
      "Average adjusted fitness: 0.833\n",
      "Mean genetic distance 4.412, standard deviation 1.237\n",
      "Population of 376 members in 71 species\n",
      "Total extinctions: 0\n",
      "Generation time: 2.558 sec (3.078 average)\n",
      "\n",
      " ****** Running generation 30 ****** \n",
      "\n"
     ]
    },
    {
     "name": "stderr",
     "output_type": "stream",
     "text": [
      "100%|██████████████████████████████████████████████████████████████████████████████| 376/376 [00:00<00:00, 1557.96it/s]\n",
      "100%|███████████████████████████████████████████████████████████████████████████████| 376/376 [00:00<00:00, 409.05it/s]\n"
     ]
    },
    {
     "name": "stdout",
     "output_type": "stream",
     "text": [
      "Population's average fitness: 33.78723 stdev: 4.88565\n",
      "Best fitness: 36.00000 - size: (22, 118) - species 1046 - id 8563\n",
      "Average adjusted fitness: 0.761\n",
      "Mean genetic distance 4.486, standard deviation 1.245\n",
      "Population of 368 members in 79 species\n",
      "Total extinctions: 0\n",
      "Generation time: 2.926 sec (3.028 average)\n",
      "\n",
      " ****** Running generation 31 ****** \n",
      "\n"
     ]
    },
    {
     "name": "stderr",
     "output_type": "stream",
     "text": [
      "100%|██████████████████████████████████████████████████████████████████████████████| 368/368 [00:00<00:00, 1895.56it/s]\n",
      "100%|███████████████████████████████████████████████████████████████████████████████| 368/368 [00:00<00:00, 369.39it/s]\n"
     ]
    },
    {
     "name": "stdout",
     "output_type": "stream",
     "text": [
      "Population's average fitness: 33.66848 stdev: 4.98736\n",
      "Best fitness: 36.00000 - size: (22, 118) - species 1046 - id 8563\n",
      "Average adjusted fitness: 0.664\n",
      "Mean genetic distance 4.585, standard deviation 1.335\n",
      "Population of 396 members in 93 species\n",
      "Total extinctions: 0\n",
      "Generation time: 3.181 sec (3.016 average)\n",
      "\n",
      " ****** Running generation 32 ****** \n",
      "\n"
     ]
    },
    {
     "name": "stderr",
     "output_type": "stream",
     "text": [
      "100%|██████████████████████████████████████████████████████████████████████████████| 396/396 [00:00<00:00, 2068.03it/s]\n",
      "100%|███████████████████████████████████████████████████████████████████████████████| 396/396 [00:00<00:00, 397.62it/s]\n"
     ]
    },
    {
     "name": "stdout",
     "output_type": "stream",
     "text": [
      "Population's average fitness: 33.11111 stdev: 5.40462\n",
      "Best fitness: 36.00000 - size: (21, 96) - species 1072 - id 9408\n",
      "Average adjusted fitness: 0.722\n",
      "Mean genetic distance 4.575, standard deviation 1.274\n",
      "Population of 377 members in 96 species\n",
      "Total extinctions: 0\n",
      "Generation time: 3.258 sec (3.021 average)\n",
      "\n",
      " ****** Running generation 33 ****** \n",
      "\n"
     ]
    },
    {
     "name": "stderr",
     "output_type": "stream",
     "text": [
      "100%|██████████████████████████████████████████████████████████████████████████████| 377/377 [00:00<00:00, 2135.27it/s]\n",
      "100%|███████████████████████████████████████████████████████████████████████████████| 377/377 [00:00<00:00, 422.59it/s]\n"
     ]
    },
    {
     "name": "stdout",
     "output_type": "stream",
     "text": [
      "Population's average fitness: 33.51724 stdev: 5.10997\n",
      "Best fitness: 36.00000 - size: (20, 81) - species 1134 - id 9725\n",
      "Average adjusted fitness: 0.739\n",
      "Mean genetic distance 4.554, standard deviation 1.220\n",
      "Population of 368 members in 90 species\n",
      "Total extinctions: 0\n",
      "Generation time: 3.048 sec (3.028 average)\n",
      "\n",
      " ****** Running generation 34 ****** \n",
      "\n"
     ]
    },
    {
     "name": "stderr",
     "output_type": "stream",
     "text": [
      "100%|██████████████████████████████████████████████████████████████████████████████| 368/368 [00:00<00:00, 1556.68it/s]\n",
      "100%|███████████████████████████████████████████████████████████████████████████████| 368/368 [00:00<00:00, 426.38it/s]\n"
     ]
    },
    {
     "name": "stdout",
     "output_type": "stream",
     "text": [
      "Population's average fitness: 33.88043 stdev: 4.80227\n",
      "Best fitness: 36.00000 - size: (20, 77) - species 1164 - id 9996\n",
      "Average adjusted fitness: 0.676\n",
      "Mean genetic distance 4.580, standard deviation 1.227\n",
      "Population of 379 members in 78 species\n",
      "Total extinctions: 0\n",
      "Generation time: 2.814 sec (2.983 average)\n",
      "\n",
      " ****** Running generation 35 ****** \n",
      "\n"
     ]
    },
    {
     "name": "stderr",
     "output_type": "stream",
     "text": [
      "100%|██████████████████████████████████████████████████████████████████████████████| 379/379 [00:00<00:00, 2000.09it/s]\n",
      "100%|███████████████████████████████████████████████████████████████████████████████| 379/379 [00:00<00:00, 385.52it/s]\n"
     ]
    },
    {
     "name": "stdout",
     "output_type": "stream",
     "text": [
      "Population's average fitness: 33.42744 stdev: 5.17931\n",
      "Best fitness: 36.00000 - size: (19, 100) - species 1170 - id 10246\n",
      "Average adjusted fitness: 0.720\n",
      "Mean genetic distance 4.501, standard deviation 1.214\n",
      "Population of 389 members in 86 species\n",
      "Total extinctions: 0\n",
      "Generation time: 3.180 sec (2.977 average)\n",
      "\n",
      " ****** Running generation 36 ****** \n",
      "\n"
     ]
    },
    {
     "name": "stderr",
     "output_type": "stream",
     "text": [
      "100%|██████████████████████████████████████████████████████████████████████████████| 389/389 [00:00<00:00, 1455.37it/s]\n",
      "100%|███████████████████████████████████████████████████████████████████████████████| 389/389 [00:00<00:00, 439.79it/s]\n"
     ]
    },
    {
     "name": "stdout",
     "output_type": "stream",
     "text": [
      "Population's average fitness: 33.45758 stdev: 5.61868\n",
      "Best fitness: 74.00000 - size: (21, 109) - species 1198 - id 10257\n",
      "Average adjusted fitness: 0.186\n",
      "Mean genetic distance 4.493, standard deviation 1.192\n",
      "Population of 385 members in 96 species\n",
      "Total extinctions: 0\n",
      "Generation time: 3.225 sec (3.021 average)\n",
      "\n",
      " ****** Running generation 37 ****** \n",
      "\n"
     ]
    },
    {
     "name": "stderr",
     "output_type": "stream",
     "text": [
      "100%|██████████████████████████████████████████████████████████████████████████████| 385/385 [00:00<00:00, 1886.99it/s]\n",
      "100%|███████████████████████████████████████████████████████████████████████████████| 385/385 [00:01<00:00, 379.58it/s]\n"
     ]
    },
    {
     "name": "stdout",
     "output_type": "stream",
     "text": [
      "Population's average fitness: 33.97403 stdev: 4.71520\n",
      "Best fitness: 36.00000 - size: (20, 81) - species 1239 - id 10847\n",
      "Average adjusted fitness: 0.751\n",
      "Mean genetic distance 4.490, standard deviation 1.198\n",
      "Population of 372 members in 98 species\n",
      "Total extinctions: 0\n",
      "Generation time: 3.153 sec (3.047 average)\n",
      "\n",
      " ****** Running generation 38 ****** \n",
      "\n"
     ]
    },
    {
     "name": "stderr",
     "output_type": "stream",
     "text": [
      "100%|██████████████████████████████████████████████████████████████████████████████| 372/372 [00:00<00:00, 1846.53it/s]\n",
      "100%|███████████████████████████████████████████████████████████████████████████████| 372/372 [00:00<00:00, 429.66it/s]\n"
     ]
    },
    {
     "name": "stdout",
     "output_type": "stream",
     "text": [
      "Population's average fitness: 33.51882 stdev: 5.10873\n",
      "Best fitness: 36.00000 - size: (20, 105) - species 1271 - id 11134\n",
      "Average adjusted fitness: 0.765\n",
      "Mean genetic distance 4.552, standard deviation 1.221\n",
      "Population of 375 members in 102 species\n",
      "Total extinctions: 0\n",
      "Generation time: 3.099 sec (3.044 average)\n",
      "\n",
      " ****** Running generation 39 ****** \n",
      "\n"
     ]
    },
    {
     "name": "stderr",
     "output_type": "stream",
     "text": [
      "100%|██████████████████████████████████████████████████████████████████████████████| 375/375 [00:00<00:00, 1999.67it/s]\n",
      "100%|███████████████████████████████████████████████████████████████████████████████| 375/375 [00:00<00:00, 464.39it/s]\n"
     ]
    },
    {
     "name": "stdout",
     "output_type": "stream",
     "text": [
      "Population's average fitness: 33.22667 stdev: 5.32559\n",
      "Best fitness: 36.00000 - size: (20, 105) - species 1271 - id 11134\n",
      "Average adjusted fitness: 0.676\n",
      "Mean genetic distance 4.566, standard deviation 1.234\n",
      "Population of 384 members in 101 species\n",
      "Total extinctions: 0\n",
      "Generation time: 3.017 sec (3.090 average)\n",
      "\n",
      " ****** Running generation 40 ****** \n",
      "\n"
     ]
    },
    {
     "name": "stderr",
     "output_type": "stream",
     "text": [
      "100%|██████████████████████████████████████████████████████████████████████████████| 384/384 [00:00<00:00, 2151.00it/s]\n",
      "100%|███████████████████████████████████████████████████████████████████████████████| 384/384 [00:00<00:00, 457.48it/s]\n"
     ]
    },
    {
     "name": "stdout",
     "output_type": "stream",
     "text": [
      "Population's average fitness: 33.29167 stdev: 5.27951\n",
      "Best fitness: 36.00000 - size: (18, 86) - species 1322 - id 11676\n",
      "Average adjusted fitness: 0.654\n",
      "Mean genetic distance 4.649, standard deviation 1.251\n",
      "Population of 392 members in 90 species\n",
      "Total extinctions: 0\n",
      "Generation time: 3.015 sec (3.099 average)\n",
      "\n",
      " ****** Running generation 41 ****** \n",
      "\n"
     ]
    },
    {
     "name": "stderr",
     "output_type": "stream",
     "text": [
      "100%|██████████████████████████████████████████████████████████████████████████████| 392/392 [00:00<00:00, 2396.16it/s]\n",
      "100%|███████████████████████████████████████████████████████████████████████████████| 392/392 [00:00<00:00, 426.54it/s]\n"
     ]
    },
    {
     "name": "stdout",
     "output_type": "stream",
     "text": [
      "Population's average fitness: 33.21429 stdev: 5.33424\n",
      "Best fitness: 36.00000 - size: (17, 66) - species 1398 - id 11949\n",
      "Average adjusted fitness: 0.741\n",
      "Mean genetic distance 4.603, standard deviation 1.209\n",
      "Population of 390 members in 84 species\n",
      "Total extinctions: 0\n",
      "Generation time: 2.978 sec (3.079 average)\n",
      "\n",
      " ****** Running generation 42 ****** \n",
      "\n"
     ]
    },
    {
     "name": "stderr",
     "output_type": "stream",
     "text": [
      "100%|██████████████████████████████████████████████████████████████████████████████| 390/390 [00:00<00:00, 2300.76it/s]\n",
      "100%|███████████████████████████████████████████████████████████████████████████████| 390/390 [00:00<00:00, 455.18it/s]\n"
     ]
    },
    {
     "name": "stdout",
     "output_type": "stream",
     "text": [
      "Population's average fitness: 33.56667 stdev: 5.07072\n",
      "Best fitness: 36.00000 - size: (23, 81) - species 1402 - id 12240\n",
      "Average adjusted fitness: 0.817\n",
      "Mean genetic distance 4.557, standard deviation 1.149\n",
      "Population of 371 members in 87 species\n",
      "Total extinctions: 0\n",
      "Generation time: 3.020 sec (3.055 average)\n",
      "\n",
      " ****** Running generation 43 ****** \n",
      "\n"
     ]
    },
    {
     "name": "stderr",
     "output_type": "stream",
     "text": [
      "100%|██████████████████████████████████████████████████████████████████████████████| 371/371 [00:00<00:00, 1638.60it/s]\n",
      "100%|███████████████████████████████████████████████████████████████████████████████| 371/371 [00:01<00:00, 358.78it/s]\n"
     ]
    },
    {
     "name": "stdout",
     "output_type": "stream",
     "text": [
      "Population's average fitness: 34.42318 stdev: 4.24409\n",
      "Best fitness: 36.00000 - size: (23, 81) - species 1402 - id 12240\n",
      "Average adjusted fitness: 0.766\n",
      "Mean genetic distance 4.639, standard deviation 1.206\n",
      "Population of 365 members in 86 species\n",
      "Total extinctions: 0\n",
      "Generation time: 3.162 sec (3.066 average)\n",
      "\n",
      " ****** Running generation 44 ****** \n",
      "\n"
     ]
    },
    {
     "name": "stderr",
     "output_type": "stream",
     "text": [
      "100%|██████████████████████████████████████████████████████████████████████████████| 365/365 [00:00<00:00, 1550.75it/s]\n",
      "100%|███████████████████████████████████████████████████████████████████████████████| 365/365 [00:00<00:00, 405.88it/s]\n"
     ]
    },
    {
     "name": "stdout",
     "output_type": "stream",
     "text": [
      "Population's average fitness: 33.61370 stdev: 5.03264\n",
      "Best fitness: 36.00000 - size: (22, 78) - species 1463 - id 12817\n",
      "Average adjusted fitness: 0.687\n",
      "Mean genetic distance 4.698, standard deviation 1.269\n",
      "Population of 371 members in 96 species\n",
      "Total extinctions: 0\n",
      "Generation time: 2.712 sec (3.056 average)\n",
      "\n",
      " ****** Running generation 45 ****** \n",
      "\n"
     ]
    },
    {
     "name": "stderr",
     "output_type": "stream",
     "text": [
      "100%|██████████████████████████████████████████████████████████████████████████████| 371/371 [00:00<00:00, 1994.32it/s]\n",
      "100%|███████████████████████████████████████████████████████████████████████████████| 371/371 [00:00<00:00, 433.30it/s]\n"
     ]
    },
    {
     "name": "stdout",
     "output_type": "stream",
     "text": [
      "Population's average fitness: 33.26685 stdev: 5.29725\n",
      "Best fitness: 36.00000 - size: (22, 78) - species 1463 - id 12817\n",
      "Average adjusted fitness: 0.689\n",
      "Mean genetic distance 4.616, standard deviation 1.262\n",
      "Population of 369 members in 87 species\n",
      "Total extinctions: 0\n",
      "Generation time: 2.767 sec (3.015 average)\n",
      "\n",
      " ****** Running generation 46 ****** \n",
      "\n"
     ]
    },
    {
     "name": "stderr",
     "output_type": "stream",
     "text": [
      "100%|██████████████████████████████████████████████████████████████████████████████| 369/369 [00:00<00:00, 2222.92it/s]\n",
      "100%|███████████████████████████████████████████████████████████████████████████████| 369/369 [00:00<00:00, 458.08it/s]\n"
     ]
    },
    {
     "name": "stdout",
     "output_type": "stream",
     "text": [
      "Population's average fitness: 33.07588 stdev: 5.42799\n",
      "Best fitness: 36.00000 - size: (20, 77) - species 1509 - id 13370\n",
      "Average adjusted fitness: 0.669\n",
      "Mean genetic distance 4.558, standard deviation 1.202\n",
      "Population of 372 members in 84 species\n",
      "Total extinctions: 0\n",
      "Generation time: 2.563 sec (2.949 average)\n",
      "\n",
      " ****** Running generation 47 ****** \n",
      "\n"
     ]
    },
    {
     "name": "stderr",
     "output_type": "stream",
     "text": [
      "100%|██████████████████████████████████████████████████████████████████████████████| 372/372 [00:00<00:00, 2000.30it/s]\n",
      "100%|███████████████████████████████████████████████████████████████████████████████| 372/372 [00:00<00:00, 418.12it/s]\n"
     ]
    },
    {
     "name": "stdout",
     "output_type": "stream",
     "text": [
      "Population's average fitness: 33.72849 stdev: 4.93658\n",
      "Best fitness: 36.00000 - size: (17, 64) - species 1558 - id 13644\n",
      "Average adjusted fitness: 0.693\n",
      "Mean genetic distance 4.446, standard deviation 1.172\n",
      "Population of 384 members in 70 species\n",
      "Total extinctions: 0\n",
      "Generation time: 2.544 sec (2.888 average)\n",
      "\n",
      " ****** Running generation 48 ****** \n",
      "\n"
     ]
    },
    {
     "name": "stderr",
     "output_type": "stream",
     "text": [
      "100%|██████████████████████████████████████████████████████████████████████████████| 384/384 [00:00<00:00, 2647.73it/s]\n",
      "100%|███████████████████████████████████████████████████████████████████████████████| 384/384 [00:00<00:00, 453.23it/s]\n"
     ]
    },
    {
     "name": "stdout",
     "output_type": "stream",
     "text": [
      "Population's average fitness: 33.29167 stdev: 5.27951\n",
      "Best fitness: 36.00000 - size: (19, 77) - species 1548 - id 13909\n",
      "Average adjusted fitness: 0.677\n",
      "Mean genetic distance 4.573, standard deviation 1.269\n",
      "Population of 377 members in 86 species\n",
      "Total extinctions: 0\n",
      "Generation time: 2.724 sec (2.850 average)\n",
      "\n",
      " ****** Running generation 49 ****** \n",
      "\n"
     ]
    },
    {
     "name": "stderr",
     "output_type": "stream",
     "text": [
      "100%|██████████████████████████████████████████████████████████████████████████████| 377/377 [00:00<00:00, 2482.49it/s]\n",
      "100%|███████████████████████████████████████████████████████████████████████████████| 377/377 [00:00<00:00, 479.71it/s]\n"
     ]
    },
    {
     "name": "stdout",
     "output_type": "stream",
     "text": [
      "Population's average fitness: 34.06897 stdev: 4.62326\n",
      "Best fitness: 36.00000 - size: (18, 75) - species 1633 - id 14232\n",
      "Average adjusted fitness: 0.734\n",
      "Mean genetic distance 4.609, standard deviation 1.311\n",
      "Population of 378 members in 89 species\n",
      "Total extinctions: 0\n",
      "Generation time: 2.648 sec (2.813 average)\n",
      "\n",
      " ****** Running generation 50 ****** \n",
      "\n"
     ]
    },
    {
     "name": "stderr",
     "output_type": "stream",
     "text": [
      "100%|██████████████████████████████████████████████████████████████████████████████| 378/378 [00:00<00:00, 1791.71it/s]\n",
      "100%|███████████████████████████████████████████████████████████████████████████████| 378/378 [00:00<00:00, 486.15it/s]\n"
     ]
    },
    {
     "name": "stdout",
     "output_type": "stream",
     "text": [
      "Population's average fitness: 34.00529 stdev: 4.68533\n",
      "Best fitness: 36.00000 - size: (19, 83) - species 1613 - id 14524\n",
      "Average adjusted fitness: 0.753\n",
      "Mean genetic distance 4.631, standard deviation 1.295\n",
      "Population of 372 members in 91 species\n",
      "Total extinctions: 0\n",
      "Generation time: 2.684 sec (2.780 average)\n",
      "\n",
      " ****** Running generation 51 ****** \n",
      "\n"
     ]
    },
    {
     "name": "stderr",
     "output_type": "stream",
     "text": [
      "100%|██████████████████████████████████████████████████████████████████████████████| 372/372 [00:00<00:00, 2497.40it/s]\n",
      "100%|███████████████████████████████████████████████████████████████████████████████| 372/372 [00:00<00:00, 477.57it/s]\n"
     ]
    },
    {
     "name": "stdout",
     "output_type": "stream",
     "text": [
      "Population's average fitness: 34.14785 stdev: 4.54395\n",
      "Best fitness: 36.00000 - size: (19, 83) - species 1613 - id 14524\n",
      "Average adjusted fitness: 0.743\n",
      "Mean genetic distance 4.794, standard deviation 1.367\n",
      "Population of 393 members in 91 species\n",
      "Total extinctions: 0\n",
      "Generation time: 2.904 sec (2.773 average)\n",
      "\n",
      " ****** Running generation 52 ****** \n",
      "\n"
     ]
    },
    {
     "name": "stderr",
     "output_type": "stream",
     "text": [
      "100%|██████████████████████████████████████████████████████████████████████████████| 393/393 [00:00<00:00, 2283.75it/s]\n",
      "100%|███████████████████████████████████████████████████████████████████████████████| 393/393 [00:00<00:00, 484.09it/s]\n"
     ]
    },
    {
     "name": "stdout",
     "output_type": "stream",
     "text": [
      "Population's average fitness: 34.04835 stdev: 4.64355\n",
      "Best fitness: 36.00000 - size: (22, 65) - species 1691 - id 15090\n",
      "Average adjusted fitness: 0.795\n",
      "Mean genetic distance 4.748, standard deviation 1.298\n",
      "Population of 381 members in 96 species\n",
      "Total extinctions: 0\n",
      "Generation time: 2.966 sec (2.767 average)\n",
      "\n",
      " ****** Running generation 53 ****** \n",
      "\n"
     ]
    },
    {
     "name": "stderr",
     "output_type": "stream",
     "text": [
      "100%|██████████████████████████████████████████████████████████████████████████████| 381/381 [00:00<00:00, 1759.94it/s]\n",
      "100%|███████████████████████████████████████████████████████████████████████████████| 381/381 [00:00<00:00, 482.34it/s]\n"
     ]
    },
    {
     "name": "stdout",
     "output_type": "stream",
     "text": [
      "Population's average fitness: 34.15748 stdev: 4.53408\n",
      "Best fitness: 36.00000 - size: (20, 86) - species 1705 - id 15389\n",
      "Average adjusted fitness: 0.822\n",
      "Mean genetic distance 4.901, standard deviation 1.346\n",
      "Population of 382 members in 112 species\n",
      "Total extinctions: 0\n",
      "Generation time: 3.164 sec (2.768 average)\n",
      "\n",
      " ****** Running generation 54 ****** \n",
      "\n"
     ]
    },
    {
     "name": "stderr",
     "output_type": "stream",
     "text": [
      "100%|██████████████████████████████████████████████████████████████████████████████| 382/382 [00:00<00:00, 2659.28it/s]\n",
      "100%|███████████████████████████████████████████████████████████████████████████████| 382/382 [00:00<00:00, 480.38it/s]\n"
     ]
    },
    {
     "name": "stdout",
     "output_type": "stream",
     "text": [
      "Population's average fitness: 34.33246 stdev: 4.34711\n",
      "Best fitness: 36.00000 - size: (19, 84) - species 1748 - id 15670\n",
      "Average adjusted fitness: 0.815\n",
      "Mean genetic distance 4.995, standard deviation 1.396\n",
      "Population of 381 members in 99 species\n",
      "Total extinctions: 0\n",
      "Generation time: 3.039 sec (2.800 average)\n",
      "\n",
      " ****** Running generation 55 ****** \n",
      "\n"
     ]
    },
    {
     "name": "stderr",
     "output_type": "stream",
     "text": [
      "100%|██████████████████████████████████████████████████████████████████████████████| 381/381 [00:00<00:00, 2659.30it/s]\n",
      "100%|███████████████████████████████████████████████████████████████████████████████| 381/381 [00:00<00:00, 512.83it/s]\n"
     ]
    },
    {
     "name": "stdout",
     "output_type": "stream",
     "text": [
      "Population's average fitness: 33.95276 stdev: 4.73529\n",
      "Best fitness: 36.00000 - size: (21, 75) - species 1792 - id 15936\n",
      "Average adjusted fitness: 0.770\n",
      "Mean genetic distance 5.003, standard deviation 1.390\n",
      "Population of 386 members in 94 species\n",
      "Total extinctions: 0\n",
      "Generation time: 3.130 sec (2.837 average)\n",
      "\n",
      " ****** Running generation 56 ****** \n",
      "\n"
     ]
    },
    {
     "name": "stderr",
     "output_type": "stream",
     "text": [
      "100%|██████████████████████████████████████████████████████████████████████████████| 386/386 [00:00<00:00, 1566.71it/s]\n",
      "100%|███████████████████████████████████████████████████████████████████████████████| 386/386 [00:00<00:00, 495.76it/s]\n"
     ]
    },
    {
     "name": "stdout",
     "output_type": "stream",
     "text": [
      "Population's average fitness: 33.87824 stdev: 4.80427\n",
      "Best fitness: 36.00000 - size: (20, 88) - species 1811 - id 16205\n",
      "Average adjusted fitness: 0.739\n",
      "Mean genetic distance 4.838, standard deviation 1.307\n",
      "Population of 388 members in 86 species\n",
      "Total extinctions: 0\n",
      "Generation time: 3.004 sec (2.881 average)\n",
      "\n",
      " ****** Running generation 57 ****** \n",
      "\n"
     ]
    },
    {
     "name": "stderr",
     "output_type": "stream",
     "text": [
      "100%|██████████████████████████████████████████████████████████████████████████████| 388/388 [00:00<00:00, 2509.91it/s]\n",
      "100%|███████████████████████████████████████████████████████████████████████████████| 388/388 [00:00<00:00, 527.36it/s]\n"
     ]
    },
    {
     "name": "stdout",
     "output_type": "stream",
     "text": [
      "Population's average fitness: 33.95619 stdev: 4.73206\n",
      "Best fitness: 36.00000 - size: (16, 72) - species 1844 - id 16489\n",
      "Average adjusted fitness: 0.767\n",
      "Mean genetic distance 4.764, standard deviation 1.260\n",
      "Population of 378 members in 92 species\n",
      "Total extinctions: 0\n",
      "Generation time: 2.921 sec (2.918 average)\n",
      "\n",
      " ****** Running generation 58 ****** \n",
      "\n"
     ]
    },
    {
     "name": "stderr",
     "output_type": "stream",
     "text": [
      "100%|██████████████████████████████████████████████████████████████████████████████| 378/378 [00:00<00:00, 2786.18it/s]\n",
      "100%|███████████████████████████████████████████████████████████████████████████████| 378/378 [00:00<00:00, 508.37it/s]\n"
     ]
    },
    {
     "name": "stdout",
     "output_type": "stream",
     "text": [
      "Population's average fitness: 34.31481 stdev: 4.36664\n",
      "Best fitness: 36.00000 - size: (24, 70) - species 1872 - id 16781\n",
      "Average adjusted fitness: 0.783\n",
      "Mean genetic distance 4.803, standard deviation 1.242\n",
      "Population of 369 members in 88 species\n",
      "Total extinctions: 0\n",
      "Generation time: 2.683 sec (2.914 average)\n",
      "\n",
      " ****** Running generation 59 ****** \n",
      "\n"
     ]
    },
    {
     "name": "stderr",
     "output_type": "stream",
     "text": [
      "100%|██████████████████████████████████████████████████████████████████████████████| 369/369 [00:00<00:00, 2680.44it/s]\n",
      "100%|███████████████████████████████████████████████████████████████████████████████| 369/369 [00:00<00:00, 461.00it/s]\n"
     ]
    },
    {
     "name": "stdout",
     "output_type": "stream",
     "text": [
      "Population's average fitness: 33.63957 stdev: 5.01139\n",
      "Best fitness: 36.00000 - size: (19, 78) - species 1867 - id 17061\n",
      "Average adjusted fitness: 0.751\n",
      "Mean genetic distance 4.817, standard deviation 1.240\n",
      "Population of 379 members in 83 species\n",
      "Total extinctions: 0\n",
      "Generation time: 2.912 sec (2.941 average)\n",
      "\n",
      " ****** Running generation 60 ****** \n",
      "\n"
     ]
    },
    {
     "name": "stderr",
     "output_type": "stream",
     "text": [
      "100%|██████████████████████████████████████████████████████████████████████████████| 379/379 [00:00<00:00, 2889.89it/s]\n",
      "100%|███████████████████████████████████████████████████████████████████████████████| 379/379 [00:00<00:00, 538.72it/s]\n"
     ]
    },
    {
     "name": "stdout",
     "output_type": "stream",
     "text": [
      "Population's average fitness: 33.94195 stdev: 4.74542\n",
      "Best fitness: 36.00000 - size: (21, 79) - species 1916 - id 17338\n",
      "Average adjusted fitness: 0.759\n",
      "Mean genetic distance 4.936, standard deviation 1.219\n",
      "Population of 391 members in 89 species\n",
      "Total extinctions: 0\n",
      "Generation time: 2.650 sec (2.937 average)\n",
      "\n",
      " ****** Running generation 61 ****** \n",
      "\n"
     ]
    },
    {
     "name": "stderr",
     "output_type": "stream",
     "text": [
      "100%|██████████████████████████████████████████████████████████████████████████████| 391/391 [00:00<00:00, 2153.73it/s]\n",
      "100%|███████████████████████████████████████████████████████████████████████████████| 391/391 [00:00<00:00, 537.05it/s]\n"
     ]
    },
    {
     "name": "stdout",
     "output_type": "stream",
     "text": [
      "Population's average fitness: 34.05115 stdev: 4.66553\n",
      "Best fitness: 41.00000 - size: (18, 65) - species 1973 - id 17916\n",
      "Average adjusted fitness: 0.568\n",
      "Mean genetic distance 5.002, standard deviation 1.214\n",
      "Population of 384 members in 89 species\n",
      "Total extinctions: 0\n",
      "Generation time: 2.868 sec (2.934 average)\n",
      "\n",
      " ****** Running generation 62 ****** \n",
      "\n"
     ]
    },
    {
     "name": "stderr",
     "output_type": "stream",
     "text": [
      "100%|██████████████████████████████████████████████████████████████████████████████| 384/384 [00:00<00:00, 2894.95it/s]\n",
      "100%|███████████████████████████████████████████████████████████████████████████████| 384/384 [00:00<00:00, 565.39it/s]\n"
     ]
    },
    {
     "name": "stdout",
     "output_type": "stream",
     "text": [
      "Population's average fitness: 33.96875 stdev: 4.72020\n",
      "Best fitness: 36.00000 - size: (19, 66) - species 1998 - id 17941\n",
      "Average adjusted fitness: 0.799\n",
      "Mean genetic distance 5.031, standard deviation 1.197\n",
      "Population of 372 members in 94 species\n",
      "Total extinctions: 0\n",
      "Generation time: 2.746 sec (2.912 average)\n",
      "\n",
      " ****** Running generation 63 ****** \n",
      "\n"
     ]
    },
    {
     "name": "stderr",
     "output_type": "stream",
     "text": [
      "100%|██████████████████████████████████████████████████████████████████████████████| 372/372 [00:00<00:00, 2406.39it/s]\n",
      "100%|███████████████████████████████████████████████████████████████████████████████| 372/372 [00:00<00:00, 524.94it/s]\n"
     ]
    },
    {
     "name": "stdout",
     "output_type": "stream",
     "text": [
      "Population's average fitness: 34.14785 stdev: 4.54395\n",
      "Best fitness: 36.00000 - size: (19, 66) - species 1998 - id 17941\n",
      "Average adjusted fitness: 0.847\n",
      "Mean genetic distance 5.074, standard deviation 1.230\n",
      "Population of 394 members in 84 species\n",
      "Total extinctions: 0\n",
      "Generation time: 2.647 sec (2.860 average)\n",
      "\n",
      " ****** Running generation 64 ****** \n",
      "\n"
     ]
    },
    {
     "name": "stderr",
     "output_type": "stream",
     "text": [
      "100%|██████████████████████████████████████████████████████████████████████████████| 394/394 [00:00<00:00, 3125.36it/s]\n",
      "100%|███████████████████████████████████████████████████████████████████████████████| 394/394 [00:00<00:00, 546.03it/s]\n"
     ]
    },
    {
     "name": "stdout",
     "output_type": "stream",
     "text": [
      "Population's average fitness: 33.76650 stdev: 4.92134\n",
      "Best fitness: 40.00000 - size: (18, 65) - species 2038 - id 17916\n",
      "Average adjusted fitness: 0.535\n",
      "Mean genetic distance 5.082, standard deviation 1.243\n",
      "Population of 377 members in 94 species\n",
      "Total extinctions: 0\n",
      "Generation time: 2.773 sec (2.833 average)\n",
      "\n",
      " ****** Running generation 65 ****** \n",
      "\n"
     ]
    },
    {
     "name": "stderr",
     "output_type": "stream",
     "text": [
      "100%|██████████████████████████████████████████████████████████████████████████████| 377/377 [00:00<00:00, 2499.55it/s]\n",
      "100%|███████████████████████████████████████████████████████████████████████████████| 377/377 [00:00<00:00, 462.67it/s]\n"
     ]
    },
    {
     "name": "stdout",
     "output_type": "stream",
     "text": [
      "Population's average fitness: 33.65517 stdev: 4.99845\n",
      "Best fitness: 36.00000 - size: (19, 66) - species 2090 - id 18799\n",
      "Average adjusted fitness: 0.669\n",
      "Mean genetic distance 5.154, standard deviation 1.247\n",
      "Population of 374 members in 88 species\n",
      "Total extinctions: 0\n",
      "Generation time: 3.050 sec (2.825 average)\n",
      "\n",
      " ****** Running generation 66 ****** \n",
      "\n"
     ]
    },
    {
     "name": "stderr",
     "output_type": "stream",
     "text": [
      "100%|██████████████████████████████████████████████████████████████████████████████| 374/374 [00:00<00:00, 2435.11it/s]\n",
      "100%|███████████████████████████████████████████████████████████████████████████████| 374/374 [00:00<00:00, 430.52it/s]\n"
     ]
    },
    {
     "name": "stdout",
     "output_type": "stream",
     "text": [
      "Population's average fitness: 33.04545 stdev: 5.44791\n",
      "Best fitness: 36.00000 - size: (18, 64) - species 2085 - id 19083\n",
      "Average adjusted fitness: 0.688\n",
      "Mean genetic distance 5.019, standard deviation 1.184\n",
      "Population of 381 members in 99 species\n",
      "Total extinctions: 0\n",
      "Generation time: 3.104 sec (2.835 average)\n",
      "\n",
      " ****** Running generation 67 ****** \n",
      "\n"
     ]
    },
    {
     "name": "stderr",
     "output_type": "stream",
     "text": [
      "100%|██████████████████████████████████████████████████████████████████████████████| 381/381 [00:00<00:00, 3018.12it/s]\n",
      "100%|███████████████████████████████████████████████████████████████████████████████| 381/381 [00:00<00:00, 571.00it/s]\n"
     ]
    },
    {
     "name": "stdout",
     "output_type": "stream",
     "text": [
      "Population's average fitness: 33.81365 stdev: 5.35995\n",
      "Best fitness: 74.00000 - size: (15, 54) - species 2112 - id 19464\n",
      "Average adjusted fitness: 0.182\n",
      "Mean genetic distance 5.044, standard deviation 1.204\n",
      "Population of 396 members in 84 species\n",
      "Total extinctions: 0\n",
      "Generation time: 2.662 sec (2.809 average)\n",
      "\n",
      " ****** Running generation 68 ****** \n",
      "\n"
     ]
    },
    {
     "name": "stderr",
     "output_type": "stream",
     "text": [
      "100%|██████████████████████████████████████████████████████████████████████████████| 396/396 [00:00<00:00, 2181.76it/s]\n",
      "100%|███████████████████████████████████████████████████████████████████████████████| 396/396 [00:00<00:00, 579.84it/s]\n"
     ]
    },
    {
     "name": "stdout",
     "output_type": "stream",
     "text": [
      "Population's average fitness: 33.22475 stdev: 5.45343\n",
      "Best fitness: 53.00000 - size: (18, 65) - species 2085 - id 19654\n",
      "Average adjusted fitness: 0.325\n",
      "Mean genetic distance 5.043, standard deviation 1.149\n",
      "Population of 386 members in 96 species\n",
      "Total extinctions: 0\n",
      "Generation time: 2.910 sec (2.832 average)\n",
      "\n",
      " ****** Running generation 69 ****** \n",
      "\n"
     ]
    },
    {
     "name": "stderr",
     "output_type": "stream",
     "text": [
      "100%|██████████████████████████████████████████████████████████████████████████████| 386/386 [00:00<00:00, 2725.58it/s]\n",
      "100%|███████████████████████████████████████████████████████████████████████████████| 386/386 [00:00<00:00, 568.23it/s]\n"
     ]
    },
    {
     "name": "stdout",
     "output_type": "stream",
     "text": [
      "Population's average fitness: 34.02073 stdev: 4.79741\n",
      "Best fitness: 52.00000 - size: (18, 65) - species 2085 - id 19654\n",
      "Average adjusted fitness: 0.350\n",
      "Mean genetic distance 5.239, standard deviation 1.147\n",
      "Population of 395 members in 96 species\n",
      "Total extinctions: 0\n",
      "Generation time: 3.068 sec (2.848 average)\n",
      "\n",
      " ****** Running generation 70 ****** \n",
      "\n"
     ]
    },
    {
     "name": "stderr",
     "output_type": "stream",
     "text": [
      "100%|██████████████████████████████████████████████████████████████████████████████| 395/395 [00:00<00:00, 2329.23it/s]\n",
      "100%|███████████████████████████████████████████████████████████████████████████████| 395/395 [00:00<00:00, 411.12it/s]\n"
     ]
    },
    {
     "name": "stdout",
     "output_type": "stream",
     "text": [
      "Population's average fitness: 33.92405 stdev: 4.82444\n",
      "Best fitness: 44.00000 - size: (18, 65) - species 2252 - id 19654\n",
      "Average adjusted fitness: 0.478\n",
      "Mean genetic distance 5.424, standard deviation 1.096\n",
      "Population of 382 members in 106 species\n",
      "Total extinctions: 0\n",
      "Generation time: 3.426 sec (2.925 average)\n",
      "\n",
      " ****** Running generation 71 ****** \n",
      "\n"
     ]
    },
    {
     "name": "stderr",
     "output_type": "stream",
     "text": [
      "100%|██████████████████████████████████████████████████████████████████████████████| 382/382 [00:00<00:00, 2725.27it/s]\n",
      "100%|███████████████████████████████████████████████████████████████████████████████| 382/382 [00:00<00:00, 506.62it/s]\n"
     ]
    },
    {
     "name": "stdout",
     "output_type": "stream",
     "text": [
      "Population's average fitness: 33.88220 stdev: 4.86296\n",
      "Best fitness: 46.00000 - size: (18, 65) - species 2252 - id 19654\n",
      "Average adjusted fitness: 0.425\n",
      "Mean genetic distance 5.491, standard deviation 1.075\n",
      "Population of 379 members in 117 species\n",
      "Total extinctions: 0\n",
      "Generation time: 3.290 sec (2.968 average)\n",
      "\n",
      " ****** Running generation 72 ****** \n",
      "\n"
     ]
    },
    {
     "name": "stderr",
     "output_type": "stream",
     "text": [
      "100%|██████████████████████████████████████████████████████████████████████████████| 379/379 [00:00<00:00, 3443.26it/s]\n",
      "100%|███████████████████████████████████████████████████████████████████████████████| 379/379 [00:00<00:00, 609.68it/s]\n"
     ]
    },
    {
     "name": "stdout",
     "output_type": "stream",
     "text": [
      "Population's average fitness: 33.71768 stdev: 4.97614\n",
      "Best fitness: 42.00000 - size: (18, 65) - species 2252 - id 19654\n",
      "Average adjusted fitness: 0.515\n",
      "Mean genetic distance 5.515, standard deviation 1.100\n",
      "Population of 397 members in 108 species\n",
      "Total extinctions: 0\n",
      "Generation time: 3.002 sec (2.993 average)\n",
      "\n",
      " ****** Running generation 73 ****** \n",
      "\n"
     ]
    },
    {
     "name": "stderr",
     "output_type": "stream",
     "text": [
      "100%|██████████████████████████████████████████████████████████████████████████████| 397/397 [00:00<00:00, 3601.13it/s]\n",
      "100%|███████████████████████████████████████████████████████████████████████████████| 397/397 [00:00<00:00, 611.46it/s]\n"
     ]
    },
    {
     "name": "stdout",
     "output_type": "stream",
     "text": [
      "Population's average fitness: 33.83879 stdev: 4.83993\n",
      "Best fitness: 36.00000 - size: (19, 54) - species 2339 - id 21065\n",
      "Average adjusted fitness: 0.746\n",
      "Mean genetic distance 5.503, standard deviation 1.086\n",
      "Population of 383 members in 116 species\n",
      "Total extinctions: 0\n",
      "Generation time: 3.149 sec (3.044 average)\n",
      "\n",
      " ****** Running generation 74 ****** \n",
      "\n"
     ]
    },
    {
     "name": "stderr",
     "output_type": "stream",
     "text": [
      "100%|██████████████████████████████████████████████████████████████████████████████| 383/383 [00:00<00:00, 3072.17it/s]\n",
      "100%|███████████████████████████████████████████████████████████████████████████████| 383/383 [00:00<00:00, 603.24it/s]\n"
     ]
    },
    {
     "name": "stdout",
     "output_type": "stream",
     "text": [
      "Population's average fitness: 33.65796 stdev: 4.99613\n",
      "Best fitness: 36.00000 - size: (19, 54) - species 2339 - id 21065\n",
      "Average adjusted fitness: 0.790\n",
      "Mean genetic distance 5.441, standard deviation 1.045\n",
      "Population of 387 members in 111 species\n",
      "Total extinctions: 0\n",
      "Generation time: 2.983 sec (3.065 average)\n",
      "\n",
      " ****** Running generation 75 ****** \n",
      "\n"
     ]
    },
    {
     "name": "stderr",
     "output_type": "stream",
     "text": [
      "100%|██████████████████████████████████████████████████████████████████████████████| 387/387 [00:00<00:00, 3180.66it/s]\n",
      "100%|███████████████████████████████████████████████████████████████████████████████| 387/387 [00:00<00:00, 592.50it/s]\n"
     ]
    },
    {
     "name": "stdout",
     "output_type": "stream",
     "text": [
      "Population's average fitness: 33.98450 stdev: 4.70524\n",
      "Best fitness: 36.00000 - size: (17, 42) - species 2401 - id 21607\n",
      "Average adjusted fitness: 0.785\n",
      "Mean genetic distance 5.444, standard deviation 1.047\n",
      "Population of 378 members in 109 species\n",
      "Total extinctions: 0\n",
      "Generation time: 2.947 sec (3.054 average)\n",
      "\n",
      " ****** Running generation 76 ****** \n",
      "\n"
     ]
    },
    {
     "name": "stderr",
     "output_type": "stream",
     "text": [
      "100%|██████████████████████████████████████████████████████████████████████████████| 378/378 [00:00<00:00, 3613.75it/s]\n",
      "100%|███████████████████████████████████████████████████████████████████████████████| 378/378 [00:00<00:00, 623.87it/s]\n"
     ]
    },
    {
     "name": "stdout",
     "output_type": "stream",
     "text": [
      "Population's average fitness: 34.03968 stdev: 4.65202\n",
      "Best fitness: 36.00000 - size: (18, 63) - species 2438 - id 21882\n",
      "Average adjusted fitness: 0.777\n",
      "Mean genetic distance 5.352, standard deviation 1.057\n",
      "Population of 374 members in 107 species\n",
      "Total extinctions: 0\n",
      "Generation time: 2.715 sec (3.015 average)\n",
      "\n",
      " ****** Running generation 77 ****** \n",
      "\n"
     ]
    },
    {
     "name": "stderr",
     "output_type": "stream",
     "text": [
      "100%|██████████████████████████████████████████████████████████████████████████████| 374/374 [00:00<00:00, 3676.52it/s]\n",
      "100%|███████████████████████████████████████████████████████████████████████████████| 374/374 [00:00<00:00, 660.22it/s]\n"
     ]
    },
    {
     "name": "stdout",
     "output_type": "stream",
     "text": [
      "Population's average fitness: 33.60160 stdev: 5.04250\n",
      "Best fitness: 36.00000 - size: (18, 63) - species 2438 - id 21882\n",
      "Average adjusted fitness: 0.788\n",
      "Mean genetic distance 5.294, standard deviation 1.089\n",
      "Population of 378 members in 87 species\n",
      "Total extinctions: 0\n",
      "Generation time: 2.399 sec (2.989 average)\n",
      "\n",
      " ****** Running generation 78 ****** \n",
      "\n"
     ]
    },
    {
     "name": "stderr",
     "output_type": "stream",
     "text": [
      "100%|██████████████████████████████████████████████████████████████████████████████| 378/378 [00:00<00:00, 4164.96it/s]\n",
      "100%|███████████████████████████████████████████████████████████████████████████████| 378/378 [00:00<00:00, 692.21it/s]\n"
     ]
    },
    {
     "name": "stdout",
     "output_type": "stream",
     "text": [
      "Population's average fitness: 34.03968 stdev: 4.65202\n",
      "Best fitness: 36.00000 - size: (19, 43) - species 2498 - id 22392\n",
      "Average adjusted fitness: 0.806\n",
      "Mean genetic distance 5.321, standard deviation 1.101\n",
      "Population of 385 members in 100 species\n",
      "Total extinctions: 0\n",
      "Generation time: 2.315 sec (2.929 average)\n",
      "\n",
      " ****** Running generation 79 ****** \n",
      "\n"
     ]
    },
    {
     "name": "stderr",
     "output_type": "stream",
     "text": [
      "100%|██████████████████████████████████████████████████████████████████████████████| 385/385 [00:00<00:00, 3643.84it/s]\n",
      "100%|███████████████████████████████████████████████████████████████████████████████| 385/385 [00:00<00:00, 680.80it/s]\n"
     ]
    },
    {
     "name": "stdout",
     "output_type": "stream",
     "text": [
      "Population's average fitness: 34.07532 stdev: 4.61697\n",
      "Best fitness: 36.00000 - size: (20, 64) - species 2502 - id 22672\n",
      "Average adjusted fitness: 0.790\n",
      "Mean genetic distance 5.229, standard deviation 1.085\n",
      "Population of 368 members in 102 species\n",
      "Total extinctions: 0\n",
      "Generation time: 2.358 sec (2.858 average)\n",
      "\n",
      " ****** Running generation 80 ****** \n",
      "\n"
     ]
    },
    {
     "name": "stderr",
     "output_type": "stream",
     "text": [
      "100%|██████████████████████████████████████████████████████████████████████████████| 368/368 [00:00<00:00, 4130.22it/s]\n",
      "100%|███████████████████████████████████████████████████████████████████████████████| 368/368 [00:00<00:00, 718.46it/s]\n"
     ]
    },
    {
     "name": "stdout",
     "output_type": "stream",
     "text": [
      "Population's average fitness: 33.66848 stdev: 4.98736\n",
      "Best fitness: 36.00000 - size: (20, 64) - species 2502 - id 22672\n",
      "Average adjusted fitness: 0.761\n",
      "Mean genetic distance 5.210, standard deviation 1.072\n",
      "Population of 391 members in 109 species\n",
      "Total extinctions: 0\n",
      "Generation time: 2.577 sec (2.773 average)\n",
      "\n",
      " ****** Running generation 81 ****** \n",
      "\n"
     ]
    },
    {
     "name": "stderr",
     "output_type": "stream",
     "text": [
      "100%|██████████████████████████████████████████████████████████████████████████████| 391/391 [00:00<00:00, 4261.35it/s]\n",
      "100%|███████████████████████████████████████████████████████████████████████████████| 391/391 [00:00<00:00, 688.97it/s]\n"
     ]
    },
    {
     "name": "stdout",
     "output_type": "stream",
     "text": [
      "Population's average fitness: 33.93862 stdev: 4.74854\n",
      "Best fitness: 36.00000 - size: (20, 64) - species 2599 - id 22672\n",
      "Average adjusted fitness: 0.742\n",
      "Mean genetic distance 5.136, standard deviation 1.063\n",
      "Population of 375 members in 92 species\n",
      "Total extinctions: 0\n",
      "Generation time: 2.536 sec (2.698 average)\n",
      "\n",
      " ****** Running generation 82 ****** \n",
      "\n"
     ]
    },
    {
     "name": "stderr",
     "output_type": "stream",
     "text": [
      "100%|██████████████████████████████████████████████████████████████████████████████| 375/375 [00:00<00:00, 3213.71it/s]\n",
      "100%|███████████████████████████████████████████████████████████████████████████████| 375/375 [00:00<00:00, 508.67it/s]\n"
     ]
    },
    {
     "name": "stdout",
     "output_type": "stream",
     "text": [
      "Population's average fitness: 33.50400 stdev: 5.12035\n",
      "Best fitness: 36.00000 - size: (19, 48) - species 2664 - id 23496\n",
      "Average adjusted fitness: 0.705\n",
      "Mean genetic distance 5.082, standard deviation 1.050\n",
      "Population of 386 members in 92 species\n",
      "Total extinctions: 0\n",
      "Generation time: 2.679 sec (2.666 average)\n",
      "\n",
      " ****** Running generation 83 ****** \n",
      "\n"
     ]
    },
    {
     "name": "stderr",
     "output_type": "stream",
     "text": [
      "100%|██████████████████████████████████████████████████████████████████████████████| 386/386 [00:00<00:00, 3757.58it/s]\n",
      "100%|███████████████████████████████████████████████████████████████████████████████| 386/386 [00:00<00:00, 691.67it/s]\n"
     ]
    },
    {
     "name": "stdout",
     "output_type": "stream",
     "text": [
      "Population's average fitness: 33.33938 stdev: 5.24492\n",
      "Best fitness: 36.00000 - size: (18, 60) - species 2651 - id 23769\n",
      "Average adjusted fitness: 0.712\n",
      "Mean genetic distance 4.981, standard deviation 1.037\n",
      "Population of 374 members in 95 species\n",
      "Total extinctions: 0\n",
      "Generation time: 2.391 sec (2.590 average)\n",
      "\n",
      " ****** Running generation 84 ****** \n",
      "\n"
     ]
    },
    {
     "name": "stderr",
     "output_type": "stream",
     "text": [
      "100%|██████████████████████████████████████████████████████████████████████████████| 374/374 [00:00<00:00, 3435.85it/s]\n",
      "100%|███████████████████████████████████████████████████████████████████████████████| 374/374 [00:00<00:00, 651.36it/s]\n"
     ]
    },
    {
     "name": "stdout",
     "output_type": "stream",
     "text": [
      "Population's average fitness: 34.05348 stdev: 4.63852\n",
      "Best fitness: 36.00000 - size: (12, 31) - species 2705 - id 24068\n",
      "Average adjusted fitness: 0.753\n",
      "Mean genetic distance 4.886, standard deviation 1.008\n",
      "Population of 370 members in 103 species\n",
      "Total extinctions: 0\n",
      "Generation time: 2.136 sec (2.505 average)\n",
      "\n",
      " ****** Running generation 85 ****** \n",
      "\n"
     ]
    },
    {
     "name": "stderr",
     "output_type": "stream",
     "text": [
      "100%|██████████████████████████████████████████████████████████████████████████████| 370/370 [00:00<00:00, 3777.68it/s]\n",
      "100%|███████████████████████████████████████████████████████████████████████████████| 370/370 [00:00<00:00, 693.20it/s]\n"
     ]
    },
    {
     "name": "stdout",
     "output_type": "stream",
     "text": [
      "Population's average fitness: 33.64595 stdev: 5.00611\n",
      "Best fitness: 36.00000 - size: (12, 31) - species 2705 - id 24068\n",
      "Average adjusted fitness: 0.808\n",
      "Mean genetic distance 4.887, standard deviation 1.030\n",
      "Population of 381 members in 94 species\n",
      "Total extinctions: 0\n",
      "Generation time: 2.237 sec (2.434 average)\n",
      "\n",
      " ****** Running generation 86 ****** \n",
      "\n"
     ]
    },
    {
     "name": "stderr",
     "output_type": "stream",
     "text": [
      "100%|██████████████████████████████████████████████████████████████████████████████| 381/381 [00:00<00:00, 3380.13it/s]\n",
      "100%|███████████████████████████████████████████████████████████████████████████████| 381/381 [00:00<00:00, 702.20it/s]\n"
     ]
    },
    {
     "name": "stdout",
     "output_type": "stream",
     "text": [
      "Population's average fitness: 33.54331 stdev: 5.08937\n",
      "Best fitness: 36.00000 - size: (18, 41) - species 2786 - id 24607\n",
      "Average adjusted fitness: 0.732\n",
      "Mean genetic distance 4.816, standard deviation 1.037\n",
      "Population of 373 members in 99 species\n",
      "Total extinctions: 0\n",
      "Generation time: 2.269 sec (2.390 average)\n",
      "\n",
      " ****** Running generation 87 ****** \n",
      "\n"
     ]
    },
    {
     "name": "stderr",
     "output_type": "stream",
     "text": [
      "100%|██████████████████████████████████████████████████████████████████████████████| 373/373 [00:00<00:00, 3821.49it/s]\n",
      "100%|███████████████████████████████████████████████████████████████████████████████| 373/373 [00:00<00:00, 633.70it/s]\n"
     ]
    },
    {
     "name": "stdout",
     "output_type": "stream",
     "text": [
      "Population's average fitness: 34.18767 stdev: 4.50286\n",
      "Best fitness: 36.00000 - size: (17, 46) - species 2813 - id 24883\n",
      "Average adjusted fitness: 0.790\n",
      "Mean genetic distance 4.839, standard deviation 1.057\n",
      "Population of 394 members in 89 species\n",
      "Total extinctions: 0\n",
      "Generation time: 2.443 sec (2.394 average)\n",
      "\n",
      " ****** Running generation 88 ****** \n",
      "\n"
     ]
    },
    {
     "name": "stderr",
     "output_type": "stream",
     "text": [
      "100%|██████████████████████████████████████████████████████████████████████████████| 394/394 [00:00<00:00, 3185.72it/s]\n",
      "100%|███████████████████████████████████████████████████████████████████████████████| 394/394 [00:00<00:00, 562.21it/s]\n"
     ]
    },
    {
     "name": "stdout",
     "output_type": "stream",
     "text": [
      "Population's average fitness: 33.59137 stdev: 5.05081\n",
      "Best fitness: 36.00000 - size: (17, 46) - species 2813 - id 24883\n",
      "Average adjusted fitness: 0.733\n",
      "Mean genetic distance 4.829, standard deviation 1.106\n",
      "Population of 378 members in 84 species\n",
      "Total extinctions: 0\n",
      "Generation time: 2.592 sec (2.422 average)\n",
      "\n",
      " ****** Running generation 89 ****** \n",
      "\n"
     ]
    },
    {
     "name": "stderr",
     "output_type": "stream",
     "text": [
      "100%|██████████████████████████████████████████████████████████████████████████████| 378/378 [00:00<00:00, 4189.59it/s]\n",
      "100%|███████████████████████████████████████████████████████████████████████████████| 378/378 [00:00<00:00, 679.57it/s]\n"
     ]
    },
    {
     "name": "stdout",
     "output_type": "stream",
     "text": [
      "Population's average fitness: 34.01587 stdev: 4.69434\n",
      "Best fitness: 40.00000 - size: (12, 33) - species 2880 - id 25458\n",
      "Average adjusted fitness: 0.521\n",
      "Mean genetic distance 4.744, standard deviation 1.091\n",
      "Population of 381 members in 85 species\n",
      "Total extinctions: 0\n",
      "Generation time: 2.011 sec (2.387 average)\n",
      "\n",
      " ****** Running generation 90 ****** \n",
      "\n"
     ]
    },
    {
     "name": "stderr",
     "output_type": "stream",
     "text": [
      "100%|██████████████████████████████████████████████████████████████████████████████| 381/381 [00:00<00:00, 4152.42it/s]\n",
      "100%|███████████████████████████████████████████████████████████████████████████████| 381/381 [00:00<00:00, 772.28it/s]\n"
     ]
    },
    {
     "name": "stdout",
     "output_type": "stream",
     "text": [
      "Population's average fitness: 33.18373 stdev: 5.38325\n",
      "Best fitness: 42.00000 - size: (12, 33) - species 2880 - id 26018\n",
      "Average adjusted fitness: 0.518\n",
      "Mean genetic distance 4.742, standard deviation 1.060\n",
      "Population of 369 members in 102 species\n",
      "Total extinctions: 0\n",
      "Generation time: 2.048 sec (2.334 average)\n",
      "\n",
      " ****** Running generation 91 ****** \n",
      "\n"
     ]
    },
    {
     "name": "stderr",
     "output_type": "stream",
     "text": [
      "100%|██████████████████████████████████████████████████████████████████████████████| 369/369 [00:00<00:00, 4402.90it/s]\n",
      "100%|███████████████████████████████████████████████████████████████████████████████| 369/369 [00:00<00:00, 761.24it/s]\n"
     ]
    },
    {
     "name": "stdout",
     "output_type": "stream",
     "text": [
      "Population's average fitness: 34.06233 stdev: 4.62981\n",
      "Best fitness: 36.00000 - size: (19, 46) - species 2903 - id 26025\n",
      "Average adjusted fitness: 0.780\n",
      "Mean genetic distance 4.734, standard deviation 1.064\n",
      "Population of 381 members in 108 species\n",
      "Total extinctions: 0\n",
      "Generation time: 2.257 sec (2.306 average)\n",
      "\n",
      " ****** Running generation 92 ****** \n",
      "\n"
     ]
    },
    {
     "name": "stderr",
     "output_type": "stream",
     "text": [
      "100%|██████████████████████████████████████████████████████████████████████████████| 381/381 [00:00<00:00, 3032.16it/s]\n",
      "100%|███████████████████████████████████████████████████████████████████████████████| 381/381 [00:00<00:00, 760.95it/s]\n"
     ]
    },
    {
     "name": "stdout",
     "output_type": "stream",
     "text": [
      "Population's average fitness: 34.04987 stdev: 13.06656\n",
      "Best fitness: 268.00000 - size: (12, 33) - species 2880 - id 26451\n",
      "Average adjusted fitness: 0.041\n",
      "Mean genetic distance 4.654, standard deviation 1.080\n",
      "Population of 370 members in 96 species\n",
      "Total extinctions: 0\n",
      "Generation time: 2.064 sec (2.245 average)\n",
      "\n",
      " ****** Running generation 93 ****** \n",
      "\n"
     ]
    },
    {
     "name": "stderr",
     "output_type": "stream",
     "text": [
      "100%|██████████████████████████████████████████████████████████████████████████████| 370/370 [00:00<00:00, 5079.66it/s]\n",
      "100%|███████████████████████████████████████████████████████████████████████████████| 370/370 [00:00<00:00, 789.81it/s]\n"
     ]
    },
    {
     "name": "stdout",
     "output_type": "stream",
     "text": [
      "Population's average fitness: 33.68919 stdev: 5.09458\n",
      "Best fitness: 52.00000 - size: (12, 34) - species 2880 - id 26810\n",
      "Average adjusted fitness: 0.335\n",
      "Mean genetic distance 4.468, standard deviation 1.065\n",
      "Population of 391 members in 81 species\n",
      "Total extinctions: 0\n",
      "Generation time: 1.991 sec (2.205 average)\n",
      "\n",
      " ****** Running generation 94 ****** \n",
      "\n"
     ]
    },
    {
     "name": "stderr",
     "output_type": "stream",
     "text": [
      "100%|██████████████████████████████████████████████████████████████████████████████| 391/391 [00:00<00:00, 5001.98it/s]\n",
      "100%|███████████████████████████████████████████████████████████████████████████████| 391/391 [00:00<00:00, 795.23it/s]\n"
     ]
    },
    {
     "name": "stdout",
     "output_type": "stream",
     "text": [
      "Population's average fitness: 33.34015 stdev: 5.24435\n",
      "Best fitness: 36.00000 - size: (11, 32) - species 2981 - id 26814\n",
      "Average adjusted fitness: 0.621\n",
      "Mean genetic distance 4.486, standard deviation 1.073\n",
      "Population of 362 members in 88 species\n",
      "Total extinctions: 0\n",
      "Generation time: 1.991 sec (2.190 average)\n",
      "\n",
      " ****** Running generation 95 ****** \n",
      "\n"
     ]
    },
    {
     "name": "stderr",
     "output_type": "stream",
     "text": [
      "100%|██████████████████████████████████████████████████████████████████████████████| 362/362 [00:00<00:00, 4653.40it/s]\n",
      "100%|███████████████████████████████████████████████████████████████████████████████| 362/362 [00:00<00:00, 690.58it/s]\n"
     ]
    },
    {
     "name": "stdout",
     "output_type": "stream",
     "text": [
      "Population's average fitness: 33.05525 stdev: 5.44153\n",
      "Best fitness: 36.00000 - size: (22, 50) - species 3043 - id 27124\n",
      "Average adjusted fitness: 0.619\n",
      "Mean genetic distance 4.551, standard deviation 1.124\n",
      "Population of 380 members in 92 species\n",
      "Total extinctions: 0\n",
      "Generation time: 2.030 sec (2.170 average)\n",
      "\n",
      " ****** Running generation 96 ****** \n",
      "\n"
     ]
    },
    {
     "name": "stderr",
     "output_type": "stream",
     "text": [
      "100%|██████████████████████████████████████████████████████████████████████████████| 380/380 [00:00<00:00, 3266.71it/s]\n",
      "100%|███████████████████████████████████████████████████████████████████████████████| 380/380 [00:00<00:00, 761.07it/s]\n"
     ]
    },
    {
     "name": "stdout",
     "output_type": "stream",
     "text": [
      "Population's average fitness: 32.54474 stdev: 5.74278\n",
      "Best fitness: 36.00000 - size: (20, 44) - species 3049 - id 27406\n",
      "Average adjusted fitness: 0.646\n",
      "Mean genetic distance 4.711, standard deviation 1.192\n",
      "Population of 374 members in 96 species\n",
      "Total extinctions: 0\n",
      "Generation time: 2.085 sec (2.151 average)\n",
      "\n",
      " ****** Running generation 97 ****** \n",
      "\n"
     ]
    },
    {
     "name": "stderr",
     "output_type": "stream",
     "text": [
      "100%|██████████████████████████████████████████████████████████████████████████████| 374/374 [00:00<00:00, 4259.68it/s]\n",
      "100%|███████████████████████████████████████████████████████████████████████████████| 374/374 [00:00<00:00, 755.44it/s]\n"
     ]
    },
    {
     "name": "stdout",
     "output_type": "stream",
     "text": [
      "Population's average fitness: 33.28877 stdev: 5.28159\n",
      "Best fitness: 36.00000 - size: (12, 27) - species 3119 - id 27691\n",
      "Average adjusted fitness: 0.618\n",
      "Mean genetic distance 4.497, standard deviation 1.158\n",
      "Population of 395 members in 108 species\n",
      "Total extinctions: 0\n",
      "Generation time: 2.040 sec (2.111 average)\n",
      "Saving checkpoint to neat-checkpoint-97\n",
      "\n",
      " ****** Running generation 98 ****** \n",
      "\n"
     ]
    },
    {
     "name": "stderr",
     "output_type": "stream",
     "text": [
      "100%|██████████████████████████████████████████████████████████████████████████████| 395/395 [00:00<00:00, 4936.14it/s]\n",
      "100%|███████████████████████████████████████████████████████████████████████████████| 395/395 [00:00<00:00, 770.49it/s]\n"
     ]
    },
    {
     "name": "stdout",
     "output_type": "stream",
     "text": [
      "Population's average fitness: 32.47848 stdev: 5.77743\n",
      "Best fitness: 36.00000 - size: (20, 45) - species 3121 - id 27963\n",
      "Average adjusted fitness: 0.638\n",
      "Mean genetic distance 4.413, standard deviation 1.131\n",
      "Population of 368 members in 101 species\n",
      "Total extinctions: 0\n",
      "Generation time: 2.155 sec (2.067 average)\n",
      "\n",
      " ****** Running generation 99 ****** \n",
      "\n"
     ]
    },
    {
     "name": "stderr",
     "output_type": "stream",
     "text": [
      "100%|██████████████████████████████████████████████████████████████████████████████| 368/368 [00:00<00:00, 4028.60it/s]\n",
      "100%|███████████████████████████████████████████████████████████████████████████████| 368/368 [00:00<00:00, 725.98it/s]\n"
     ]
    },
    {
     "name": "stdout",
     "output_type": "stream",
     "text": [
      "Population's average fitness: 32.82065 stdev: 5.58778\n",
      "Best fitness: 36.00000 - size: (16, 38) - species 3155 - id 28252\n",
      "Average adjusted fitness: 0.651\n",
      "Mean genetic distance 4.347, standard deviation 1.086\n",
      "Population of 376 members in 107 species\n",
      "Total extinctions: 0\n",
      "Generation time: 2.061 sec (2.072 average)\n",
      "<neat.nn.feed_forward.FeedForwardNetwork object at 0x0000028EAFEBEFD0>\n"
     ]
    }
   ],
   "source": [
    "if __name__ == '__main__':\n",
    "    config_path = 'flappy-config.txt'\n",
    "    winner = run(config_path, 100)\n",
    "    print(winner)"
   ]
  },
  {
   "cell_type": "code",
   "execution_count": null,
   "metadata": {},
   "outputs": [],
   "source": [
    "# Save winner's progress to file\n",
    "\n",
    "import pickle\n",
    "with open('winner-ctrnn', 'wb') as f:\n",
    "    pickle.dump(winner, f)"
   ]
  },
  {
   "cell_type": "code",
   "execution_count": null,
   "metadata": {},
   "outputs": [],
   "source": []
  },
  {
   "cell_type": "code",
   "execution_count": null,
   "metadata": {},
   "outputs": [],
   "source": []
  }
 ],
 "metadata": {
  "kernelspec": {
   "display_name": "Python 3",
   "language": "python",
   "name": "python3"
  },
  "language_info": {
   "codemirror_mode": {
    "name": "ipython",
    "version": 3
   },
   "file_extension": ".py",
   "mimetype": "text/x-python",
   "name": "python",
   "nbconvert_exporter": "python",
   "pygments_lexer": "ipython3",
   "version": "3.7.2"
  }
 },
 "nbformat": 4,
 "nbformat_minor": 2
}
