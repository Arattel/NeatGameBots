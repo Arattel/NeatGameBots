{
 "cells": [
  {
   "cell_type": "code",
   "execution_count": 1,
   "metadata": {},
   "outputs": [
    {
     "name": "stdout",
     "output_type": "stream",
     "text": [
      "pygame 1.9.6\n",
      "Hello from the pygame community. https://www.pygame.org/contribute.html\n"
     ]
    },
    {
     "name": "stderr",
     "output_type": "stream",
     "text": [
      "/usr/local/lib/python3.6/dist-packages/gym/logger.py:30: UserWarning: \u001b[33mWARN: Environment '<class 'gym_simpleflappy.envs.flappy_env.FlappyEnvDistance'>' has deprecated methods '_step' and '_reset' rather than 'step' and 'reset'. Compatibility code invoked. Set _gym_disable_underscore_compat = True to disable this behavior.\u001b[0m\n",
      "  warnings.warn(colorize('%s: %s'%('WARN', msg % args), 'yellow'))\n"
     ]
    }
   ],
   "source": [
    "import gym\n",
    "import gym_simpleflappy\n",
    "from tqdm import tqdm\n",
    "import neat\n",
    "from matplotlib import pyplot as plt\n",
    "\n",
    "\n",
    "env = gym.make(\"SimpleFlappyDistance-v0\")\n",
    "env.reset()\n",
    "\n",
    "max_eps = 1000\n",
    "episode = 0\n",
    "steps = 0\n",
    "screen_width = 288\n",
    "screen_height = 512\n",
    "max_speed = 10.0"
   ]
  },
  {
   "cell_type": "code",
   "execution_count": 3,
   "metadata": {},
   "outputs": [],
   "source": [
    "observation = env.reset()"
   ]
  },
  {
   "cell_type": "code",
   "execution_count": 3,
   "metadata": {},
   "outputs": [
    {
     "name": "stdout",
     "output_type": "stream",
     "text": [
      "[247.          -9.         168.8        407.46206052 320.8\n",
      " 273.20071321]\n"
     ]
    }
   ],
   "source": [
    "observation, reward, done, info = env.step(1)\n",
    "env.render(mode='human')\n",
    "print(observation)"
   ]
  },
  {
   "cell_type": "code",
   "execution_count": 4,
   "metadata": {},
   "outputs": [
    {
     "name": "stdout",
     "output_type": "stream",
     "text": [
      "[239.          -8.         164.8        407.46206052 316.8\n",
      " 273.20071321]\n"
     ]
    }
   ],
   "source": [
    "observation, reward, done, info = env.step(0)\n",
    "env.render(mode='human')\n",
    "print(observation)"
   ]
  },
  {
   "cell_type": "code",
   "execution_count": 2,
   "metadata": {},
   "outputs": [],
   "source": [
    "def eval_genomes(individuals, config):\n",
    "    \"\"\"\n",
    "    runs the game for each of the individuals\n",
    "    :param config: config file from neat module\n",
    "    :param individuals: list of individuals from one population\n",
    "    :return: None\n",
    "    \"\"\"\n",
    "    global env\n",
    "    env.reset()\n",
    "    nets = []\n",
    "    ge = []\n",
    "    \n",
    "    for genome_id, genome in tqdm(individuals):\n",
    "        genome.fitness = 0  # start with fitness level of 0\n",
    "        net = neat.nn.FeedForwardNetwork.create(genome, config)\n",
    "        nets.append(net)\n",
    "        ge.append(genome)\n",
    "\n",
    "    \n",
    "    x = 0\n",
    "    for net in tqdm(nets):  # Cycle for each individual\n",
    "        \n",
    "        observation = env.reset()  # Constructs an instance of the game\n",
    "        steps = 0\n",
    "        \n",
    "        features = list(observation)\n",
    "        features[3], features[5] = features[3]/screen_height, features[5]/screen_height\n",
    "        features[2], features[4] = features[3]/screen_width, features[5]/screen_width\n",
    "        features[1] /= max_speed\n",
    "        output = nets[x].activate(features)  # Get input from neural network\n",
    "        action = 0 if output[0] <= 0.5 else 1\n",
    "        \n",
    "        observation, reward, done, info = env.step(action)\n",
    "        steps += 1\n",
    "        \n",
    "        while not done:  #  Game cycle            \n",
    "            features = observation\n",
    "            output = nets[x].activate(features)  # Get input from neural network\n",
    "            action = 0 if output[0] <= 0.5 else 1\n",
    "\n",
    "            observation, reward, done, info = env.step(action)  #  Make a move\n",
    "            steps += 1\n",
    "            if reward == -1:\n",
    "                ge[x].fitness -= 10 if steps > 15 else 100\n",
    "            else:\n",
    "                ge[x].fitness += reward\n",
    "        x += 1\n",
    "           "
   ]
  },
  {
   "cell_type": "code",
   "execution_count": 3,
   "metadata": {},
   "outputs": [],
   "source": [
    "def run(config_file):\n",
    "    \"\"\"\n",
    "    runs the NEAT algorithm to train a neural network to play game.\n",
    "    :param config_file: location of config file\n",
    "    :return: None\n",
    "    \"\"\"\n",
    "    config = neat.config.Config(neat.DefaultGenome, neat.DefaultReproduction,\n",
    "                         neat.DefaultSpeciesSet, neat.DefaultStagnation,\n",
    "                         config_file)\n",
    "\n",
    "    # Create the population, which is the top-level object for a NEAT run.\n",
    "    population = neat.Population(config)\n",
    "\n",
    "    # Add a stdout reporter to show progress in the terminal.\n",
    "    population.add_reporter(neat.StdOutReporter(False))\n",
    "    stats = neat.StatisticsReporter()\n",
    "    population.add_reporter(stats)\n",
    "    \n",
    "    checkpointer = neat.Checkpointer()\n",
    "    population.add_reporter(checkpointer)\n",
    "\n",
    "    # Run for up to 50 generations.\n",
    "    winner = neat.nn.FeedForwardNetwork.create(population.run(eval_genomes, 280), config)\n",
    "    observation = env.reset()  # Constructs an instance of the game    \n",
    "    features = observation \n",
    "    output = winner.activate(features)  # Get input from neural network\n",
    "    action = 0 if output[0] <= 0.5 else 1\n",
    "    observation, reward, done, info = env.step(action)\n",
    "    while not done:  #  Game cycle            \n",
    "        features = observation\n",
    "        output = winner.activate(features)  # Get input from neural network\n",
    "        action = 0 if output[0] <= 0.5 else 1\n",
    "        observation, reward, done, info = env.step(action)  #  Make a move\n",
    "        env.render(mode='human')\n",
    "       # show final stats\n",
    "    return winner\n",
    "    print('\\nBest genome:\\n{!s}'.format(winner))\n",
    "    \n"
   ]
  },
  {
   "cell_type": "code",
   "execution_count": 4,
   "metadata": {
    "scrolled": true
   },
   "outputs": [
    {
     "name": "stderr",
     "output_type": "stream",
     "text": [
      " 27%|██▋       | 102/380 [00:00<00:00, 1014.54it/s]"
     ]
    },
    {
     "name": "stdout",
     "output_type": "stream",
     "text": [
      "\n",
      " ****** Running generation 0 ****** \n",
      "\n"
     ]
    },
    {
     "name": "stderr",
     "output_type": "stream",
     "text": [
      "100%|██████████| 380/380 [00:00<00:00, 914.95it/s] \n",
      "100%|██████████| 380/380 [00:02<00:00, 156.82it/s]\n"
     ]
    },
    {
     "name": "stdout",
     "output_type": "stream",
     "text": [
      "Population's average fitness: 30.52368 stdev: 6.80456\n",
      "Best fitness: 74.00000 - size: (21, 140) - species 173 - id 173\n",
      "Average adjusted fitness: 0.148\n"
     ]
    },
    {
     "name": "stderr",
     "output_type": "stream",
     "text": [
      " 12%|█▏        | 91/760 [00:00<00:00, 907.15it/s]"
     ]
    },
    {
     "name": "stdout",
     "output_type": "stream",
     "text": [
      "Mean genetic distance 4.127, standard deviation 0.264\n",
      "Population of 760 members in 390 species\n",
      "Total extinctions: 0\n",
      "Generation time: 23.733 sec\n",
      "\n",
      " ****** Running generation 1 ****** \n",
      "\n"
     ]
    },
    {
     "name": "stderr",
     "output_type": "stream",
     "text": [
      "100%|██████████| 760/760 [00:00<00:00, 929.12it/s]\n",
      "100%|██████████| 760/760 [00:04<00:00, 160.56it/s]\n"
     ]
    },
    {
     "name": "stdout",
     "output_type": "stream",
     "text": [
      "Population's average fitness: 30.54605 stdev: 6.44311\n",
      "Best fitness: 44.00000 - size: (21, 140) - species 96 - id 96\n",
      "Average adjusted fitness: 0.360\n"
     ]
    },
    {
     "name": "stderr",
     "output_type": "stream",
     "text": [
      " 10%|█         | 81/780 [00:00<00:01, 588.84it/s]"
     ]
    },
    {
     "name": "stdout",
     "output_type": "stream",
     "text": [
      "Mean genetic distance 4.126, standard deviation 0.264\n",
      "Population of 780 members in 390 species\n",
      "Total extinctions: 0\n",
      "Generation time: 26.671 sec (25.202 average)\n",
      "\n",
      " ****** Running generation 2 ****** \n",
      "\n"
     ]
    },
    {
     "name": "stderr",
     "output_type": "stream",
     "text": [
      "100%|██████████| 780/780 [00:00<00:00, 948.47it/s]\n",
      "100%|██████████| 780/780 [00:05<00:00, 146.32it/s]\n"
     ]
    },
    {
     "name": "stdout",
     "output_type": "stream",
     "text": [
      "Population's average fitness: 30.63333 stdev: 6.40063\n",
      "Best fitness: 37.00000 - size: (21, 140) - species 96 - id 96\n",
      "Average adjusted fitness: 0.482\n"
     ]
    },
    {
     "name": "stderr",
     "output_type": "stream",
     "text": [
      " 23%|██▎       | 85/372 [00:00<00:00, 835.19it/s]"
     ]
    },
    {
     "name": "stdout",
     "output_type": "stream",
     "text": [
      "Mean genetic distance 3.996, standard deviation 0.429\n",
      "Population of 372 members in 78 species\n",
      "Total extinctions: 0\n",
      "Generation time: 8.633 sec (19.679 average)\n",
      "\n",
      " ****** Running generation 3 ****** \n",
      "\n"
     ]
    },
    {
     "name": "stderr",
     "output_type": "stream",
     "text": [
      "100%|██████████| 372/372 [00:00<00:00, 1043.26it/s]\n",
      "100%|██████████| 372/372 [00:02<00:00, 173.92it/s]\n"
     ]
    },
    {
     "name": "stdout",
     "output_type": "stream",
     "text": [
      "Population's average fitness: 30.60215 stdev: 6.48678\n",
      "Best fitness: 46.00000 - size: (21, 140) - species 96 - id 96\n",
      "Average adjusted fitness: 0.420\n"
     ]
    },
    {
     "name": "stderr",
     "output_type": "stream",
     "text": [
      " 28%|██▊       | 108/381 [00:00<00:00, 1077.04it/s]"
     ]
    },
    {
     "name": "stdout",
     "output_type": "stream",
     "text": [
      "Mean genetic distance 3.881, standard deviation 0.498\n",
      "Population of 381 members in 51 species\n",
      "Total extinctions: 0\n",
      "Generation time: 4.870 sec (15.977 average)\n",
      "\n",
      " ****** Running generation 4 ****** \n",
      "\n"
     ]
    },
    {
     "name": "stderr",
     "output_type": "stream",
     "text": [
      "100%|██████████| 381/381 [00:00<00:00, 924.25it/s] \n",
      "100%|██████████| 381/381 [00:02<00:00, 156.14it/s]\n"
     ]
    },
    {
     "name": "stdout",
     "output_type": "stream",
     "text": [
      "Population's average fitness: 32.91339 stdev: 5.72010\n",
      "Best fitness: 53.00000 - size: (21, 140) - species 96 - id 96\n",
      "Average adjusted fitness: 0.285\n"
     ]
    },
    {
     "name": "stderr",
     "output_type": "stream",
     "text": [
      " 29%|██▉       | 113/384 [00:00<00:00, 1123.31it/s]"
     ]
    },
    {
     "name": "stdout",
     "output_type": "stream",
     "text": [
      "Mean genetic distance 3.898, standard deviation 0.461\n",
      "Population of 384 members in 66 species\n",
      "Total extinctions: 0\n",
      "Generation time: 5.351 sec (13.852 average)\n",
      "\n",
      " ****** Running generation 5 ****** \n",
      "\n"
     ]
    },
    {
     "name": "stderr",
     "output_type": "stream",
     "text": [
      "100%|██████████| 384/384 [00:00<00:00, 1027.00it/s]\n",
      "100%|██████████| 384/384 [00:02<00:00, 154.57it/s]\n"
     ]
    },
    {
     "name": "stdout",
     "output_type": "stream",
     "text": [
      "Population's average fitness: 33.69010 stdev: 5.68535\n",
      "Best fitness: 74.00000 - size: (21, 139) - species 96 - id 1676\n",
      "Average adjusted fitness: 0.185\n"
     ]
    },
    {
     "name": "stderr",
     "output_type": "stream",
     "text": [
      " 30%|██▉       | 115/386 [00:00<00:00, 1141.13it/s]"
     ]
    },
    {
     "name": "stdout",
     "output_type": "stream",
     "text": [
      "Mean genetic distance 3.913, standard deviation 0.528\n",
      "Population of 386 members in 70 species\n",
      "Total extinctions: 0\n",
      "Generation time: 5.080 sec (12.390 average)\n",
      "\n",
      " ****** Running generation 6 ****** \n",
      "\n"
     ]
    },
    {
     "name": "stderr",
     "output_type": "stream",
     "text": [
      "100%|██████████| 386/386 [00:00<00:00, 1099.38it/s]\n",
      "100%|██████████| 386/386 [00:02<00:00, 160.12it/s]\n"
     ]
    },
    {
     "name": "stdout",
     "output_type": "stream",
     "text": [
      "Population's average fitness: 33.15285 stdev: 6.24333\n",
      "Best fitness: 82.00000 - size: (21, 136) - species 225 - id 1956\n",
      "Average adjusted fitness: 0.184\n"
     ]
    },
    {
     "name": "stderr",
     "output_type": "stream",
     "text": [
      " 27%|██▋       | 102/373 [00:00<00:00, 1018.94it/s]"
     ]
    },
    {
     "name": "stdout",
     "output_type": "stream",
     "text": [
      "Mean genetic distance 3.900, standard deviation 0.512\n",
      "Population of 373 members in 83 species\n",
      "Total extinctions: 0\n",
      "Generation time: 5.858 sec (11.457 average)\n",
      "\n",
      " ****** Running generation 7 ****** \n",
      "\n"
     ]
    },
    {
     "name": "stderr",
     "output_type": "stream",
     "text": [
      "100%|██████████| 373/373 [00:00<00:00, 967.90it/s] \n",
      "100%|██████████| 373/373 [00:02<00:00, 147.75it/s]\n"
     ]
    },
    {
     "name": "stdout",
     "output_type": "stream",
     "text": [
      "Population's average fitness: 33.75603 stdev: 6.03981\n",
      "Best fitness: 74.00000 - size: (22, 138) - species 448 - id 2096\n",
      "Average adjusted fitness: 0.208\n"
     ]
    },
    {
     "name": "stderr",
     "output_type": "stream",
     "text": [
      " 15%|█▌        | 59/386 [00:00<00:00, 587.95it/s]"
     ]
    },
    {
     "name": "stdout",
     "output_type": "stream",
     "text": [
      "Mean genetic distance 3.922, standard deviation 0.509\n",
      "Population of 386 members in 95 species\n",
      "Total extinctions: 0\n",
      "Generation time: 6.829 sec (10.878 average)\n",
      "\n",
      " ****** Running generation 8 ****** \n",
      "\n"
     ]
    },
    {
     "name": "stderr",
     "output_type": "stream",
     "text": [
      "100%|██████████| 386/386 [00:00<00:00, 743.88it/s]\n",
      "100%|██████████| 386/386 [00:02<00:00, 143.07it/s]\n"
     ]
    },
    {
     "name": "stdout",
     "output_type": "stream",
     "text": [
      "Population's average fitness: 34.13731 stdev: 5.90638\n",
      "Best fitness: 74.00000 - size: (21, 136) - species 495 - id 1956\n",
      "Average adjusted fitness: 0.205\n"
     ]
    },
    {
     "name": "stderr",
     "output_type": "stream",
     "text": [
      " 26%|██▌       | 98/381 [00:00<00:00, 973.54it/s]"
     ]
    },
    {
     "name": "stdout",
     "output_type": "stream",
     "text": [
      "Mean genetic distance 3.976, standard deviation 0.592\n",
      "Population of 381 members in 89 species\n",
      "Total extinctions: 0\n",
      "Generation time: 6.378 sec (10.378 average)\n",
      "\n",
      " ****** Running generation 9 ****** \n",
      "\n"
     ]
    },
    {
     "name": "stderr",
     "output_type": "stream",
     "text": [
      "100%|██████████| 381/381 [00:00<00:00, 881.03it/s]\n",
      "100%|██████████| 381/381 [00:02<00:00, 160.27it/s]\n"
     ]
    },
    {
     "name": "stdout",
     "output_type": "stream",
     "text": [
      "Population's average fitness: 33.75066 stdev: 6.68082\n",
      "Best fitness: 91.00000 - size: (21, 126) - species 456 - id 2145\n",
      "Average adjusted fitness: 0.151\n"
     ]
    },
    {
     "name": "stderr",
     "output_type": "stream",
     "text": [
      " 27%|██▋       | 107/393 [00:00<00:00, 1068.18it/s]"
     ]
    },
    {
     "name": "stdout",
     "output_type": "stream",
     "text": [
      "Mean genetic distance 4.012, standard deviation 0.660\n",
      "Population of 393 members in 90 species\n",
      "Total extinctions: 0\n",
      "Generation time: 6.344 sec (9.975 average)\n",
      "\n",
      " ****** Running generation 10 ****** \n",
      "\n"
     ]
    },
    {
     "name": "stderr",
     "output_type": "stream",
     "text": [
      "100%|██████████| 393/393 [00:00<00:00, 976.29it/s] \n",
      "100%|██████████| 393/393 [00:02<00:00, 161.76it/s]\n"
     ]
    },
    {
     "name": "stdout",
     "output_type": "stream",
     "text": [
      "Population's average fitness: 33.71756 stdev: 5.54685\n",
      "Best fitness: 74.00000 - size: (21, 129) - species 557 - id 3067\n",
      "Average adjusted fitness: 0.190\n"
     ]
    },
    {
     "name": "stderr",
     "output_type": "stream",
     "text": [
      " 32%|███▏      | 124/383 [00:00<00:00, 1235.21it/s]"
     ]
    },
    {
     "name": "stdout",
     "output_type": "stream",
     "text": [
      "Mean genetic distance 4.035, standard deviation 0.731\n",
      "Population of 383 members in 92 species\n",
      "Total extinctions: 0\n",
      "Generation time: 6.044 sec (8.206 average)\n",
      "\n",
      " ****** Running generation 11 ****** \n",
      "\n"
     ]
    },
    {
     "name": "stderr",
     "output_type": "stream",
     "text": [
      "100%|██████████| 383/383 [00:00<00:00, 1208.42it/s]\n",
      "100%|██████████| 383/383 [00:02<00:00, 148.86it/s]\n"
     ]
    },
    {
     "name": "stdout",
     "output_type": "stream",
     "text": [
      "Population's average fitness: 34.27676 stdev: 5.97835\n",
      "Best fitness: 74.00000 - size: (21, 124) - species 456 - id 2324\n",
      "Average adjusted fitness: 0.184\n"
     ]
    },
    {
     "name": "stderr",
     "output_type": "stream",
     "text": [
      " 31%|███       | 115/372 [00:00<00:00, 1145.07it/s]"
     ]
    },
    {
     "name": "stdout",
     "output_type": "stream",
     "text": [
      "Mean genetic distance 4.126, standard deviation 0.852\n",
      "Population of 372 members in 91 species\n",
      "Total extinctions: 0\n",
      "Generation time: 6.306 sec (6.169 average)\n",
      "\n",
      " ****** Running generation 12 ****** \n",
      "\n"
     ]
    },
    {
     "name": "stderr",
     "output_type": "stream",
     "text": [
      "100%|██████████| 372/372 [00:00<00:00, 966.85it/s] \n",
      "100%|██████████| 372/372 [00:02<00:00, 160.40it/s]\n"
     ]
    },
    {
     "name": "stdout",
     "output_type": "stream",
     "text": [
      "Population's average fitness: 33.34677 stdev: 5.96952\n",
      "Best fitness: 74.00000 - size: (22, 126) - species 502 - id 3268\n",
      "Average adjusted fitness: 0.189\n"
     ]
    },
    {
     "name": "stderr",
     "output_type": "stream",
     "text": [
      " 32%|███▏      | 124/384 [00:00<00:00, 1237.32it/s]"
     ]
    },
    {
     "name": "stdout",
     "output_type": "stream",
     "text": [
      "Mean genetic distance 4.179, standard deviation 0.914\n",
      "Population of 384 members in 93 species\n",
      "Total extinctions: 0\n",
      "Generation time: 6.464 sec (5.952 average)\n",
      "\n",
      " ****** Running generation 13 ****** \n",
      "\n"
     ]
    },
    {
     "name": "stderr",
     "output_type": "stream",
     "text": [
      "100%|██████████| 384/384 [00:00<00:00, 1104.67it/s]\n",
      "100%|██████████| 384/384 [00:02<00:00, 153.23it/s]\n"
     ]
    },
    {
     "name": "stdout",
     "output_type": "stream",
     "text": [
      "Population's average fitness: 33.98438 stdev: 7.24855\n",
      "Best fitness: 133.00000 - size: (21, 130) - species 556 - id 3821\n",
      "Average adjusted fitness: 0.099\n"
     ]
    },
    {
     "name": "stderr",
     "output_type": "stream",
     "text": [
      " 25%|██▌       | 95/377 [00:00<00:00, 949.21it/s]"
     ]
    },
    {
     "name": "stdout",
     "output_type": "stream",
     "text": [
      "Mean genetic distance 4.286, standard deviation 1.038\n",
      "Population of 377 members in 97 species\n",
      "Total extinctions: 0\n",
      "Generation time: 6.647 sec (6.130 average)\n",
      "\n",
      " ****** Running generation 14 ****** \n",
      "\n"
     ]
    },
    {
     "name": "stderr",
     "output_type": "stream",
     "text": [
      "100%|██████████| 377/377 [00:00<00:00, 940.96it/s]\n",
      "100%|██████████| 377/377 [00:02<00:00, 166.93it/s]\n"
     ]
    },
    {
     "name": "stdout",
     "output_type": "stream",
     "text": [
      "Population's average fitness: 34.27586 stdev: 5.27778\n",
      "Best fitness: 74.00000 - size: (21, 124) - species 645 - id 4090\n",
      "Average adjusted fitness: 0.202\n"
     ]
    },
    {
     "name": "stderr",
     "output_type": "stream",
     "text": [
      " 28%|██▊       | 107/385 [00:00<00:00, 1066.74it/s]"
     ]
    },
    {
     "name": "stdout",
     "output_type": "stream",
     "text": [
      "Mean genetic distance 4.350, standard deviation 1.093\n",
      "Population of 385 members in 100 species\n",
      "Total extinctions: 0\n",
      "Generation time: 6.240 sec (6.219 average)\n",
      "\n",
      " ****** Running generation 15 ****** \n",
      "\n"
     ]
    },
    {
     "name": "stderr",
     "output_type": "stream",
     "text": [
      "100%|██████████| 385/385 [00:00<00:00, 1082.12it/s]\n",
      "100%|██████████| 385/385 [00:02<00:00, 158.73it/s]\n"
     ]
    },
    {
     "name": "stdout",
     "output_type": "stream",
     "text": [
      "Population's average fitness: 34.30649 stdev: 7.56441\n",
      "Best fitness: 140.00000 - size: (22, 133) - species 556 - id 4449\n",
      "Average adjusted fitness: 0.090\n"
     ]
    },
    {
     "name": "stderr",
     "output_type": "stream",
     "text": [
      " 34%|███▎      | 123/367 [00:00<00:00, 1228.39it/s]"
     ]
    },
    {
     "name": "stdout",
     "output_type": "stream",
     "text": [
      "Mean genetic distance 4.505, standard deviation 1.220\n",
      "Population of 367 members in 89 species\n",
      "Total extinctions: 0\n",
      "Generation time: 6.152 sec (6.326 average)\n",
      "\n",
      " ****** Running generation 16 ****** \n",
      "\n"
     ]
    },
    {
     "name": "stderr",
     "output_type": "stream",
     "text": [
      "100%|██████████| 367/367 [00:00<00:00, 1223.07it/s]\n",
      "100%|██████████| 367/367 [00:02<00:00, 163.58it/s]\n"
     ]
    },
    {
     "name": "stdout",
     "output_type": "stream",
     "text": [
      "Population's average fitness: 34.58583 stdev: 7.33827\n",
      "Best fitness: 133.00000 - size: (20, 118) - species 682 - id 3961\n",
      "Average adjusted fitness: 0.096\n"
     ]
    },
    {
     "name": "stderr",
     "output_type": "stream",
     "text": [
      " 33%|███▎      | 129/387 [00:00<00:00, 1288.27it/s]"
     ]
    },
    {
     "name": "stdout",
     "output_type": "stream",
     "text": [
      "Mean genetic distance 4.669, standard deviation 1.361\n",
      "Population of 387 members in 102 species\n",
      "Total extinctions: 0\n",
      "Generation time: 6.363 sec (6.377 average)\n",
      "\n",
      " ****** Running generation 17 ****** \n",
      "\n"
     ]
    },
    {
     "name": "stderr",
     "output_type": "stream",
     "text": [
      "100%|██████████| 387/387 [00:00<00:00, 1191.63it/s]\n",
      "100%|██████████| 387/387 [00:02<00:00, 169.13it/s]\n"
     ]
    },
    {
     "name": "stdout",
     "output_type": "stream",
     "text": [
      "Population's average fitness: 33.89406 stdev: 5.88974\n",
      "Best fitness: 74.00000 - size: (21, 129) - species 715 - id 4325\n",
      "Average adjusted fitness: 0.200\n"
     ]
    },
    {
     "name": "stderr",
     "output_type": "stream",
     "text": [
      " 32%|███▏      | 123/381 [00:00<00:00, 1227.69it/s]"
     ]
    },
    {
     "name": "stdout",
     "output_type": "stream",
     "text": [
      "Mean genetic distance 4.654, standard deviation 1.299\n",
      "Population of 381 members in 97 species\n",
      "Total extinctions: 0\n",
      "Generation time: 6.686 sec (6.362 average)\n",
      "\n",
      " ****** Running generation 18 ****** \n",
      "\n"
     ]
    },
    {
     "name": "stderr",
     "output_type": "stream",
     "text": [
      "100%|██████████| 381/381 [00:00<00:00, 1225.92it/s]\n",
      "100%|██████████| 381/381 [00:02<00:00, 149.82it/s]\n"
     ]
    },
    {
     "name": "stdout",
     "output_type": "stream",
     "text": [
      "Population's average fitness: 34.53806 stdev: 6.69953\n",
      "Best fitness: 90.00000 - size: (20, 118) - species 682 - id 3961\n",
      "Average adjusted fitness: 0.185\n"
     ]
    },
    {
     "name": "stderr",
     "output_type": "stream",
     "text": [
      " 34%|███▍      | 123/359 [00:00<00:00, 1220.70it/s]"
     ]
    },
    {
     "name": "stdout",
     "output_type": "stream",
     "text": [
      "Mean genetic distance 4.568, standard deviation 1.244\n",
      "Population of 359 members in 103 species\n",
      "Total extinctions: 0\n",
      "Generation time: 7.458 sec (6.470 average)\n",
      "\n",
      " ****** Running generation 19 ****** \n",
      "\n"
     ]
    },
    {
     "name": "stderr",
     "output_type": "stream",
     "text": [
      "100%|██████████| 359/359 [00:00<00:00, 1258.19it/s]\n",
      "100%|██████████| 359/359 [00:02<00:00, 156.29it/s]\n"
     ]
    },
    {
     "name": "stdout",
     "output_type": "stream",
     "text": [
      "Population's average fitness: 34.10028 stdev: 7.58726\n",
      "Best fitness: 133.00000 - size: (19, 112) - species 758 - id 5343\n",
      "Average adjusted fitness: 0.102\n"
     ]
    },
    {
     "name": "stderr",
     "output_type": "stream",
     "text": [
      " 25%|██▍       | 94/383 [00:00<00:00, 937.30it/s]"
     ]
    },
    {
     "name": "stdout",
     "output_type": "stream",
     "text": [
      "Mean genetic distance 4.595, standard deviation 1.259\n",
      "Population of 383 members in 98 species\n",
      "Total extinctions: 0\n",
      "Generation time: 5.827 sec (6.419 average)\n",
      "\n",
      " ****** Running generation 20 ****** \n",
      "\n"
     ]
    },
    {
     "name": "stderr",
     "output_type": "stream",
     "text": [
      "100%|██████████| 383/383 [00:00<00:00, 838.16it/s]\n",
      "100%|██████████| 383/383 [00:02<00:00, 174.31it/s]\n"
     ]
    },
    {
     "name": "stdout",
     "output_type": "stream",
     "text": [
      "Population's average fitness: 33.61097 stdev: 5.97581\n",
      "Best fitness: 74.00000 - size: (21, 119) - species 747 - id 5132\n",
      "Average adjusted fitness: 0.321\n"
     ]
    },
    {
     "name": "stderr",
     "output_type": "stream",
     "text": [
      " 27%|██▋       | 104/382 [00:00<00:00, 1039.26it/s]"
     ]
    },
    {
     "name": "stdout",
     "output_type": "stream",
     "text": [
      "Mean genetic distance 4.754, standard deviation 1.274\n",
      "Population of 382 members in 92 species\n",
      "Total extinctions: 0\n",
      "Generation time: 6.256 sec (6.440 average)\n",
      "\n",
      " ****** Running generation 21 ****** \n",
      "\n"
     ]
    },
    {
     "name": "stderr",
     "output_type": "stream",
     "text": [
      "100%|██████████| 382/382 [00:00<00:00, 1094.73it/s]\n",
      "100%|██████████| 382/382 [00:01<00:00, 225.27it/s]\n"
     ]
    },
    {
     "name": "stdout",
     "output_type": "stream",
     "text": [
      "Population's average fitness: 34.48953 stdev: 7.25949\n",
      "Best fitness: 133.00000 - size: (19, 112) - species 875 - id 5343\n",
      "Average adjusted fitness: 0.089\n"
     ]
    },
    {
     "name": "stderr",
     "output_type": "stream",
     "text": [
      " 32%|███▏      | 119/371 [00:00<00:00, 1184.21it/s]"
     ]
    },
    {
     "name": "stdout",
     "output_type": "stream",
     "text": [
      "Mean genetic distance 4.830, standard deviation 1.297\n",
      "Population of 371 members in 92 species\n",
      "Total extinctions: 0\n",
      "Generation time: 6.001 sec (6.409 average)\n",
      "\n",
      " ****** Running generation 22 ****** \n",
      "\n"
     ]
    },
    {
     "name": "stderr",
     "output_type": "stream",
     "text": [
      "100%|██████████| 371/371 [00:00<00:00, 1701.06it/s]\n",
      "100%|██████████| 371/371 [00:01<00:00, 268.61it/s]\n"
     ]
    },
    {
     "name": "stdout",
     "output_type": "stream",
     "text": [
      "Population's average fitness: 33.97305 stdev: 6.91101\n",
      "Best fitness: 87.00000 - size: (22, 121) - species 877 - id 6086\n",
      "Average adjusted fitness: 0.164\n"
     ]
    },
    {
     "name": "stderr",
     "output_type": "stream",
     "text": [
      "100%|██████████| 386/386 [00:00<00:00, 2253.56it/s]\n",
      "  0%|          | 0/386 [00:00<?, ?it/s]"
     ]
    },
    {
     "name": "stdout",
     "output_type": "stream",
     "text": [
      "Mean genetic distance 4.787, standard deviation 1.276\n",
      "Population of 386 members in 93 species\n",
      "Total extinctions: 0\n",
      "Generation time: 4.992 sec (6.262 average)\n",
      "\n",
      " ****** Running generation 23 ****** \n",
      "\n"
     ]
    },
    {
     "name": "stderr",
     "output_type": "stream",
     "text": [
      "100%|██████████| 386/386 [00:01<00:00, 300.16it/s]\n"
     ]
    },
    {
     "name": "stdout",
     "output_type": "stream",
     "text": [
      "Population's average fitness: 34.16321 stdev: 5.41508\n",
      "Best fitness: 74.00000 - size: (23, 123) - species 877 - id 6631\n",
      "Average adjusted fitness: 0.208\n"
     ]
    },
    {
     "name": "stderr",
     "output_type": "stream",
     "text": [
      " 57%|█████▋    | 219/381 [00:00<00:00, 2181.58it/s]"
     ]
    },
    {
     "name": "stdout",
     "output_type": "stream",
     "text": [
      "Mean genetic distance 5.000, standard deviation 1.306\n",
      "Population of 381 members in 99 species\n",
      "Total extinctions: 0\n",
      "Generation time: 5.901 sec (6.188 average)\n",
      "\n",
      " ****** Running generation 24 ****** \n",
      "\n"
     ]
    },
    {
     "name": "stderr",
     "output_type": "stream",
     "text": [
      "100%|██████████| 381/381 [00:00<00:00, 1838.11it/s]\n",
      "100%|██████████| 381/381 [00:01<00:00, 285.86it/s]\n"
     ]
    },
    {
     "name": "stdout",
     "output_type": "stream",
     "text": [
      "Population's average fitness: 34.31759 stdev: 5.82117\n",
      "Best fitness: 81.00000 - size: (23, 123) - species 877 - id 6631\n",
      "Average adjusted fitness: 0.211\n"
     ]
    },
    {
     "name": "stderr",
     "output_type": "stream",
     "text": [
      " 16%|█▌        | 58/372 [00:00<00:00, 575.28it/s]"
     ]
    },
    {
     "name": "stdout",
     "output_type": "stream",
     "text": [
      "Mean genetic distance 5.011, standard deviation 1.335\n",
      "Population of 372 members in 111 species\n",
      "Total extinctions: 0\n",
      "Generation time: 5.273 sec (6.091 average)\n",
      "\n",
      " ****** Running generation 25 ****** \n",
      "\n"
     ]
    },
    {
     "name": "stderr",
     "output_type": "stream",
     "text": [
      "100%|██████████| 372/372 [00:00<00:00, 1398.47it/s]\n",
      "100%|██████████| 372/372 [00:01<00:00, 199.37it/s]\n"
     ]
    },
    {
     "name": "stdout",
     "output_type": "stream",
     "text": [
      "Population's average fitness: 34.87366 stdev: 7.22768\n",
      "Best fitness: 133.00000 - size: (21, 120) - species 970 - id 7071\n",
      "Average adjusted fitness: 0.105\n"
     ]
    },
    {
     "name": "stderr",
     "output_type": "stream",
     "text": [
      " 44%|████▍     | 168/379 [00:00<00:00, 1670.85it/s]"
     ]
    },
    {
     "name": "stdout",
     "output_type": "stream",
     "text": [
      "Mean genetic distance 5.079, standard deviation 1.370\n",
      "Population of 379 members in 109 species\n",
      "Total extinctions: 0\n",
      "Generation time: 5.955 sec (6.071 average)\n",
      "\n",
      " ****** Running generation 26 ****** \n",
      "\n"
     ]
    },
    {
     "name": "stderr",
     "output_type": "stream",
     "text": [
      "100%|██████████| 379/379 [00:00<00:00, 1366.89it/s]\n",
      "100%|██████████| 379/379 [00:01<00:00, 201.63it/s]\n"
     ]
    },
    {
     "name": "stdout",
     "output_type": "stream",
     "text": [
      "Population's average fitness: 34.37467 stdev: 4.88787\n",
      "Best fitness: 53.00000 - size: (21, 113) - species 956 - id 7383\n",
      "Average adjusted fitness: 0.387\n"
     ]
    },
    {
     "name": "stderr",
     "output_type": "stream",
     "text": [
      " 32%|███▏      | 118/372 [00:00<00:00, 1174.31it/s]"
     ]
    },
    {
     "name": "stdout",
     "output_type": "stream",
     "text": [
      "Mean genetic distance 5.052, standard deviation 1.359\n",
      "Population of 372 members in 104 species\n",
      "Total extinctions: 0\n",
      "Generation time: 5.327 sec (5.968 average)\n",
      "\n",
      " ****** Running generation 27 ****** \n",
      "\n"
     ]
    },
    {
     "name": "stderr",
     "output_type": "stream",
     "text": [
      "100%|██████████| 372/372 [00:00<00:00, 1302.30it/s]\n",
      "100%|██████████| 372/372 [00:01<00:00, 244.29it/s]\n"
     ]
    },
    {
     "name": "stdout",
     "output_type": "stream",
     "text": [
      "Population's average fitness: 35.23118 stdev: 5.41655\n",
      "Best fitness: 74.00000 - size: (23, 122) - species 1024 - id 7410\n",
      "Average adjusted fitness: 0.232\n"
     ]
    },
    {
     "name": "stderr",
     "output_type": "stream",
     "text": [
      "100%|██████████| 375/375 [00:00<00:00, 2025.14it/s]\n",
      "  0%|          | 0/375 [00:00<?, ?it/s]"
     ]
    },
    {
     "name": "stdout",
     "output_type": "stream",
     "text": [
      "Mean genetic distance 5.125, standard deviation 1.358\n",
      "Population of 375 members in 103 species\n",
      "Total extinctions: 0\n",
      "Generation time: 4.902 sec (5.789 average)\n",
      "\n",
      " ****** Running generation 28 ****** \n",
      "\n"
     ]
    },
    {
     "name": "stderr",
     "output_type": "stream",
     "text": [
      "100%|██████████| 375/375 [00:01<00:00, 199.08it/s]\n"
     ]
    },
    {
     "name": "stdout",
     "output_type": "stream",
     "text": [
      "Population's average fitness: 34.67733 stdev: 5.02632\n",
      "Best fitness: 74.00000 - size: (23, 122) - species 1055 - id 7894\n",
      "Average adjusted fitness: 0.216\n"
     ]
    },
    {
     "name": "stderr",
     "output_type": "stream",
     "text": [
      " 48%|████▊     | 187/391 [00:00<00:00, 1581.79it/s]"
     ]
    },
    {
     "name": "stdout",
     "output_type": "stream",
     "text": [
      "Mean genetic distance 4.899, standard deviation 1.323\n",
      "Population of 391 members in 91 species\n",
      "Total extinctions: 0\n",
      "Generation time: 5.676 sec (5.611 average)\n",
      "\n",
      " ****** Running generation 29 ****** \n",
      "\n"
     ]
    },
    {
     "name": "stderr",
     "output_type": "stream",
     "text": [
      "100%|██████████| 391/391 [00:00<00:00, 1343.87it/s]\n",
      "100%|██████████| 391/391 [00:01<00:00, 263.78it/s]\n"
     ]
    },
    {
     "name": "stdout",
     "output_type": "stream",
     "text": [
      "Population's average fitness: 35.04348 stdev: 4.71767\n",
      "Best fitness: 74.00000 - size: (22, 121) - species 985 - id 8130\n",
      "Average adjusted fitness: 0.220\n"
     ]
    },
    {
     "name": "stderr",
     "output_type": "stream",
     "text": [
      "100%|██████████| 386/386 [00:00<00:00, 2279.34it/s]\n",
      "  0%|          | 0/386 [00:00<?, ?it/s]"
     ]
    },
    {
     "name": "stdout",
     "output_type": "stream",
     "text": [
      "Mean genetic distance 4.770, standard deviation 1.340\n",
      "Population of 386 members in 98 species\n",
      "Total extinctions: 0\n",
      "Generation time: 4.925 sec (5.521 average)\n",
      "\n",
      " ****** Running generation 30 ****** \n",
      "\n"
     ]
    },
    {
     "name": "stderr",
     "output_type": "stream",
     "text": [
      "100%|██████████| 386/386 [00:01<00:00, 274.44it/s]\n"
     ]
    },
    {
     "name": "stdout",
     "output_type": "stream",
     "text": [
      "Population's average fitness: 34.33420 stdev: 5.85929\n",
      "Best fitness: 74.00000 - size: (20, 107) - species 1090 - id 8048\n",
      "Average adjusted fitness: 0.225\n"
     ]
    },
    {
     "name": "stderr",
     "output_type": "stream",
     "text": [
      " 35%|███▍      | 135/386 [00:00<00:00, 1343.43it/s]"
     ]
    },
    {
     "name": "stdout",
     "output_type": "stream",
     "text": [
      "Mean genetic distance 4.650, standard deviation 1.283\n",
      "Population of 386 members in 93 species\n",
      "Total extinctions: 0\n",
      "Generation time: 4.908 sec (5.386 average)\n",
      "\n",
      " ****** Running generation 31 ****** \n",
      "\n"
     ]
    },
    {
     "name": "stderr",
     "output_type": "stream",
     "text": [
      "100%|██████████| 386/386 [00:00<00:00, 1147.80it/s]\n",
      "100%|██████████| 386/386 [00:01<00:00, 274.30it/s]\n"
     ]
    },
    {
     "name": "stdout",
     "output_type": "stream",
     "text": [
      "Population's average fitness: 34.57772 stdev: 9.49423\n",
      "Best fitness: 133.00000 - size: (17, 92) - species 1117 - id 8487\n",
      "Average adjusted fitness: 0.105\n"
     ]
    },
    {
     "name": "stderr",
     "output_type": "stream",
     "text": [
      " 24%|██▍       | 91/379 [00:00<00:00, 905.76it/s]"
     ]
    },
    {
     "name": "stdout",
     "output_type": "stream",
     "text": [
      "Mean genetic distance 4.647, standard deviation 1.242\n",
      "Population of 379 members in 103 species\n",
      "Total extinctions: 0\n",
      "Generation time: 6.462 sec (5.432 average)\n",
      "\n",
      " ****** Running generation 32 ****** \n",
      "\n"
     ]
    },
    {
     "name": "stderr",
     "output_type": "stream",
     "text": [
      "100%|██████████| 379/379 [00:00<00:00, 784.30it/s]\n",
      "100%|██████████| 379/379 [00:02<00:00, 129.60it/s]\n"
     ]
    },
    {
     "name": "stdout",
     "output_type": "stream",
     "text": [
      "Population's average fitness: 34.35620 stdev: 7.32886\n",
      "Best fitness: 133.00000 - size: (21, 120) - species 1110 - id 8684\n",
      "Average adjusted fitness: 0.097\n"
     ]
    },
    {
     "name": "stderr",
     "output_type": "stream",
     "text": [
      " 22%|██▏       | 82/376 [00:00<00:00, 817.43it/s]"
     ]
    },
    {
     "name": "stdout",
     "output_type": "stream",
     "text": [
      "Mean genetic distance 4.758, standard deviation 1.316\n",
      "Population of 376 members in 92 species\n",
      "Total extinctions: 0\n",
      "Generation time: 8.575 sec (5.790 average)\n",
      "\n",
      " ****** Running generation 33 ****** \n",
      "\n"
     ]
    },
    {
     "name": "stderr",
     "output_type": "stream",
     "text": [
      "100%|██████████| 376/376 [00:00<00:00, 959.51it/s]\n",
      "100%|██████████| 376/376 [00:01<00:00, 211.35it/s]\n"
     ]
    },
    {
     "name": "stdout",
     "output_type": "stream",
     "text": [
      "Population's average fitness: 34.40957 stdev: 11.88385\n",
      "Best fitness: 171.00000 - size: (20, 88) - species 1131 - id 8557\n",
      "Average adjusted fitness: 0.073\n"
     ]
    },
    {
     "name": "stderr",
     "output_type": "stream",
     "text": [
      " 18%|█▊        | 70/392 [00:00<00:00, 699.85it/s]"
     ]
    },
    {
     "name": "stdout",
     "output_type": "stream",
     "text": [
      "Mean genetic distance 4.611, standard deviation 1.228\n",
      "Population of 392 members in 83 species\n",
      "Total extinctions: 0\n",
      "Generation time: 6.369 sec (5.837 average)\n",
      "\n",
      " ****** Running generation 34 ****** \n",
      "\n"
     ]
    },
    {
     "name": "stderr",
     "output_type": "stream",
     "text": [
      "100%|██████████| 392/392 [00:00<00:00, 811.74it/s]\n",
      "100%|██████████| 392/392 [00:02<00:00, 149.45it/s]\n"
     ]
    },
    {
     "name": "stdout",
     "output_type": "stream",
     "text": [
      "Population's average fitness: 35.10714 stdev: 8.06566\n",
      "Best fitness: 133.00000 - size: (21, 120) - species 1110 - id 8684\n",
      "Average adjusted fitness: 0.096\n"
     ]
    },
    {
     "name": "stderr",
     "output_type": "stream",
     "text": [
      " 27%|██▋       | 102/378 [00:00<00:00, 1004.10it/s]"
     ]
    },
    {
     "name": "stdout",
     "output_type": "stream",
     "text": [
      "Mean genetic distance 4.652, standard deviation 1.193\n",
      "Population of 378 members in 80 species\n",
      "Total extinctions: 0\n",
      "Generation time: 6.039 sec (5.914 average)\n",
      "\n",
      " ****** Running generation 35 ****** \n",
      "\n"
     ]
    },
    {
     "name": "stderr",
     "output_type": "stream",
     "text": [
      "100%|██████████| 378/378 [00:00<00:00, 798.52it/s] \n",
      "100%|██████████| 378/378 [00:01<00:00, 241.84it/s]\n"
     ]
    },
    {
     "name": "stdout",
     "output_type": "stream",
     "text": [
      "Population's average fitness: 35.16402 stdev: 8.49834\n",
      "Best fitness: 139.00000 - size: (21, 120) - species 1110 - id 8684\n",
      "Average adjusted fitness: 0.097\n"
     ]
    },
    {
     "name": "stderr",
     "output_type": "stream",
     "text": [
      " 29%|██▉       | 111/382 [00:00<00:00, 1098.43it/s]"
     ]
    },
    {
     "name": "stdout",
     "output_type": "stream",
     "text": [
      "Mean genetic distance 4.758, standard deviation 1.229\n",
      "Population of 382 members in 78 species\n",
      "Total extinctions: 0\n",
      "Generation time: 6.041 sec (5.922 average)\n",
      "\n",
      " ****** Running generation 36 ****** \n",
      "\n"
     ]
    },
    {
     "name": "stderr",
     "output_type": "stream",
     "text": [
      "100%|██████████| 382/382 [00:00<00:00, 1047.35it/s]\n",
      "100%|██████████| 382/382 [00:02<00:00, 149.09it/s]\n"
     ]
    },
    {
     "name": "stdout",
     "output_type": "stream",
     "text": [
      "Population's average fitness: 34.13874 stdev: 6.83609\n",
      "Best fitness: 76.00000 - size: (21, 110) - species 1251 - id 9799\n",
      "Average adjusted fitness: 0.186\n"
     ]
    },
    {
     "name": "stderr",
     "output_type": "stream",
     "text": [
      " 26%|██▌       | 98/382 [00:00<00:00, 974.49it/s]"
     ]
    },
    {
     "name": "stdout",
     "output_type": "stream",
     "text": [
      "Mean genetic distance 4.802, standard deviation 1.241\n",
      "Population of 382 members in 83 species\n",
      "Total extinctions: 0\n",
      "Generation time: 7.240 sec (6.114 average)\n",
      "\n",
      " ****** Running generation 37 ****** \n",
      "\n"
     ]
    },
    {
     "name": "stderr",
     "output_type": "stream",
     "text": [
      "100%|██████████| 382/382 [00:00<00:00, 1058.19it/s]\n",
      "100%|██████████| 382/382 [00:02<00:00, 174.36it/s]\n"
     ]
    },
    {
     "name": "stdout",
     "output_type": "stream",
     "text": [
      "Population's average fitness: 34.69110 stdev: 7.68686\n",
      "Best fitness: 74.00000 - size: (21, 100) - species 1291 - id 10237\n",
      "Average adjusted fitness: 0.210\n"
     ]
    },
    {
     "name": "stderr",
     "output_type": "stream",
     "text": [
      " 29%|██▉       | 112/381 [00:00<00:00, 1114.95it/s]"
     ]
    },
    {
     "name": "stdout",
     "output_type": "stream",
     "text": [
      "Mean genetic distance 4.856, standard deviation 1.229\n",
      "Population of 381 members in 80 species\n",
      "Total extinctions: 0\n",
      "Generation time: 6.276 sec (6.251 average)\n",
      "\n",
      " ****** Running generation 38 ****** \n",
      "\n"
     ]
    },
    {
     "name": "stderr",
     "output_type": "stream",
     "text": [
      "100%|██████████| 381/381 [00:00<00:00, 1415.63it/s]\n",
      "100%|██████████| 381/381 [00:02<00:00, 172.19it/s]\n"
     ]
    },
    {
     "name": "stdout",
     "output_type": "stream",
     "text": [
      "Population's average fitness: 34.47769 stdev: 6.61880\n",
      "Best fitness: 74.00000 - size: (22, 104) - species 1315 - id 10040\n",
      "Average adjusted fitness: 0.208\n"
     ]
    },
    {
     "name": "stderr",
     "output_type": "stream",
     "text": [
      " 46%|████▌     | 171/372 [00:00<00:00, 1704.33it/s]"
     ]
    },
    {
     "name": "stdout",
     "output_type": "stream",
     "text": [
      "Mean genetic distance 4.954, standard deviation 1.226\n",
      "Population of 372 members in 84 species\n",
      "Total extinctions: 0\n",
      "Generation time: 6.655 sec (6.349 average)\n",
      "\n",
      " ****** Running generation 39 ****** \n",
      "\n"
     ]
    },
    {
     "name": "stderr",
     "output_type": "stream",
     "text": [
      "100%|██████████| 372/372 [00:00<00:00, 1573.58it/s]\n",
      "100%|██████████| 372/372 [00:01<00:00, 192.56it/s]\n"
     ]
    },
    {
     "name": "stdout",
     "output_type": "stream",
     "text": [
      "Population's average fitness: 34.61290 stdev: 5.42403\n",
      "Best fitness: 78.00000 - size: (20, 100) - species 1317 - id 10942\n",
      "Average adjusted fitness: 0.194\n"
     ]
    },
    {
     "name": "stderr",
     "output_type": "stream",
     "text": [
      " 27%|██▋       | 104/381 [00:00<00:00, 1038.99it/s]"
     ]
    },
    {
     "name": "stdout",
     "output_type": "stream",
     "text": [
      "Mean genetic distance 5.107, standard deviation 1.240\n",
      "Population of 381 members in 79 species\n",
      "Total extinctions: 0\n",
      "Generation time: 6.759 sec (6.532 average)\n",
      "\n",
      " ****** Running generation 40 ****** \n",
      "\n"
     ]
    },
    {
     "name": "stderr",
     "output_type": "stream",
     "text": [
      "100%|██████████| 381/381 [00:00<00:00, 820.70it/s] \n",
      "100%|██████████| 381/381 [00:01<00:00, 210.45it/s]\n"
     ]
    },
    {
     "name": "stdout",
     "output_type": "stream",
     "text": [
      "Population's average fitness: 34.83202 stdev: 6.87978\n",
      "Best fitness: 76.00000 - size: (24, 106) - species 1380 - id 11157\n",
      "Average adjusted fitness: 0.216\n"
     ]
    },
    {
     "name": "stderr",
     "output_type": "stream",
     "text": [
      " 26%|██▌       | 98/383 [00:00<00:00, 970.85it/s]"
     ]
    },
    {
     "name": "stdout",
     "output_type": "stream",
     "text": [
      "Mean genetic distance 5.114, standard deviation 1.106\n",
      "Population of 383 members in 85 species\n",
      "Total extinctions: 0\n",
      "Generation time: 7.890 sec (6.831 average)\n",
      "\n",
      " ****** Running generation 41 ****** \n",
      "\n"
     ]
    },
    {
     "name": "stderr",
     "output_type": "stream",
     "text": [
      "100%|██████████| 383/383 [00:00<00:00, 1003.75it/s]\n",
      "100%|██████████| 383/383 [00:02<00:00, 180.24it/s]\n"
     ]
    },
    {
     "name": "stdout",
     "output_type": "stream",
     "text": [
      "Population's average fitness: 34.69452 stdev: 4.81383\n",
      "Best fitness: 74.00000 - size: (17, 77) - species 1321 - id 10723\n",
      "Average adjusted fitness: 0.214\n"
     ]
    },
    {
     "name": "stderr",
     "output_type": "stream",
     "text": [
      " 26%|██▌       | 99/382 [00:00<00:00, 987.72it/s]"
     ]
    },
    {
     "name": "stdout",
     "output_type": "stream",
     "text": [
      "Mean genetic distance 4.942, standard deviation 1.096\n",
      "Population of 382 members in 97 species\n",
      "Total extinctions: 0\n",
      "Generation time: 6.111 sec (6.796 average)\n",
      "\n",
      " ****** Running generation 42 ****** \n",
      "\n"
     ]
    },
    {
     "name": "stderr",
     "output_type": "stream",
     "text": [
      "100%|██████████| 382/382 [00:00<00:00, 1107.89it/s]\n",
      "100%|██████████| 382/382 [00:02<00:00, 187.58it/s]\n"
     ]
    },
    {
     "name": "stdout",
     "output_type": "stream",
     "text": [
      "Population's average fitness: 34.37958 stdev: 8.11113\n",
      "Best fitness: 133.00000 - size: (17, 77) - species 1321 - id 10723\n",
      "Average adjusted fitness: 0.099\n",
      "Mean genetic distance 4.783, standard deviation 1.065\n",
      "Population of 370 members in 93 species\n",
      "Total extinctions: 0\n",
      "Generation time: 6.439 sec (6.582 average)\n",
      "Saving checkpoint to neat-checkpoint-42\n"
     ]
    },
    {
     "name": "stderr",
     "output_type": "stream",
     "text": [
      "100%|██████████| 370/370 [00:00<00:00, 2156.18it/s]\n",
      "  0%|          | 0/370 [00:00<?, ?it/s]"
     ]
    },
    {
     "name": "stdout",
     "output_type": "stream",
     "text": [
      "\n",
      " ****** Running generation 43 ****** \n",
      "\n"
     ]
    },
    {
     "name": "stderr",
     "output_type": "stream",
     "text": [
      "100%|██████████| 370/370 [00:01<00:00, 237.38it/s]\n"
     ]
    },
    {
     "name": "stdout",
     "output_type": "stream",
     "text": [
      "Population's average fitness: 34.35135 stdev: 4.61499\n",
      "Best fitness: 53.00000 - size: (18, 77) - species 1321 - id 12101\n",
      "Average adjusted fitness: 0.329\n"
     ]
    },
    {
     "name": "stderr",
     "output_type": "stream",
     "text": [
      " 25%|██▌       | 96/380 [00:00<00:00, 956.30it/s]"
     ]
    },
    {
     "name": "stdout",
     "output_type": "stream",
     "text": [
      "Mean genetic distance 4.815, standard deviation 1.114\n",
      "Population of 380 members in 94 species\n",
      "Total extinctions: 0\n",
      "Generation time: 5.811 sec (6.526 average)\n",
      "\n",
      " ****** Running generation 44 ****** \n",
      "\n"
     ]
    },
    {
     "name": "stderr",
     "output_type": "stream",
     "text": [
      "100%|██████████| 380/380 [00:00<00:00, 1070.32it/s]\n",
      "100%|██████████| 380/380 [00:01<00:00, 223.47it/s]\n"
     ]
    },
    {
     "name": "stdout",
     "output_type": "stream",
     "text": [
      "Population's average fitness: 34.14737 stdev: 6.64905\n",
      "Best fitness: 77.00000 - size: (20, 80) - species 1458 - id 12335\n",
      "Average adjusted fitness: 0.195\n"
     ]
    },
    {
     "name": "stderr",
     "output_type": "stream",
     "text": [
      " 33%|███▎      | 125/384 [00:00<00:00, 1249.75it/s]"
     ]
    },
    {
     "name": "stdout",
     "output_type": "stream",
     "text": [
      "Mean genetic distance 4.844, standard deviation 1.118\n",
      "Population of 384 members in 86 species\n",
      "Total extinctions: 0\n",
      "Generation time: 6.561 sec (6.578 average)\n",
      "\n",
      " ****** Running generation 45 ****** \n",
      "\n"
     ]
    },
    {
     "name": "stderr",
     "output_type": "stream",
     "text": [
      "100%|██████████| 384/384 [00:00<00:00, 1175.36it/s]\n",
      "100%|██████████| 384/384 [00:01<00:00, 239.73it/s]\n"
     ]
    },
    {
     "name": "stdout",
     "output_type": "stream",
     "text": [
      "Population's average fitness: 34.29167 stdev: 6.19756\n",
      "Best fitness: 76.00000 - size: (19, 80) - species 1458 - id 11988\n",
      "Average adjusted fitness: 0.190\n"
     ]
    },
    {
     "name": "stderr",
     "output_type": "stream",
     "text": [
      "100%|██████████| 370/370 [00:00<00:00, 1871.44it/s]"
     ]
    },
    {
     "name": "stdout",
     "output_type": "stream",
     "text": [
      "Mean genetic distance 4.793, standard deviation 1.087\n",
      "Population of 370 members in 99 species\n",
      "Total extinctions: 0\n",
      "Generation time: 6.209 sec (6.595 average)\n",
      "\n",
      " ****** Running generation 46 ****** \n",
      "\n"
     ]
    },
    {
     "name": "stderr",
     "output_type": "stream",
     "text": [
      "\n",
      "100%|██████████| 370/370 [00:01<00:00, 203.25it/s]\n"
     ]
    },
    {
     "name": "stdout",
     "output_type": "stream",
     "text": [
      "Population's average fitness: 34.67568 stdev: 7.79138\n",
      "Best fitness: 133.00000 - size: (19, 74) - species 1505 - id 12690\n",
      "Average adjusted fitness: 0.099\n"
     ]
    },
    {
     "name": "stderr",
     "output_type": "stream",
     "text": [
      " 36%|███▌      | 136/376 [00:00<00:00, 1351.96it/s]"
     ]
    },
    {
     "name": "stdout",
     "output_type": "stream",
     "text": [
      "Mean genetic distance 4.915, standard deviation 1.052\n",
      "Population of 376 members in 107 species\n",
      "Total extinctions: 0\n",
      "Generation time: 6.581 sec (6.529 average)\n",
      "\n",
      " ****** Running generation 47 ****** \n",
      "\n"
     ]
    },
    {
     "name": "stderr",
     "output_type": "stream",
     "text": [
      "100%|██████████| 376/376 [00:00<00:00, 1375.21it/s]\n",
      "100%|██████████| 376/376 [00:01<00:00, 230.52it/s]\n"
     ]
    },
    {
     "name": "stdout",
     "output_type": "stream",
     "text": [
      "Population's average fitness: 35.17819 stdev: 13.50975\n",
      "Best fitness: 230.00000 - size: (18, 73) - species 1627 - id 13186\n",
      "Average adjusted fitness: 0.057\n"
     ]
    },
    {
     "name": "stderr",
     "output_type": "stream",
     "text": [
      " 32%|███▏      | 124/387 [00:00<00:00, 1235.98it/s]"
     ]
    },
    {
     "name": "stdout",
     "output_type": "stream",
     "text": [
      "Mean genetic distance 4.945, standard deviation 1.065\n",
      "Population of 387 members in 111 species\n",
      "Total extinctions: 0\n",
      "Generation time: 6.952 sec (6.597 average)\n",
      "\n",
      " ****** Running generation 48 ****** \n",
      "\n"
     ]
    },
    {
     "name": "stderr",
     "output_type": "stream",
     "text": [
      "100%|██████████| 387/387 [00:00<00:00, 1333.63it/s]\n",
      "100%|██████████| 387/387 [00:01<00:00, 200.31it/s]\n"
     ]
    },
    {
     "name": "stdout",
     "output_type": "stream",
     "text": [
      "Population's average fitness: 35.01550 stdev: 10.22156\n",
      "Best fitness: 171.00000 - size: (18, 74) - species 1505 - id 13437\n",
      "Average adjusted fitness: 0.075\n"
     ]
    },
    {
     "name": "stderr",
     "output_type": "stream",
     "text": [
      " 18%|█▊        | 66/370 [00:00<00:00, 657.99it/s]"
     ]
    },
    {
     "name": "stdout",
     "output_type": "stream",
     "text": [
      "Mean genetic distance 4.978, standard deviation 1.067\n",
      "Population of 370 members in 111 species\n",
      "Total extinctions: 0\n",
      "Generation time: 6.995 sec (6.631 average)\n",
      "\n",
      " ****** Running generation 49 ****** \n",
      "\n"
     ]
    },
    {
     "name": "stderr",
     "output_type": "stream",
     "text": [
      "100%|██████████| 370/370 [00:00<00:00, 1093.76it/s]\n",
      "100%|██████████| 370/370 [00:01<00:00, 270.14it/s]\n"
     ]
    },
    {
     "name": "stdout",
     "output_type": "stream",
     "text": [
      "Population's average fitness: 35.93514 stdev: 14.36309\n",
      "Best fitness: 230.00000 - size: (18, 73) - species 1666 - id 13457\n",
      "Average adjusted fitness: 0.058\n"
     ]
    },
    {
     "name": "stderr",
     "output_type": "stream",
     "text": [
      " 37%|███▋      | 140/377 [00:00<00:00, 1397.96it/s]"
     ]
    },
    {
     "name": "stdout",
     "output_type": "stream",
     "text": [
      "Mean genetic distance 4.990, standard deviation 1.036\n",
      "Population of 377 members in 111 species\n",
      "Total extinctions: 0\n",
      "Generation time: 6.753 sec (6.630 average)\n",
      "\n",
      " ****** Running generation 50 ****** \n",
      "\n"
     ]
    },
    {
     "name": "stderr",
     "output_type": "stream",
     "text": [
      "100%|██████████| 377/377 [00:00<00:00, 1461.02it/s]\n",
      "100%|██████████| 377/377 [00:01<00:00, 323.55it/s]\n"
     ]
    },
    {
     "name": "stdout",
     "output_type": "stream",
     "text": [
      "Population's average fitness: 35.33952 stdev: 12.76627\n",
      "Best fitness: 171.00000 - size: (19, 74) - species 1659 - id 13906\n",
      "Average adjusted fitness: 0.087\n"
     ]
    },
    {
     "name": "stderr",
     "output_type": "stream",
     "text": [
      " 34%|███▍      | 133/386 [00:00<00:00, 1326.18it/s]"
     ]
    },
    {
     "name": "stdout",
     "output_type": "stream",
     "text": [
      "Mean genetic distance 5.051, standard deviation 1.099\n",
      "Population of 386 members in 93 species\n",
      "Total extinctions: 0\n",
      "Generation time: 6.104 sec (6.452 average)\n",
      "\n",
      " ****** Running generation 51 ****** \n",
      "\n"
     ]
    },
    {
     "name": "stderr",
     "output_type": "stream",
     "text": [
      "100%|██████████| 386/386 [00:00<00:00, 1320.98it/s]\n",
      "100%|██████████| 386/386 [00:01<00:00, 233.31it/s]\n"
     ]
    },
    {
     "name": "stdout",
     "output_type": "stream",
     "text": [
      "Population's average fitness: 37.50518 stdev: 27.45191\n",
      "Best fitness: 439.00000 - size: (17, 68) - species 1721 - id 14188\n",
      "Average adjusted fitness: 0.026\n"
     ]
    },
    {
     "name": "stderr",
     "output_type": "stream",
     "text": [
      " 45%|████▍     | 168/374 [00:00<00:00, 1669.88it/s]"
     ]
    },
    {
     "name": "stdout",
     "output_type": "stream",
     "text": [
      "Mean genetic distance 5.209, standard deviation 1.203\n",
      "Population of 374 members in 91 species\n",
      "Total extinctions: 0\n",
      "Generation time: 6.485 sec (6.489 average)\n",
      "\n",
      " ****** Running generation 52 ****** \n",
      "\n"
     ]
    },
    {
     "name": "stderr",
     "output_type": "stream",
     "text": [
      "100%|██████████| 374/374 [00:00<00:00, 1500.26it/s]\n",
      "100%|██████████| 374/374 [00:01<00:00, 213.70it/s]\n"
     ]
    },
    {
     "name": "stdout",
     "output_type": "stream",
     "text": [
      "Population's average fitness: 35.52406 stdev: 12.31074\n",
      "Best fitness: 171.00000 - size: (17, 68) - species 1757 - id 14188\n",
      "Average adjusted fitness: 0.079\n"
     ]
    },
    {
     "name": "stderr",
     "output_type": "stream",
     "text": [
      " 21%|██        | 80/378 [00:00<00:00, 738.58it/s]"
     ]
    },
    {
     "name": "stdout",
     "output_type": "stream",
     "text": [
      "Mean genetic distance 5.242, standard deviation 1.213\n",
      "Population of 378 members in 98 species\n",
      "Total extinctions: 0\n",
      "Generation time: 6.472 sec (6.492 average)\n",
      "\n",
      " ****** Running generation 53 ****** \n",
      "\n"
     ]
    },
    {
     "name": "stderr",
     "output_type": "stream",
     "text": [
      "100%|██████████| 378/378 [00:00<00:00, 1233.12it/s]\n",
      "100%|██████████| 378/378 [00:01<00:00, 238.94it/s]\n"
     ]
    },
    {
     "name": "stdout",
     "output_type": "stream",
     "text": [
      "Population's average fitness: 37.56614 stdev: 40.65700\n",
      "Best fitness: 753.00000 - size: (17, 67) - species 1721 - id 13924\n",
      "Average adjusted fitness: 0.017\n"
     ]
    },
    {
     "name": "stderr",
     "output_type": "stream",
     "text": [
      " 65%|██████▍   | 235/362 [00:00<00:00, 1212.95it/s]"
     ]
    },
    {
     "name": "stdout",
     "output_type": "stream",
     "text": [
      "Mean genetic distance 5.277, standard deviation 1.241\n",
      "Population of 362 members in 106 species\n",
      "Total extinctions: 0\n",
      "Generation time: 5.777 sec (6.489 average)\n",
      "\n",
      " ****** Running generation 54 ****** \n",
      "\n"
     ]
    },
    {
     "name": "stderr",
     "output_type": "stream",
     "text": [
      "100%|██████████| 362/362 [00:00<00:00, 1362.64it/s]\n",
      "100%|██████████| 362/362 [00:01<00:00, 318.88it/s]\n"
     ]
    },
    {
     "name": "stdout",
     "output_type": "stream",
     "text": [
      "Population's average fitness: 36.45856 stdev: 18.39603\n",
      "Best fitness: 233.00000 - size: (17, 67) - species 1752 - id 14083\n",
      "Average adjusted fitness: 0.061\n"
     ]
    },
    {
     "name": "stderr",
     "output_type": "stream",
     "text": [
      " 40%|███▉      | 151/381 [00:00<00:00, 1509.29it/s]"
     ]
    },
    {
     "name": "stdout",
     "output_type": "stream",
     "text": [
      "Mean genetic distance 5.295, standard deviation 1.219\n",
      "Population of 381 members in 104 species\n",
      "Total extinctions: 0\n",
      "Generation time: 5.417 sec (6.375 average)\n",
      "\n",
      " ****** Running generation 55 ****** \n",
      "\n"
     ]
    },
    {
     "name": "stderr",
     "output_type": "stream",
     "text": [
      "100%|██████████| 381/381 [00:00<00:00, 1263.54it/s]\n",
      "100%|██████████| 381/381 [00:01<00:00, 230.57it/s]\n"
     ]
    },
    {
     "name": "stdout",
     "output_type": "stream",
     "text": [
      "Population's average fitness: 36.96850 stdev: 15.27419\n",
      "Best fitness: 181.00000 - size: (17, 67) - species 1721 - id 13924\n",
      "Average adjusted fitness: 0.084\n"
     ]
    },
    {
     "name": "stderr",
     "output_type": "stream",
     "text": [
      "100%|██████████| 384/384 [00:00<00:00, 2348.23it/s]\n",
      "  0%|          | 0/384 [00:00<?, ?it/s]"
     ]
    },
    {
     "name": "stdout",
     "output_type": "stream",
     "text": [
      "Mean genetic distance 5.401, standard deviation 1.241\n",
      "Population of 384 members in 113 species\n",
      "Total extinctions: 0\n",
      "Generation time: 5.807 sec (6.334 average)\n",
      "\n",
      " ****** Running generation 56 ****** \n",
      "\n"
     ]
    },
    {
     "name": "stderr",
     "output_type": "stream",
     "text": [
      "100%|██████████| 384/384 [00:01<00:00, 273.17it/s]\n"
     ]
    },
    {
     "name": "stdout",
     "output_type": "stream",
     "text": [
      "Population's average fitness: 38.23698 stdev: 27.62629\n",
      "Best fitness: 462.00000 - size: (16, 62) - species 1757 - id 15474\n",
      "Average adjusted fitness: 0.028\n"
     ]
    },
    {
     "name": "stderr",
     "output_type": "stream",
     "text": [
      " 46%|████▋     | 167/360 [00:00<00:00, 1668.97it/s]"
     ]
    },
    {
     "name": "stdout",
     "output_type": "stream",
     "text": [
      "Mean genetic distance 5.514, standard deviation 1.242\n",
      "Population of 360 members in 113 species\n",
      "Total extinctions: 0\n",
      "Generation time: 6.147 sec (6.291 average)\n",
      "\n",
      " ****** Running generation 57 ****** \n",
      "\n"
     ]
    },
    {
     "name": "stderr",
     "output_type": "stream",
     "text": [
      "100%|██████████| 360/360 [00:00<00:00, 1601.50it/s]\n",
      "100%|██████████| 360/360 [00:01<00:00, 285.04it/s]\n"
     ]
    },
    {
     "name": "stdout",
     "output_type": "stream",
     "text": [
      "Population's average fitness: 37.60000 stdev: 22.96171\n",
      "Best fitness: 365.00000 - size: (17, 68) - species 1757 - id 14188\n",
      "Average adjusted fitness: 0.037\n"
     ]
    },
    {
     "name": "stderr",
     "output_type": "stream",
     "text": [
      " 44%|████▍     | 176/398 [00:00<00:00, 1751.72it/s]"
     ]
    },
    {
     "name": "stdout",
     "output_type": "stream",
     "text": [
      "Mean genetic distance 5.418, standard deviation 1.233\n",
      "Population of 398 members in 107 species\n",
      "Total extinctions: 0\n",
      "Generation time: 5.426 sec (6.138 average)\n",
      "\n",
      " ****** Running generation 58 ****** \n",
      "\n"
     ]
    },
    {
     "name": "stderr",
     "output_type": "stream",
     "text": [
      "100%|██████████| 398/398 [00:00<00:00, 1924.51it/s]\n",
      "100%|██████████| 398/398 [00:01<00:00, 270.38it/s]\n"
     ]
    },
    {
     "name": "stdout",
     "output_type": "stream",
     "text": [
      "Population's average fitness: 37.36935 stdev: 29.80880\n",
      "Best fitness: 537.00000 - size: (17, 68) - species 1757 - id 14188\n",
      "Average adjusted fitness: 0.024\n"
     ]
    },
    {
     "name": "stderr",
     "output_type": "stream",
     "text": [
      " 47%|████▋     | 180/379 [00:00<00:00, 1793.42it/s]"
     ]
    },
    {
     "name": "stdout",
     "output_type": "stream",
     "text": [
      "Mean genetic distance 5.340, standard deviation 1.223\n",
      "Population of 379 members in 111 species\n",
      "Total extinctions: 0\n",
      "Generation time: 5.803 sec (6.019 average)\n",
      "\n",
      " ****** Running generation 59 ****** \n",
      "\n"
     ]
    },
    {
     "name": "stderr",
     "output_type": "stream",
     "text": [
      "100%|██████████| 379/379 [00:00<00:00, 1732.95it/s]\n",
      "100%|██████████| 379/379 [00:01<00:00, 258.67it/s]\n"
     ]
    },
    {
     "name": "stdout",
     "output_type": "stream",
     "text": [
      "Population's average fitness: 39.42216 stdev: 47.14287\n",
      "Best fitness: 656.00000 - size: (17, 68) - species 1757 - id 14188\n",
      "Average adjusted fitness: 0.021\n"
     ]
    },
    {
     "name": "stderr",
     "output_type": "stream",
     "text": [
      "100%|██████████| 368/368 [00:00<00:00, 2012.73it/s]\n",
      "  0%|          | 0/368 [00:00<?, ?it/s]"
     ]
    },
    {
     "name": "stdout",
     "output_type": "stream",
     "text": [
      "Mean genetic distance 5.252, standard deviation 1.228\n",
      "Population of 368 members in 115 species\n",
      "Total extinctions: 0\n",
      "Generation time: 6.138 sec (5.958 average)\n",
      "\n",
      " ****** Running generation 60 ****** \n",
      "\n"
     ]
    },
    {
     "name": "stderr",
     "output_type": "stream",
     "text": [
      "100%|██████████| 368/368 [00:01<00:00, 292.76it/s]\n"
     ]
    },
    {
     "name": "stdout",
     "output_type": "stream",
     "text": [
      "Population's average fitness: 38.66848 stdev: 25.12921\n",
      "Best fitness: 327.00000 - size: (16, 62) - species 1757 - id 15474\n",
      "Average adjusted fitness: 0.041\n"
     ]
    },
    {
     "name": "stderr",
     "output_type": "stream",
     "text": [
      "100%|██████████| 380/380 [00:00<00:00, 2334.11it/s]\n",
      "  0%|          | 0/380 [00:00<?, ?it/s]"
     ]
    },
    {
     "name": "stdout",
     "output_type": "stream",
     "text": [
      "Mean genetic distance 5.317, standard deviation 1.232\n",
      "Population of 380 members in 114 species\n",
      "Total extinctions: 0\n",
      "Generation time: 5.990 sec (5.946 average)\n",
      "\n",
      " ****** Running generation 61 ****** \n",
      "\n"
     ]
    },
    {
     "name": "stderr",
     "output_type": "stream",
     "text": [
      "100%|██████████| 380/380 [00:01<00:00, 246.79it/s]\n"
     ]
    },
    {
     "name": "stdout",
     "output_type": "stream",
     "text": [
      "Population's average fitness: 40.87105 stdev: 53.37254\n",
      "Best fitness: 947.00000 - size: (16, 62) - species 1757 - id 15474\n",
      "Average adjusted fitness: 0.015\n"
     ]
    },
    {
     "name": "stderr",
     "output_type": "stream",
     "text": [
      "100%|██████████| 360/360 [00:00<00:00, 2052.62it/s]\n",
      "  0%|          | 0/360 [00:00<?, ?it/s]"
     ]
    },
    {
     "name": "stdout",
     "output_type": "stream",
     "text": [
      "Mean genetic distance 5.355, standard deviation 1.198\n",
      "Population of 360 members in 107 species\n",
      "Total extinctions: 0\n",
      "Generation time: 5.739 sec (5.872 average)\n",
      "\n",
      " ****** Running generation 62 ****** \n",
      "\n"
     ]
    },
    {
     "name": "stderr",
     "output_type": "stream",
     "text": [
      "100%|██████████| 360/360 [00:01<00:00, 284.67it/s]\n"
     ]
    },
    {
     "name": "stdout",
     "output_type": "stream",
     "text": [
      "Population's average fitness: 38.62500 stdev: 21.79490\n",
      "Best fitness: 268.00000 - size: (17, 68) - species 1757 - id 14188\n",
      "Average adjusted fitness: 0.053\n"
     ]
    },
    {
     "name": "stderr",
     "output_type": "stream",
     "text": [
      "100%|██████████| 378/378 [00:00<00:00, 2092.71it/s]\n",
      "  0%|          | 0/378 [00:00<?, ?it/s]"
     ]
    },
    {
     "name": "stdout",
     "output_type": "stream",
     "text": [
      "Mean genetic distance 5.476, standard deviation 1.214\n",
      "Population of 378 members in 104 species\n",
      "Total extinctions: 0\n",
      "Generation time: 5.280 sec (5.753 average)\n",
      "\n",
      " ****** Running generation 63 ****** \n",
      "\n"
     ]
    },
    {
     "name": "stderr",
     "output_type": "stream",
     "text": [
      "100%|██████████| 378/378 [00:01<00:00, 275.93it/s]\n"
     ]
    },
    {
     "name": "stdout",
     "output_type": "stream",
     "text": [
      "Population's average fitness: 37.29894 stdev: 21.66503\n",
      "Best fitness: 230.00000 - size: (15, 57) - species 1894 - id 16885\n",
      "Average adjusted fitness: 0.099\n"
     ]
    },
    {
     "name": "stderr",
     "output_type": "stream",
     "text": [
      " 45%|████▍     | 171/383 [00:00<00:00, 1709.82it/s]"
     ]
    },
    {
     "name": "stdout",
     "output_type": "stream",
     "text": [
      "Mean genetic distance 5.475, standard deviation 1.186\n",
      "Population of 383 members in 99 species\n",
      "Total extinctions: 0\n",
      "Generation time: 5.007 sec (5.676 average)\n",
      "\n",
      " ****** Running generation 64 ****** \n",
      "\n"
     ]
    },
    {
     "name": "stderr",
     "output_type": "stream",
     "text": [
      "100%|██████████| 383/383 [00:00<00:00, 1734.07it/s]\n",
      "100%|██████████| 383/383 [00:01<00:00, 271.87it/s]\n"
     ]
    },
    {
     "name": "stdout",
     "output_type": "stream",
     "text": [
      "Population's average fitness: 37.87728 stdev: 31.18944\n",
      "Best fitness: 521.00000 - size: (18, 58) - species 2003 - id 17439\n",
      "Average adjusted fitness: 0.028\n"
     ]
    },
    {
     "name": "stderr",
     "output_type": "stream",
     "text": [
      " 42%|████▏     | 158/377 [00:00<00:00, 1576.23it/s]"
     ]
    },
    {
     "name": "stdout",
     "output_type": "stream",
     "text": [
      "Mean genetic distance 5.434, standard deviation 1.213\n",
      "Population of 377 members in 92 species\n",
      "Total extinctions: 0\n",
      "Generation time: 5.344 sec (5.668 average)\n",
      "\n",
      " ****** Running generation 65 ****** \n",
      "\n"
     ]
    },
    {
     "name": "stderr",
     "output_type": "stream",
     "text": [
      "100%|██████████| 377/377 [00:00<00:00, 1610.55it/s]\n",
      "100%|██████████| 377/377 [00:01<00:00, 280.55it/s]\n"
     ]
    },
    {
     "name": "stdout",
     "output_type": "stream",
     "text": [
      "Population's average fitness: 39.33687 stdev: 32.62837\n",
      "Best fitness: 462.00000 - size: (18, 58) - species 2003 - id 17439\n",
      "Average adjusted fitness: 0.030\n"
     ]
    },
    {
     "name": "stderr",
     "output_type": "stream",
     "text": [
      "100%|██████████| 383/383 [00:00<00:00, 3070.65it/s]\n",
      "  0%|          | 0/383 [00:00<?, ?it/s]"
     ]
    },
    {
     "name": "stdout",
     "output_type": "stream",
     "text": [
      "Mean genetic distance 5.453, standard deviation 1.188\n",
      "Population of 383 members in 95 species\n",
      "Total extinctions: 0\n",
      "Generation time: 5.291 sec (5.617 average)\n",
      "\n",
      " ****** Running generation 66 ****** \n",
      "\n"
     ]
    },
    {
     "name": "stderr",
     "output_type": "stream",
     "text": [
      "100%|██████████| 383/383 [00:01<00:00, 240.07it/s]\n"
     ]
    },
    {
     "name": "stdout",
     "output_type": "stream",
     "text": [
      "Population's average fitness: 44.07311 stdev: 52.50075\n",
      "Best fitness: 559.00000 - size: (15, 59) - species 2098 - id 17307\n",
      "Average adjusted fitness: 0.044\n"
     ]
    },
    {
     "name": "stderr",
     "output_type": "stream",
     "text": [
      " 43%|████▎     | 158/369 [00:00<00:00, 1573.73it/s]"
     ]
    },
    {
     "name": "stdout",
     "output_type": "stream",
     "text": [
      "Mean genetic distance 5.425, standard deviation 1.232\n",
      "Population of 369 members in 92 species\n",
      "Total extinctions: 0\n",
      "Generation time: 4.833 sec (5.485 average)\n",
      "\n",
      " ****** Running generation 67 ****** \n",
      "\n"
     ]
    },
    {
     "name": "stderr",
     "output_type": "stream",
     "text": [
      "100%|██████████| 369/369 [00:00<00:00, 1334.55it/s]\n",
      "100%|██████████| 369/369 [00:01<00:00, 247.12it/s]\n"
     ]
    },
    {
     "name": "stdout",
     "output_type": "stream",
     "text": [
      "Population's average fitness: 44.33875 stdev: 44.03653\n",
      "Best fitness: 480.00000 - size: (18, 57) - species 2187 - id 17976\n",
      "Average adjusted fitness: 0.036\n"
     ]
    },
    {
     "name": "stderr",
     "output_type": "stream",
     "text": [
      "100%|██████████| 367/367 [00:00<00:00, 2156.68it/s]\n",
      "  0%|          | 0/367 [00:00<?, ?it/s]"
     ]
    },
    {
     "name": "stdout",
     "output_type": "stream",
     "text": [
      "Mean genetic distance 5.328, standard deviation 1.240\n",
      "Population of 367 members in 100 species\n",
      "Total extinctions: 0\n",
      "Generation time: 5.152 sec (5.458 average)\n",
      "\n",
      " ****** Running generation 68 ****** \n",
      "\n"
     ]
    },
    {
     "name": "stderr",
     "output_type": "stream",
     "text": [
      "100%|██████████| 367/367 [00:01<00:00, 243.15it/s]\n"
     ]
    },
    {
     "name": "stdout",
     "output_type": "stream",
     "text": [
      "Population's average fitness: 47.61853 stdev: 59.97399\n",
      "Best fitness: 668.00000 - size: (18, 57) - species 2187 - id 17976\n",
      "Average adjusted fitness: 0.027\n"
     ]
    },
    {
     "name": "stderr",
     "output_type": "stream",
     "text": [
      "100%|██████████| 374/374 [00:00<00:00, 1945.57it/s]\n",
      "  0%|          | 0/374 [00:00<?, ?it/s]"
     ]
    },
    {
     "name": "stdout",
     "output_type": "stream",
     "text": [
      "Mean genetic distance 5.340, standard deviation 1.186\n",
      "Population of 374 members in 118 species\n",
      "Total extinctions: 0\n",
      "Generation time: 6.224 sec (5.500 average)\n",
      "\n",
      " ****** Running generation 69 ****** \n",
      "\n"
     ]
    },
    {
     "name": "stderr",
     "output_type": "stream",
     "text": [
      "100%|██████████| 374/374 [00:01<00:00, 263.63it/s]\n"
     ]
    },
    {
     "name": "stdout",
     "output_type": "stream",
     "text": [
      "Population's average fitness: 45.08289 stdev: 50.12061\n",
      "Best fitness: 521.00000 - size: (15, 53) - species 2137 - id 18655\n",
      "Average adjusted fitness: 0.038\n"
     ]
    },
    {
     "name": "stderr",
     "output_type": "stream",
     "text": [
      "100%|██████████| 361/361 [00:00<00:00, 2022.30it/s]\n",
      "  0%|          | 0/361 [00:00<?, ?it/s]"
     ]
    },
    {
     "name": "stdout",
     "output_type": "stream",
     "text": [
      "Mean genetic distance 5.406, standard deviation 1.163\n",
      "Population of 361 members in 126 species\n",
      "Total extinctions: 0\n",
      "Generation time: 5.769 sec (5.463 average)\n",
      "\n",
      " ****** Running generation 70 ****** \n",
      "\n"
     ]
    },
    {
     "name": "stderr",
     "output_type": "stream",
     "text": [
      "100%|██████████| 361/361 [00:01<00:00, 231.09it/s]\n"
     ]
    },
    {
     "name": "stdout",
     "output_type": "stream",
     "text": [
      "Population's average fitness: 46.17729 stdev: 57.77424\n",
      "Best fitness: 753.00000 - size: (18, 54) - species 2278 - id 18871\n",
      "Average adjusted fitness: 0.023\n"
     ]
    },
    {
     "name": "stderr",
     "output_type": "stream",
     "text": [
      "100%|██████████| 368/368 [00:00<00:00, 2347.91it/s]\n",
      "  0%|          | 0/368 [00:00<?, ?it/s]"
     ]
    },
    {
     "name": "stdout",
     "output_type": "stream",
     "text": [
      "Mean genetic distance 5.382, standard deviation 1.140\n",
      "Population of 368 members in 123 species\n",
      "Total extinctions: 0\n",
      "Generation time: 5.521 sec (5.416 average)\n",
      "\n",
      " ****** Running generation 71 ****** \n",
      "\n"
     ]
    },
    {
     "name": "stderr",
     "output_type": "stream",
     "text": [
      "100%|██████████| 368/368 [00:01<00:00, 232.63it/s]\n"
     ]
    },
    {
     "name": "stdout",
     "output_type": "stream",
     "text": [
      "Population's average fitness: 43.22011 stdev: 37.04944\n",
      "Best fitness: 365.00000 - size: (15, 53) - species 2137 - id 18655\n",
      "Average adjusted fitness: 0.052\n"
     ]
    },
    {
     "name": "stderr",
     "output_type": "stream",
     "text": [
      " 60%|█████▉    | 219/366 [00:00<00:00, 2179.53it/s]"
     ]
    },
    {
     "name": "stdout",
     "output_type": "stream",
     "text": [
      "Mean genetic distance 5.401, standard deviation 1.139\n",
      "Population of 366 members in 113 species\n",
      "Total extinctions: 0\n",
      "Generation time: 5.718 sec (5.414 average)\n",
      "\n",
      " ****** Running generation 72 ****** \n",
      "\n"
     ]
    },
    {
     "name": "stderr",
     "output_type": "stream",
     "text": [
      "100%|██████████| 366/366 [00:00<00:00, 1491.21it/s]\n",
      "100%|██████████| 366/366 [00:01<00:00, 278.96it/s]\n"
     ]
    },
    {
     "name": "stdout",
     "output_type": "stream",
     "text": [
      "Population's average fitness: 43.96721 stdev: 47.37115\n",
      "Best fitness: 635.00000 - size: (15, 56) - species 2206 - id 19262\n",
      "Average adjusted fitness: 0.031\n"
     ]
    },
    {
     "name": "stderr",
     "output_type": "stream",
     "text": [
      "100%|██████████| 364/364 [00:00<00:00, 1931.05it/s]\n",
      "  0%|          | 0/364 [00:00<?, ?it/s]"
     ]
    },
    {
     "name": "stdout",
     "output_type": "stream",
     "text": [
      "Mean genetic distance 5.377, standard deviation 1.142\n",
      "Population of 364 members in 107 species\n",
      "Total extinctions: 0\n",
      "Generation time: 4.787 sec (5.365 average)\n",
      "\n",
      " ****** Running generation 73 ****** \n",
      "\n"
     ]
    },
    {
     "name": "stderr",
     "output_type": "stream",
     "text": [
      "100%|██████████| 364/364 [00:01<00:00, 259.28it/s]\n"
     ]
    },
    {
     "name": "stdout",
     "output_type": "stream",
     "text": [
      "Population's average fitness: 50.64286 stdev: 77.05107\n",
      "Best fitness: 850.00000 - size: (18, 50) - species 2345 - id 19298\n",
      "Average adjusted fitness: 0.027\n"
     ]
    },
    {
     "name": "stderr",
     "output_type": "stream",
     "text": [
      "100%|██████████| 370/370 [00:00<00:00, 2521.35it/s]\n",
      "  0%|          | 0/370 [00:00<?, ?it/s]"
     ]
    },
    {
     "name": "stdout",
     "output_type": "stream",
     "text": [
      "Mean genetic distance 5.434, standard deviation 1.135\n",
      "Population of 370 members in 114 species\n",
      "Total extinctions: 0\n",
      "Generation time: 5.554 sec (5.419 average)\n",
      "\n",
      " ****** Running generation 74 ****** \n",
      "\n"
     ]
    },
    {
     "name": "stderr",
     "output_type": "stream",
     "text": [
      "100%|██████████| 370/370 [00:01<00:00, 195.00it/s]\n"
     ]
    },
    {
     "name": "stdout",
     "output_type": "stream",
     "text": [
      "Population's average fitness: 58.36486 stdev: 107.27678\n",
      "Best fitness: 1626.00000 - size: (18, 55) - species 2308 - id 19737\n",
      "Average adjusted fitness: 0.017\n"
     ]
    },
    {
     "name": "stderr",
     "output_type": "stream",
     "text": [
      "100%|██████████| 374/374 [00:00<00:00, 3427.45it/s]\n",
      "  0%|          | 0/374 [00:00<?, ?it/s]"
     ]
    },
    {
     "name": "stdout",
     "output_type": "stream",
     "text": [
      "Mean genetic distance 5.458, standard deviation 1.153\n",
      "Population of 374 members in 116 species\n",
      "Total extinctions: 0\n",
      "Generation time: 6.040 sec (5.489 average)\n",
      "\n",
      " ****** Running generation 75 ****** \n",
      "\n"
     ]
    },
    {
     "name": "stderr",
     "output_type": "stream",
     "text": [
      "100%|██████████| 374/374 [00:01<00:00, 196.43it/s]\n"
     ]
    },
    {
     "name": "stdout",
     "output_type": "stream",
     "text": [
      "Population's average fitness: 58.50000 stdev: 98.59851\n",
      "Best fitness: 922.00000 - size: (17, 55) - species 2342 - id 18851\n",
      "Average adjusted fitness: 0.033\n"
     ]
    },
    {
     "name": "stderr",
     "output_type": "stream",
     "text": [
      "100%|██████████| 366/366 [00:00<00:00, 2069.80it/s]\n",
      "  0%|          | 0/366 [00:00<?, ?it/s]"
     ]
    },
    {
     "name": "stdout",
     "output_type": "stream",
     "text": [
      "Mean genetic distance 5.590, standard deviation 1.191\n",
      "Population of 366 members in 116 species\n",
      "Total extinctions: 0\n",
      "Generation time: 6.306 sec (5.590 average)\n",
      "\n",
      " ****** Running generation 76 ****** \n",
      "\n"
     ]
    },
    {
     "name": "stderr",
     "output_type": "stream",
     "text": [
      "100%|██████████| 366/366 [00:01<00:00, 240.76it/s]\n"
     ]
    },
    {
     "name": "stdout",
     "output_type": "stream",
     "text": [
      "Population's average fitness: 48.81967 stdev: 67.89457\n",
      "Best fitness: 753.00000 - size: (18, 55) - species 2461 - id 19737\n",
      "Average adjusted fitness: 0.029\n"
     ]
    },
    {
     "name": "stderr",
     "output_type": "stream",
     "text": [
      "100%|██████████| 367/367 [00:00<00:00, 2674.89it/s]\n",
      "  0%|          | 0/367 [00:00<?, ?it/s]"
     ]
    },
    {
     "name": "stdout",
     "output_type": "stream",
     "text": [
      "Mean genetic distance 5.521, standard deviation 1.245\n",
      "Population of 367 members in 115 species\n",
      "Total extinctions: 0\n",
      "Generation time: 5.329 sec (5.640 average)\n",
      "\n",
      " ****** Running generation 77 ****** \n",
      "\n"
     ]
    },
    {
     "name": "stderr",
     "output_type": "stream",
     "text": [
      "100%|██████████| 367/367 [00:01<00:00, 190.31it/s]\n"
     ]
    },
    {
     "name": "stdout",
     "output_type": "stream",
     "text": [
      "Population's average fitness: 62.37875 stdev: 114.17127\n",
      "Best fitness: 1491.00000 - size: (18, 56) - species 2342 - id 20297\n",
      "Average adjusted fitness: 0.018\n"
     ]
    },
    {
     "name": "stderr",
     "output_type": "stream",
     "text": [
      "100%|██████████| 371/371 [00:00<00:00, 3314.48it/s]\n",
      "  0%|          | 0/371 [00:00<?, ?it/s]"
     ]
    },
    {
     "name": "stdout",
     "output_type": "stream",
     "text": [
      "Mean genetic distance 5.595, standard deviation 1.269\n",
      "Population of 371 members in 110 species\n",
      "Total extinctions: 0\n",
      "Generation time: 6.188 sec (5.743 average)\n",
      "\n",
      " ****** Running generation 78 ****** \n",
      "\n"
     ]
    },
    {
     "name": "stderr",
     "output_type": "stream",
     "text": [
      "100%|██████████| 371/371 [00:01<00:00, 246.21it/s]\n"
     ]
    },
    {
     "name": "stdout",
     "output_type": "stream",
     "text": [
      "Population's average fitness: 51.37736 stdev: 65.61961\n",
      "Best fitness: 656.00000 - size: (15, 56) - species 2328 - id 20693\n",
      "Average adjusted fitness: 0.035\n"
     ]
    },
    {
     "name": "stderr",
     "output_type": "stream",
     "text": [
      "100%|██████████| 365/365 [00:00<00:00, 4107.38it/s]\n",
      "  8%|▊         | 30/365 [00:00<00:01, 292.62it/s]"
     ]
    },
    {
     "name": "stdout",
     "output_type": "stream",
     "text": [
      "Mean genetic distance 5.708, standard deviation 1.281\n",
      "Population of 365 members in 115 species\n",
      "Total extinctions: 0\n",
      "Generation time: 5.214 sec (5.643 average)\n",
      "\n",
      " ****** Running generation 79 ****** \n",
      "\n"
     ]
    },
    {
     "name": "stderr",
     "output_type": "stream",
     "text": [
      "100%|██████████| 365/365 [00:01<00:00, 195.57it/s]\n"
     ]
    },
    {
     "name": "stdout",
     "output_type": "stream",
     "text": [
      "Population's average fitness: 61.20548 stdev: 106.12035\n",
      "Best fitness: 947.00000 - size: (17, 55) - species 2342 - id 18851\n",
      "Average adjusted fitness: 0.027\n"
     ]
    },
    {
     "name": "stderr",
     "output_type": "stream",
     "text": [
      "100%|██████████| 361/361 [00:00<00:00, 1970.65it/s]\n",
      "  0%|          | 0/361 [00:00<?, ?it/s]"
     ]
    },
    {
     "name": "stdout",
     "output_type": "stream",
     "text": [
      "Mean genetic distance 5.722, standard deviation 1.242\n",
      "Population of 361 members in 105 species\n",
      "Total extinctions: 0\n",
      "Generation time: 5.119 sec (5.578 average)\n",
      "\n",
      " ****** Running generation 80 ****** \n",
      "\n"
     ]
    },
    {
     "name": "stderr",
     "output_type": "stream",
     "text": [
      "100%|██████████| 361/361 [00:01<00:00, 185.46it/s]\n"
     ]
    },
    {
     "name": "stdout",
     "output_type": "stream",
     "text": [
      "Population's average fitness: 53.80055 stdev: 76.33001\n",
      "Best fitness: 753.00000 - size: (18, 56) - species 2519 - id 20297\n",
      "Average adjusted fitness: 0.028\n"
     ]
    },
    {
     "name": "stderr",
     "output_type": "stream",
     "text": [
      "100%|██████████| 365/365 [00:00<00:00, 4104.00it/s]\n",
      "  0%|          | 0/365 [00:00<?, ?it/s]"
     ]
    },
    {
     "name": "stdout",
     "output_type": "stream",
     "text": [
      "Mean genetic distance 5.706, standard deviation 1.207\n",
      "Population of 365 members in 111 species\n",
      "Total extinctions: 0\n",
      "Generation time: 6.196 sec (5.645 average)\n",
      "\n",
      " ****** Running generation 81 ****** \n",
      "\n"
     ]
    },
    {
     "name": "stderr",
     "output_type": "stream",
     "text": [
      "100%|██████████| 365/365 [00:01<00:00, 237.03it/s]\n"
     ]
    },
    {
     "name": "stdout",
     "output_type": "stream",
     "text": [
      "Population's average fitness: 59.44932 stdev: 133.73450\n",
      "Best fitness: 2171.00000 - size: (18, 56) - species 2519 - id 20297\n",
      "Average adjusted fitness: 0.013\n"
     ]
    },
    {
     "name": "stderr",
     "output_type": "stream",
     "text": [
      "100%|██████████| 367/367 [00:00<00:00, 2524.61it/s]\n",
      "  0%|          | 0/367 [00:00<?, ?it/s]"
     ]
    },
    {
     "name": "stdout",
     "output_type": "stream",
     "text": [
      "Mean genetic distance 5.660, standard deviation 1.194\n",
      "Population of 367 members in 117 species\n",
      "Total extinctions: 0\n",
      "Generation time: 5.245 sec (5.598 average)\n",
      "\n",
      " ****** Running generation 82 ****** \n",
      "\n"
     ]
    },
    {
     "name": "stderr",
     "output_type": "stream",
     "text": [
      "100%|██████████| 367/367 [00:01<00:00, 218.60it/s]\n"
     ]
    },
    {
     "name": "stdout",
     "output_type": "stream",
     "text": [
      "Population's average fitness: 60.35695 stdev: 114.71880\n",
      "Best fitness: 1256.00000 - size: (17, 53) - species 2519 - id 21673\n",
      "Average adjusted fitness: 0.027\n"
     ]
    },
    {
     "name": "stderr",
     "output_type": "stream",
     "text": [
      "100%|██████████| 381/381 [00:00<00:00, 2452.71it/s]\n",
      "  0%|          | 0/381 [00:00<?, ?it/s]"
     ]
    },
    {
     "name": "stdout",
     "output_type": "stream",
     "text": [
      "Mean genetic distance 5.651, standard deviation 1.234\n",
      "Population of 381 members in 126 species\n",
      "Total extinctions: 0\n",
      "Generation time: 6.280 sec (5.747 average)\n",
      "\n",
      " ****** Running generation 83 ****** \n",
      "\n"
     ]
    },
    {
     "name": "stderr",
     "output_type": "stream",
     "text": [
      "100%|██████████| 381/381 [00:02<00:00, 189.42it/s]\n"
     ]
    },
    {
     "name": "stdout",
     "output_type": "stream",
     "text": [
      "Population's average fitness: 63.62205 stdev: 101.25918\n",
      "Best fitness: 1141.00000 - size: (17, 53) - species 2519 - id 21673\n",
      "Average adjusted fitness: 0.047\n"
     ]
    },
    {
     "name": "stderr",
     "output_type": "stream",
     "text": [
      "100%|██████████| 382/382 [00:00<00:00, 2115.55it/s]\n",
      "  0%|          | 0/382 [00:00<?, ?it/s]"
     ]
    },
    {
     "name": "stdout",
     "output_type": "stream",
     "text": [
      "Mean genetic distance 5.721, standard deviation 1.271\n",
      "Population of 382 members in 124 species\n",
      "Total extinctions: 0\n",
      "Generation time: 6.326 sec (5.824 average)\n",
      "\n",
      " ****** Running generation 84 ****** \n",
      "\n"
     ]
    },
    {
     "name": "stderr",
     "output_type": "stream",
     "text": [
      "100%|██████████| 382/382 [00:01<00:00, 229.47it/s]\n"
     ]
    },
    {
     "name": "stdout",
     "output_type": "stream",
     "text": [
      "Population's average fitness: 65.63874 stdev: 138.37972\n",
      "Best fitness: 1782.00000 - size: (17, 50) - species 2671 - id 22052\n",
      "Average adjusted fitness: 0.018\n"
     ]
    },
    {
     "name": "stderr",
     "output_type": "stream",
     "text": [
      "100%|██████████| 368/368 [00:00<00:00, 2354.07it/s]\n",
      "  0%|          | 0/368 [00:00<?, ?it/s]"
     ]
    },
    {
     "name": "stdout",
     "output_type": "stream",
     "text": [
      "Mean genetic distance 5.734, standard deviation 1.248\n",
      "Population of 368 members in 113 species\n",
      "Total extinctions: 0\n",
      "Generation time: 5.789 sec (5.799 average)\n",
      "\n",
      " ****** Running generation 85 ****** \n",
      "\n"
     ]
    },
    {
     "name": "stderr",
     "output_type": "stream",
     "text": [
      "100%|██████████| 368/368 [00:01<00:00, 193.23it/s]\n"
     ]
    },
    {
     "name": "stdout",
     "output_type": "stream",
     "text": [
      "Population's average fitness: 60.38043 stdev: 107.41239\n",
      "Best fitness: 1626.00000 - size: (17, 50) - species 2671 - id 22052\n",
      "Average adjusted fitness: 0.017\n"
     ]
    },
    {
     "name": "stderr",
     "output_type": "stream",
     "text": [
      "100%|██████████| 369/369 [00:00<00:00, 2187.36it/s]\n",
      "  0%|          | 0/369 [00:00<?, ?it/s]"
     ]
    },
    {
     "name": "stdout",
     "output_type": "stream",
     "text": [
      "Mean genetic distance 5.717, standard deviation 1.220\n",
      "Population of 369 members in 131 species\n",
      "Total extinctions: 0\n",
      "Generation time: 6.654 sec (5.834 average)\n",
      "\n",
      " ****** Running generation 86 ****** \n",
      "\n"
     ]
    },
    {
     "name": "stderr",
     "output_type": "stream",
     "text": [
      "100%|██████████| 369/369 [00:01<00:00, 208.08it/s]\n"
     ]
    },
    {
     "name": "stdout",
     "output_type": "stream",
     "text": [
      "Population's average fitness: 60.78049 stdev: 98.01981\n",
      "Best fitness: 1238.00000 - size: (20, 46) - species 2759 - id 21930\n",
      "Average adjusted fitness: 0.030\n"
     ]
    },
    {
     "name": "stderr",
     "output_type": "stream",
     "text": [
      "100%|██████████| 370/370 [00:00<00:00, 3485.25it/s]\n",
      "  0%|          | 0/370 [00:00<?, ?it/s]"
     ]
    },
    {
     "name": "stdout",
     "output_type": "stream",
     "text": [
      "Mean genetic distance 5.741, standard deviation 1.226\n",
      "Population of 370 members in 130 species\n",
      "Total extinctions: 0\n",
      "Generation time: 5.955 sec (5.897 average)\n",
      "\n",
      " ****** Running generation 87 ****** \n",
      "\n"
     ]
    },
    {
     "name": "stderr",
     "output_type": "stream",
     "text": [
      "100%|██████████| 370/370 [00:01<00:00, 228.78it/s]\n"
     ]
    },
    {
     "name": "stdout",
     "output_type": "stream",
     "text": [
      "Population's average fitness: 68.67297 stdev: 122.93359\n",
      "Best fitness: 1432.00000 - size: (16, 47) - species 2811 - id 22482\n",
      "Average adjusted fitness: 0.020\n"
     ]
    },
    {
     "name": "stderr",
     "output_type": "stream",
     "text": [
      "100%|██████████| 379/379 [00:00<00:00, 3986.55it/s]\n",
      "  0%|          | 0/379 [00:00<?, ?it/s]"
     ]
    },
    {
     "name": "stdout",
     "output_type": "stream",
     "text": [
      "Mean genetic distance 5.801, standard deviation 1.214\n",
      "Population of 379 members in 127 species\n",
      "Total extinctions: 0\n",
      "Generation time: 6.086 sec (5.886 average)\n",
      "\n",
      " ****** Running generation 88 ****** \n",
      "\n"
     ]
    },
    {
     "name": "stderr",
     "output_type": "stream",
     "text": [
      "100%|██████████| 379/379 [00:02<00:00, 185.15it/s]\n"
     ]
    },
    {
     "name": "stdout",
     "output_type": "stream",
     "text": [
      "Population's average fitness: 66.68865 stdev: 121.45998\n",
      "Best fitness: 1432.00000 - size: (16, 47) - species 2811 - id 22482\n",
      "Average adjusted fitness: 0.022\n"
     ]
    },
    {
     "name": "stderr",
     "output_type": "stream",
     "text": [
      "100%|██████████| 371/371 [00:00<00:00, 2577.57it/s]\n",
      "  0%|          | 0/371 [00:00<?, ?it/s]"
     ]
    },
    {
     "name": "stdout",
     "output_type": "stream",
     "text": [
      "Mean genetic distance 5.782, standard deviation 1.189\n",
      "Population of 371 members in 120 species\n",
      "Total extinctions: 0\n",
      "Generation time: 6.327 sec (5.998 average)\n",
      "\n",
      " ****** Running generation 89 ****** \n",
      "\n"
     ]
    },
    {
     "name": "stderr",
     "output_type": "stream",
     "text": [
      "100%|██████████| 371/371 [00:01<00:00, 202.99it/s]\n"
     ]
    },
    {
     "name": "stdout",
     "output_type": "stream",
     "text": [
      "Population's average fitness: 64.67925 stdev: 104.21627\n",
      "Best fitness: 957.00000 - size: (16, 42) - species 2750 - id 22171\n",
      "Average adjusted fitness: 0.032\n"
     ]
    },
    {
     "name": "stderr",
     "output_type": "stream",
     "text": [
      "100%|██████████| 370/370 [00:00<00:00, 3516.86it/s]\n",
      "  0%|          | 0/370 [00:00<?, ?it/s]"
     ]
    },
    {
     "name": "stdout",
     "output_type": "stream",
     "text": [
      "Mean genetic distance 5.738, standard deviation 1.207\n",
      "Population of 370 members in 106 species\n",
      "Total extinctions: 0\n",
      "Generation time: 5.811 sec (6.067 average)\n",
      "\n",
      " ****** Running generation 90 ****** \n",
      "\n"
     ]
    },
    {
     "name": "stderr",
     "output_type": "stream",
     "text": [
      "100%|██████████| 370/370 [00:01<00:00, 234.15it/s]\n"
     ]
    },
    {
     "name": "stdout",
     "output_type": "stream",
     "text": [
      "Population's average fitness: 63.85405 stdev: 101.60754\n",
      "Best fitness: 1006.00000 - size: (17, 41) - species 2873 - id 23419\n",
      "Average adjusted fitness: 0.032\n"
     ]
    },
    {
     "name": "stderr",
     "output_type": "stream",
     "text": [
      "100%|██████████| 368/368 [00:00<00:00, 2048.74it/s]\n",
      "  0%|          | 0/368 [00:00<?, ?it/s]"
     ]
    },
    {
     "name": "stdout",
     "output_type": "stream",
     "text": [
      "Mean genetic distance 5.737, standard deviation 1.229\n",
      "Population of 368 members in 106 species\n",
      "Total extinctions: 0\n",
      "Generation time: 6.295 sec (6.077 average)\n",
      "\n",
      " ****** Running generation 91 ****** \n",
      "\n"
     ]
    },
    {
     "name": "stderr",
     "output_type": "stream",
     "text": [
      "100%|██████████| 368/368 [00:01<00:00, 207.80it/s]\n"
     ]
    },
    {
     "name": "stdout",
     "output_type": "stream",
     "text": [
      "Population's average fitness: 59.16304 stdev: 89.46633\n",
      "Best fitness: 1044.00000 - size: (18, 45) - species 2872 - id 22648\n",
      "Average adjusted fitness: 0.037\n"
     ]
    },
    {
     "name": "stderr",
     "output_type": "stream",
     "text": [
      "100%|██████████| 371/371 [00:00<00:00, 2994.30it/s]\n",
      "  0%|          | 0/371 [00:00<?, ?it/s]"
     ]
    },
    {
     "name": "stdout",
     "output_type": "stream",
     "text": [
      "Mean genetic distance 5.849, standard deviation 1.267\n",
      "Population of 371 members in 108 species\n",
      "Total extinctions: 0\n",
      "Generation time: 5.495 sec (6.102 average)\n",
      "\n",
      " ****** Running generation 92 ****** \n",
      "\n"
     ]
    },
    {
     "name": "stderr",
     "output_type": "stream",
     "text": [
      "100%|██████████| 371/371 [00:01<00:00, 252.92it/s]\n"
     ]
    },
    {
     "name": "stdout",
     "output_type": "stream",
     "text": [
      "Population's average fitness: 65.12399 stdev: 97.46817\n",
      "Best fitness: 1006.00000 - size: (19, 50) - species 2896 - id 23367\n",
      "Average adjusted fitness: 0.027\n"
     ]
    },
    {
     "name": "stderr",
     "output_type": "stream",
     "text": [
      "100%|██████████| 368/368 [00:00<00:00, 4902.72it/s]\n",
      " 17%|█▋        | 64/368 [00:00<00:00, 636.20it/s]"
     ]
    },
    {
     "name": "stdout",
     "output_type": "stream",
     "text": [
      "Mean genetic distance 5.933, standard deviation 1.297\n",
      "Population of 368 members in 104 species\n",
      "Total extinctions: 0\n",
      "Generation time: 5.263 sec (6.000 average)\n",
      "\n",
      " ****** Running generation 93 ****** \n",
      "\n"
     ]
    },
    {
     "name": "stderr",
     "output_type": "stream",
     "text": [
      "100%|██████████| 368/368 [00:01<00:00, 234.30it/s]\n"
     ]
    },
    {
     "name": "stdout",
     "output_type": "stream",
     "text": [
      "Population's average fitness: 63.53804 stdev: 95.46334\n",
      "Best fitness: 947.00000 - size: (19, 49) - species 2990 - id 24032\n",
      "Average adjusted fitness: 0.035\n"
     ]
    },
    {
     "name": "stderr",
     "output_type": "stream",
     "text": [
      "100%|██████████| 368/368 [00:00<00:00, 2448.66it/s]\n",
      "  0%|          | 0/368 [00:00<?, ?it/s]"
     ]
    },
    {
     "name": "stdout",
     "output_type": "stream",
     "text": [
      "Mean genetic distance 6.069, standard deviation 1.287\n",
      "Population of 368 members in 111 species\n",
      "Total extinctions: 0\n",
      "Generation time: 5.325 sec (5.900 average)\n",
      "\n",
      " ****** Running generation 94 ****** \n",
      "\n"
     ]
    },
    {
     "name": "stderr",
     "output_type": "stream",
     "text": [
      "100%|██████████| 368/368 [00:01<00:00, 215.92it/s]\n"
     ]
    },
    {
     "name": "stdout",
     "output_type": "stream",
     "text": [
      "Population's average fitness: 53.70109 stdev: 65.36497\n",
      "Best fitness: 618.00000 - size: (16, 50) - species 2917 - id 24341\n",
      "Average adjusted fitness: 0.035\n"
     ]
    },
    {
     "name": "stderr",
     "output_type": "stream",
     "text": [
      "\r",
      "  0%|          | 0/370 [00:00<?, ?it/s]"
     ]
    },
    {
     "name": "stdout",
     "output_type": "stream",
     "text": [
      "Mean genetic distance 5.931, standard deviation 1.272\n",
      "Population of 370 members in 115 species\n",
      "Total extinctions: 0\n",
      "Generation time: 5.802 sec (5.901 average)\n",
      "Saving checkpoint to neat-checkpoint-94\n",
      "\n",
      " ****** Running generation 95 ****** \n",
      "\n"
     ]
    },
    {
     "name": "stderr",
     "output_type": "stream",
     "text": [
      "100%|██████████| 370/370 [00:00<00:00, 3883.70it/s]\n",
      "100%|██████████| 370/370 [00:01<00:00, 290.25it/s]\n"
     ]
    },
    {
     "name": "stdout",
     "output_type": "stream",
     "text": [
      "Population's average fitness: 57.76757 stdev: 82.28100\n",
      "Best fitness: 947.00000 - size: (18, 50) - species 2999 - id 23999\n",
      "Average adjusted fitness: 0.037\n"
     ]
    },
    {
     "name": "stderr",
     "output_type": "stream",
     "text": [
      "100%|██████████| 369/369 [00:00<00:00, 4966.46it/s]\n",
      " 11%|█         | 40/369 [00:00<00:00, 386.33it/s]"
     ]
    },
    {
     "name": "stdout",
     "output_type": "stream",
     "text": [
      "Mean genetic distance 5.743, standard deviation 1.266\n",
      "Population of 369 members in 102 species\n",
      "Total extinctions: 0\n",
      "Generation time: 6.119 sec (5.848 average)\n",
      "\n",
      " ****** Running generation 96 ****** \n",
      "\n"
     ]
    },
    {
     "name": "stderr",
     "output_type": "stream",
     "text": [
      "100%|██████████| 369/369 [00:01<00:00, 239.30it/s]\n"
     ]
    },
    {
     "name": "stdout",
     "output_type": "stream",
     "text": [
      "Population's average fitness: 63.05420 stdev: 97.78890\n",
      "Best fitness: 1238.00000 - size: (19, 49) - species 3049 - id 24032\n",
      "Average adjusted fitness: 0.029\n"
     ]
    },
    {
     "name": "stderr",
     "output_type": "stream",
     "text": [
      "100%|██████████| 372/372 [00:00<00:00, 2567.84it/s]\n",
      "  0%|          | 0/372 [00:00<?, ?it/s]"
     ]
    },
    {
     "name": "stdout",
     "output_type": "stream",
     "text": [
      "Mean genetic distance 5.636, standard deviation 1.278\n",
      "Population of 372 members in 103 species\n",
      "Total extinctions: 0\n",
      "Generation time: 5.674 sec (5.820 average)\n",
      "\n",
      " ****** Running generation 97 ****** \n",
      "\n"
     ]
    },
    {
     "name": "stderr",
     "output_type": "stream",
     "text": [
      "100%|██████████| 372/372 [00:01<00:00, 209.34it/s]\n"
     ]
    },
    {
     "name": "stdout",
     "output_type": "stream",
     "text": [
      "Population's average fitness: 61.39247 stdev: 80.75215\n",
      "Best fitness: 715.00000 - size: (18, 46) - species 3081 - id 24556\n",
      "Average adjusted fitness: 0.042\n"
     ]
    },
    {
     "name": "stderr",
     "output_type": "stream",
     "text": [
      "100%|██████████| 365/365 [00:00<00:00, 3301.13it/s]\n",
      "  0%|          | 0/365 [00:00<?, ?it/s]"
     ]
    },
    {
     "name": "stdout",
     "output_type": "stream",
     "text": [
      "Mean genetic distance 5.545, standard deviation 1.239\n",
      "Population of 365 members in 102 species\n",
      "Total extinctions: 0\n",
      "Generation time: 5.807 sec (5.792 average)\n",
      "\n",
      " ****** Running generation 98 ****** \n",
      "\n"
     ]
    },
    {
     "name": "stderr",
     "output_type": "stream",
     "text": [
      "100%|██████████| 365/365 [00:01<00:00, 197.26it/s]\n"
     ]
    },
    {
     "name": "stdout",
     "output_type": "stream",
     "text": [
      "Population's average fitness: 67.72877 stdev: 112.35477\n",
      "Best fitness: 1238.00000 - size: (16, 50) - species 3101 - id 25284\n",
      "Average adjusted fitness: 0.026\n"
     ]
    },
    {
     "name": "stderr",
     "output_type": "stream",
     "text": [
      "100%|██████████| 370/370 [00:00<00:00, 3705.02it/s]\n",
      "  0%|          | 0/370 [00:00<?, ?it/s]"
     ]
    },
    {
     "name": "stdout",
     "output_type": "stream",
     "text": [
      "Mean genetic distance 5.519, standard deviation 1.182\n",
      "Population of 370 members in 101 species\n",
      "Total extinctions: 0\n",
      "Generation time: 5.085 sec (5.668 average)\n",
      "\n",
      " ****** Running generation 99 ****** \n",
      "\n"
     ]
    },
    {
     "name": "stderr",
     "output_type": "stream",
     "text": [
      "100%|██████████| 370/370 [00:02<00:00, 174.07it/s]\n"
     ]
    },
    {
     "name": "stdout",
     "output_type": "stream",
     "text": [
      "Population's average fitness: 68.79189 stdev: 133.81208\n",
      "Best fitness: 1626.00000 - size: (16, 51) - species 3101 - id 25568\n",
      "Average adjusted fitness: 0.016\n"
     ]
    },
    {
     "name": "stderr",
     "output_type": "stream",
     "text": [
      "100%|██████████| 369/369 [00:00<00:00, 2728.41it/s]\n",
      "  0%|          | 0/369 [00:00<?, ?it/s]"
     ]
    },
    {
     "name": "stdout",
     "output_type": "stream",
     "text": [
      "Mean genetic distance 5.431, standard deviation 1.165\n",
      "Population of 369 members in 112 species\n",
      "Total extinctions: 0\n",
      "Generation time: 6.303 sec (5.717 average)\n",
      "\n",
      " ****** Running generation 100 ****** \n",
      "\n"
     ]
    },
    {
     "name": "stderr",
     "output_type": "stream",
     "text": [
      "100%|██████████| 369/369 [00:01<00:00, 237.05it/s]\n"
     ]
    },
    {
     "name": "stdout",
     "output_type": "stream",
     "text": [
      "Population's average fitness: 57.34146 stdev: 75.29643\n",
      "Best fitness: 754.00000 - size: (17, 46) - species 3122 - id 25425\n",
      "Average adjusted fitness: 0.044\n"
     ]
    },
    {
     "name": "stderr",
     "output_type": "stream",
     "text": [
      "100%|██████████| 363/363 [00:00<00:00, 2985.50it/s]\n",
      "  0%|          | 0/363 [00:00<?, ?it/s]"
     ]
    },
    {
     "name": "stdout",
     "output_type": "stream",
     "text": [
      "Mean genetic distance 5.392, standard deviation 1.175\n",
      "Population of 363 members in 107 species\n",
      "Total extinctions: 0\n",
      "Generation time: 5.614 sec (5.649 average)\n",
      "\n",
      " ****** Running generation 101 ****** \n",
      "\n"
     ]
    },
    {
     "name": "stderr",
     "output_type": "stream",
     "text": [
      "100%|██████████| 363/363 [00:01<00:00, 260.81it/s]\n"
     ]
    },
    {
     "name": "stdout",
     "output_type": "stream",
     "text": [
      "Population's average fitness: 55.11295 stdev: 67.56016\n",
      "Best fitness: 656.00000 - size: (16, 51) - species 3216 - id 26042\n",
      "Average adjusted fitness: 0.039\n"
     ]
    },
    {
     "name": "stderr",
     "output_type": "stream",
     "text": [
      "100%|██████████| 370/370 [00:00<00:00, 2492.72it/s]\n",
      "  0%|          | 0/370 [00:00<?, ?it/s]"
     ]
    },
    {
     "name": "stdout",
     "output_type": "stream",
     "text": [
      "Mean genetic distance 5.450, standard deviation 1.111\n",
      "Population of 370 members in 114 species\n",
      "Total extinctions: 0\n",
      "Generation time: 4.733 sec (5.572 average)\n",
      "\n",
      " ****** Running generation 102 ****** \n",
      "\n"
     ]
    },
    {
     "name": "stderr",
     "output_type": "stream",
     "text": [
      "100%|██████████| 370/370 [00:01<00:00, 221.64it/s]\n"
     ]
    },
    {
     "name": "stdout",
     "output_type": "stream",
     "text": [
      "Population's average fitness: 65.65676 stdev: 108.99620\n",
      "Best fitness: 1044.00000 - size: (18, 51) - species 3169 - id 25310\n",
      "Average adjusted fitness: 0.027\n"
     ]
    },
    {
     "name": "stderr",
     "output_type": "stream",
     "text": [
      "100%|██████████| 368/368 [00:00<00:00, 4105.29it/s]\n",
      " 14%|█▎        | 50/368 [00:00<00:00, 496.61it/s]"
     ]
    },
    {
     "name": "stdout",
     "output_type": "stream",
     "text": [
      "Mean genetic distance 5.403, standard deviation 1.096\n",
      "Population of 368 members in 112 species\n",
      "Total extinctions: 0\n",
      "Generation time: 4.795 sec (5.526 average)\n",
      "\n",
      " ****** Running generation 103 ****** \n",
      "\n"
     ]
    },
    {
     "name": "stderr",
     "output_type": "stream",
     "text": [
      "100%|██████████| 368/368 [00:01<00:00, 218.69it/s]\n"
     ]
    },
    {
     "name": "stdout",
     "output_type": "stream",
     "text": [
      "Population's average fitness: 56.62228 stdev: 70.78336\n",
      "Best fitness: 559.00000 - size: (19, 50) - species 3202 - id 26398\n",
      "Average adjusted fitness: 0.052\n"
     ]
    },
    {
     "name": "stderr",
     "output_type": "stream",
     "text": [
      "100%|██████████| 372/372 [00:00<00:00, 2396.89it/s]\n",
      "  0%|          | 0/372 [00:00<?, ?it/s]"
     ]
    },
    {
     "name": "stdout",
     "output_type": "stream",
     "text": [
      "Mean genetic distance 5.250, standard deviation 1.106\n",
      "Population of 372 members in 102 species\n",
      "Total extinctions: 0\n",
      "Generation time: 5.668 sec (5.560 average)\n",
      "\n",
      " ****** Running generation 104 ****** \n",
      "\n"
     ]
    },
    {
     "name": "stderr",
     "output_type": "stream",
     "text": [
      "100%|██████████| 372/372 [00:02<00:00, 164.95it/s]\n"
     ]
    },
    {
     "name": "stdout",
     "output_type": "stream",
     "text": [
      "Population's average fitness: 66.63978 stdev: 107.02163\n",
      "Best fitness: 1141.00000 - size: (18, 46) - species 3243 - id 26737\n",
      "Average adjusted fitness: 0.031\n"
     ]
    },
    {
     "name": "stderr",
     "output_type": "stream",
     "text": [
      "100%|██████████| 370/370 [00:00<00:00, 2164.29it/s]\n",
      "  0%|          | 0/370 [00:00<?, ?it/s]"
     ]
    },
    {
     "name": "stdout",
     "output_type": "stream",
     "text": [
      "Mean genetic distance 5.249, standard deviation 1.122\n",
      "Population of 370 members in 94 species\n",
      "Total extinctions: 0\n",
      "Generation time: 6.065 sec (5.586 average)\n",
      "\n",
      " ****** Running generation 105 ****** \n",
      "\n"
     ]
    },
    {
     "name": "stderr",
     "output_type": "stream",
     "text": [
      "100%|██████████| 370/370 [00:01<00:00, 203.31it/s]\n"
     ]
    },
    {
     "name": "stdout",
     "output_type": "stream",
     "text": [
      "Population's average fitness: 65.92703 stdev: 109.88037\n",
      "Best fitness: 1141.00000 - size: (15, 45) - species 3297 - id 26580\n",
      "Average adjusted fitness: 0.028\n"
     ]
    },
    {
     "name": "stderr",
     "output_type": "stream",
     "text": [
      " 73%|███████▎  | 269/371 [00:00<00:00, 2688.26it/s]"
     ]
    },
    {
     "name": "stdout",
     "output_type": "stream",
     "text": [
      "Mean genetic distance 5.309, standard deviation 1.124\n",
      "Population of 371 members in 115 species\n",
      "Total extinctions: 0\n",
      "Generation time: 5.506 sec (5.525 average)\n",
      "\n",
      " ****** Running generation 106 ****** \n",
      "\n"
     ]
    },
    {
     "name": "stderr",
     "output_type": "stream",
     "text": [
      "100%|██████████| 371/371 [00:00<00:00, 1778.05it/s]\n",
      "100%|██████████| 371/371 [00:02<00:00, 179.41it/s]\n"
     ]
    },
    {
     "name": "stdout",
     "output_type": "stream",
     "text": [
      "Population's average fitness: 69.78706 stdev: 110.61933\n",
      "Best fitness: 850.00000 - size: (15, 46) - species 3349 - id 27099\n",
      "Average adjusted fitness: 0.047\n"
     ]
    },
    {
     "name": "stderr",
     "output_type": "stream",
     "text": [
      "100%|██████████| 369/369 [00:00<00:00, 2917.64it/s]\n",
      "  0%|          | 0/369 [00:00<?, ?it/s]"
     ]
    },
    {
     "name": "stdout",
     "output_type": "stream",
     "text": [
      "Mean genetic distance 5.394, standard deviation 1.143\n",
      "Population of 369 members in 117 species\n",
      "Total extinctions: 0\n",
      "Generation time: 5.974 sec (5.555 average)\n",
      "\n",
      " ****** Running generation 107 ****** \n",
      "\n"
     ]
    },
    {
     "name": "stderr",
     "output_type": "stream",
     "text": [
      "100%|██████████| 369/369 [00:02<00:00, 176.99it/s]\n"
     ]
    },
    {
     "name": "stdout",
     "output_type": "stream",
     "text": [
      "Population's average fitness: 70.26287 stdev: 142.08123\n",
      "Best fitness: 1723.00000 - size: (15, 46) - species 3349 - id 27099\n",
      "Average adjusted fitness: 0.025\n"
     ]
    },
    {
     "name": "stderr",
     "output_type": "stream",
     "text": [
      "100%|██████████| 369/369 [00:00<00:00, 2767.49it/s]\n",
      "  0%|          | 0/369 [00:00<?, ?it/s]"
     ]
    },
    {
     "name": "stdout",
     "output_type": "stream",
     "text": [
      "Mean genetic distance 5.438, standard deviation 1.167\n",
      "Population of 369 members in 115 species\n",
      "Total extinctions: 0\n",
      "Generation time: 5.263 sec (5.501 average)\n",
      "\n",
      " ****** Running generation 108 ****** \n",
      "\n"
     ]
    },
    {
     "name": "stderr",
     "output_type": "stream",
     "text": [
      "100%|██████████| 369/369 [00:01<00:00, 190.84it/s]\n"
     ]
    },
    {
     "name": "stdout",
     "output_type": "stream",
     "text": [
      "Population's average fitness: 71.02168 stdev: 131.05443\n",
      "Best fitness: 1218.00000 - size: (17, 44) - species 3406 - id 27592\n",
      "Average adjusted fitness: 0.035\n"
     ]
    },
    {
     "name": "stderr",
     "output_type": "stream",
     "text": [
      "100%|██████████| 369/369 [00:00<00:00, 2264.87it/s]\n",
      "  0%|          | 0/369 [00:00<?, ?it/s]"
     ]
    },
    {
     "name": "stdout",
     "output_type": "stream",
     "text": [
      "Mean genetic distance 5.377, standard deviation 1.146\n",
      "Population of 369 members in 105 species\n",
      "Total extinctions: 0\n",
      "Generation time: 4.755 sec (5.468 average)\n",
      "\n",
      " ****** Running generation 109 ****** \n",
      "\n"
     ]
    },
    {
     "name": "stderr",
     "output_type": "stream",
     "text": [
      "100%|██████████| 369/369 [00:01<00:00, 269.71it/s]\n"
     ]
    },
    {
     "name": "stdout",
     "output_type": "stream",
     "text": [
      "Population's average fitness: 71.20867 stdev: 125.04311\n",
      "Best fitness: 1314.00000 - size: (17, 44) - species 3406 - id 27592\n",
      "Average adjusted fitness: 0.027\n"
     ]
    },
    {
     "name": "stderr",
     "output_type": "stream",
     "text": [
      "100%|██████████| 368/368 [00:00<00:00, 4031.06it/s]\n",
      " 18%|█▊        | 65/368 [00:00<00:00, 648.19it/s]"
     ]
    },
    {
     "name": "stdout",
     "output_type": "stream",
     "text": [
      "Mean genetic distance 5.283, standard deviation 1.103\n",
      "Population of 368 members in 106 species\n",
      "Total extinctions: 0\n",
      "Generation time: 4.600 sec (5.297 average)\n",
      "\n",
      " ****** Running generation 110 ****** \n",
      "\n"
     ]
    },
    {
     "name": "stderr",
     "output_type": "stream",
     "text": [
      "100%|██████████| 368/368 [00:01<00:00, 229.34it/s]\n"
     ]
    },
    {
     "name": "stdout",
     "output_type": "stream",
     "text": [
      "Population's average fitness: 63.40761 stdev: 82.88633\n",
      "Best fitness: 656.00000 - size: (15, 46) - species 3447 - id 27099\n",
      "Average adjusted fitness: 0.062\n"
     ]
    },
    {
     "name": "stderr",
     "output_type": "stream",
     "text": [
      "100%|██████████| 370/370 [00:00<00:00, 4589.73it/s]\n",
      " 11%|█▏        | 42/370 [00:00<00:00, 411.46it/s]"
     ]
    },
    {
     "name": "stdout",
     "output_type": "stream",
     "text": [
      "Mean genetic distance 5.328, standard deviation 1.152\n",
      "Population of 370 members in 114 species\n",
      "Total extinctions: 0\n",
      "Generation time: 4.094 sec (5.145 average)\n",
      "\n",
      " ****** Running generation 111 ****** \n",
      "\n"
     ]
    },
    {
     "name": "stderr",
     "output_type": "stream",
     "text": [
      "100%|██████████| 370/370 [00:01<00:00, 202.75it/s]\n"
     ]
    },
    {
     "name": "stdout",
     "output_type": "stream",
     "text": [
      "Population's average fitness: 73.24865 stdev: 145.19140\n",
      "Best fitness: 1626.00000 - size: (15, 46) - species 3488 - id 27522\n",
      "Average adjusted fitness: 0.022\n"
     ]
    },
    {
     "name": "stderr",
     "output_type": "stream",
     "text": [
      "100%|██████████| 372/372 [00:00<00:00, 2825.96it/s]\n",
      "  0%|          | 0/372 [00:00<?, ?it/s]"
     ]
    },
    {
     "name": "stdout",
     "output_type": "stream",
     "text": [
      "Mean genetic distance 5.365, standard deviation 1.183\n",
      "Population of 372 members in 113 species\n",
      "Total extinctions: 0\n",
      "Generation time: 5.034 sec (5.175 average)\n",
      "\n",
      " ****** Running generation 112 ****** \n",
      "\n"
     ]
    },
    {
     "name": "stderr",
     "output_type": "stream",
     "text": [
      "100%|██████████| 372/372 [00:01<00:00, 196.16it/s]\n"
     ]
    },
    {
     "name": "stdout",
     "output_type": "stream",
     "text": [
      "Population's average fitness: 78.96774 stdev: 142.37269\n",
      "Best fitness: 1723.00000 - size: (15, 46) - species 3534 - id 28637\n",
      "Average adjusted fitness: 0.022\n"
     ]
    },
    {
     "name": "stderr",
     "output_type": "stream",
     "text": [
      "100%|██████████| 381/381 [00:00<00:00, 2953.72it/s]\n",
      "  0%|          | 0/381 [00:00<?, ?it/s]"
     ]
    },
    {
     "name": "stdout",
     "output_type": "stream",
     "text": [
      "Mean genetic distance 5.427, standard deviation 1.191\n",
      "Population of 381 members in 120 species\n",
      "Total extinctions: 0\n",
      "Generation time: 5.041 sec (5.200 average)\n",
      "\n",
      " ****** Running generation 113 ****** \n",
      "\n"
     ]
    },
    {
     "name": "stderr",
     "output_type": "stream",
     "text": [
      "100%|██████████| 381/381 [00:01<00:00, 191.33it/s]\n"
     ]
    },
    {
     "name": "stdout",
     "output_type": "stream",
     "text": [
      "Population's average fitness: 75.77165 stdev: 124.61360\n",
      "Best fitness: 1103.00000 - size: (19, 46) - species 3451 - id 27560\n",
      "Average adjusted fitness: 0.058\n"
     ]
    },
    {
     "name": "stderr",
     "output_type": "stream",
     "text": [
      "100%|██████████| 372/372 [00:00<00:00, 3441.48it/s]\n",
      "  0%|          | 0/372 [00:00<?, ?it/s]"
     ]
    },
    {
     "name": "stdout",
     "output_type": "stream",
     "text": [
      "Mean genetic distance 5.436, standard deviation 1.183\n",
      "Population of 372 members in 109 species\n",
      "Total extinctions: 0\n",
      "Generation time: 4.107 sec (5.044 average)\n",
      "\n",
      " ****** Running generation 114 ****** \n",
      "\n"
     ]
    },
    {
     "name": "stderr",
     "output_type": "stream",
     "text": [
      "100%|██████████| 372/372 [00:01<00:00, 190.84it/s]\n"
     ]
    },
    {
     "name": "stdout",
     "output_type": "stream",
     "text": [
      "Population's average fitness: 83.17204 stdev: 151.69463\n",
      "Best fitness: 1685.00000 - size: (17, 43) - species 3536 - id 28697\n",
      "Average adjusted fitness: 0.028\n"
     ]
    },
    {
     "name": "stderr",
     "output_type": "stream",
     "text": [
      "100%|██████████| 372/372 [00:00<00:00, 3048.70it/s]\n",
      "  0%|          | 0/372 [00:00<?, ?it/s]"
     ]
    },
    {
     "name": "stdout",
     "output_type": "stream",
     "text": [
      "Mean genetic distance 5.410, standard deviation 1.161\n",
      "Population of 372 members in 106 species\n",
      "Total extinctions: 0\n",
      "Generation time: 4.597 sec (4.897 average)\n",
      "\n",
      " ****** Running generation 115 ****** \n",
      "\n"
     ]
    },
    {
     "name": "stderr",
     "output_type": "stream",
     "text": [
      "100%|██████████| 372/372 [00:01<00:00, 194.85it/s]\n"
     ]
    },
    {
     "name": "stdout",
     "output_type": "stream",
     "text": [
      "Population's average fitness: 94.22849 stdev: 186.42208\n",
      "Best fitness: 1917.00000 - size: (13, 41) - species 3635 - id 29235\n",
      "Average adjusted fitness: 0.046\n"
     ]
    },
    {
     "name": "stderr",
     "output_type": "stream",
     "text": [
      " 71%|███████   | 267/376 [00:00<00:00, 2663.82it/s]"
     ]
    },
    {
     "name": "stdout",
     "output_type": "stream",
     "text": [
      "Mean genetic distance 5.559, standard deviation 1.169\n",
      "Population of 376 members in 120 species\n",
      "Total extinctions: 0\n",
      "Generation time: 5.494 sec (4.896 average)\n",
      "\n",
      " ****** Running generation 116 ****** \n",
      "\n"
     ]
    },
    {
     "name": "stderr",
     "output_type": "stream",
     "text": [
      "100%|██████████| 376/376 [00:00<00:00, 1817.37it/s]\n",
      "100%|██████████| 376/376 [00:02<00:00, 155.04it/s]\n"
     ]
    },
    {
     "name": "stdout",
     "output_type": "stream",
     "text": [
      "Population's average fitness: 100.01862 stdev: 221.18946\n",
      "Best fitness: 2596.00000 - size: (14, 46) - species 3480 - id 29487\n",
      "Average adjusted fitness: 0.025\n"
     ]
    },
    {
     "name": "stderr",
     "output_type": "stream",
     "text": [
      "100%|██████████| 389/389 [00:00<00:00, 3240.65it/s]\n",
      "  0%|          | 0/389 [00:00<?, ?it/s]"
     ]
    },
    {
     "name": "stdout",
     "output_type": "stream",
     "text": [
      "Mean genetic distance 5.563, standard deviation 1.199\n",
      "Population of 389 members in 131 species\n",
      "Total extinctions: 0\n",
      "Generation time: 5.527 sec (4.851 average)\n",
      "\n",
      " ****** Running generation 117 ****** \n",
      "\n"
     ]
    },
    {
     "name": "stderr",
     "output_type": "stream",
     "text": [
      "100%|██████████| 389/389 [00:02<00:00, 133.95it/s]\n"
     ]
    },
    {
     "name": "stdout",
     "output_type": "stream",
     "text": [
      "Population's average fitness: 95.76350 stdev: 210.83042\n",
      "Best fitness: 2790.00000 - size: (15, 48) - species 3630 - id 29526\n",
      "Average adjusted fitness: 0.019\n"
     ]
    },
    {
     "name": "stderr",
     "output_type": "stream",
     "text": [
      "100%|██████████| 384/384 [00:00<00:00, 4160.33it/s]\n",
      " 11%|█▏        | 44/384 [00:00<00:00, 438.53it/s]"
     ]
    },
    {
     "name": "stdout",
     "output_type": "stream",
     "text": [
      "Mean genetic distance 5.576, standard deviation 1.181\n",
      "Population of 384 members in 124 species\n",
      "Total extinctions: 0\n",
      "Generation time: 6.141 sec (4.939 average)\n",
      "\n",
      " ****** Running generation 118 ****** \n",
      "\n"
     ]
    },
    {
     "name": "stderr",
     "output_type": "stream",
     "text": [
      "100%|██████████| 384/384 [00:02<00:00, 180.27it/s]\n"
     ]
    },
    {
     "name": "stdout",
     "output_type": "stream",
     "text": [
      "Population's average fitness: 86.17448 stdev: 160.84798\n",
      "Best fitness: 1394.00000 - size: (17, 43) - species 3536 - id 28452\n",
      "Average adjusted fitness: 0.050\n"
     ]
    },
    {
     "name": "stderr",
     "output_type": "stream",
     "text": [
      "100%|██████████| 382/382 [00:00<00:00, 2645.28it/s]\n",
      "  0%|          | 0/382 [00:00<?, ?it/s]"
     ]
    },
    {
     "name": "stdout",
     "output_type": "stream",
     "text": [
      "Mean genetic distance 5.595, standard deviation 1.219\n",
      "Population of 382 members in 125 species\n",
      "Total extinctions: 0\n",
      "Generation time: 4.975 sec (4.961 average)\n",
      "\n",
      " ****** Running generation 119 ****** \n",
      "\n"
     ]
    },
    {
     "name": "stderr",
     "output_type": "stream",
     "text": [
      "100%|██████████| 382/382 [00:02<00:00, 166.37it/s]\n"
     ]
    },
    {
     "name": "stdout",
     "output_type": "stream",
     "text": [
      "Population's average fitness: 101.87435 stdev: 285.05925\n",
      "Best fitness: 4633.00000 - size: (15, 48) - species 3750 - id 30032\n",
      "Average adjusted fitness: 0.011\n"
     ]
    },
    {
     "name": "stderr",
     "output_type": "stream",
     "text": [
      "100%|██████████| 370/370 [00:00<00:00, 3770.82it/s]\n",
      "  0%|          | 0/370 [00:00<?, ?it/s]"
     ]
    },
    {
     "name": "stdout",
     "output_type": "stream",
     "text": [
      "Mean genetic distance 5.689, standard deviation 1.252\n",
      "Population of 370 members in 111 species\n",
      "Total extinctions: 0\n",
      "Generation time: 4.912 sec (4.992 average)\n",
      "\n",
      " ****** Running generation 120 ****** \n",
      "\n"
     ]
    },
    {
     "name": "stderr",
     "output_type": "stream",
     "text": [
      "100%|██████████| 370/370 [00:01<00:00, 215.23it/s]\n"
     ]
    },
    {
     "name": "stdout",
     "output_type": "stream",
     "text": [
      "Population's average fitness: 81.31351 stdev: 168.11278\n",
      "Best fitness: 2073.00000 - size: (16, 42) - species 3660 - id 29811\n",
      "Average adjusted fitness: 0.023\n"
     ]
    },
    {
     "name": "stderr",
     "output_type": "stream",
     "text": [
      "100%|██████████| 371/371 [00:00<00:00, 2790.90it/s]\n",
      "  0%|          | 0/371 [00:00<?, ?it/s]"
     ]
    },
    {
     "name": "stdout",
     "output_type": "stream",
     "text": [
      "Mean genetic distance 5.675, standard deviation 1.268\n",
      "Population of 371 members in 112 species\n",
      "Total extinctions: 0\n",
      "Generation time: 4.860 sec (5.069 average)\n",
      "\n",
      " ****** Running generation 121 ****** \n",
      "\n"
     ]
    },
    {
     "name": "stderr",
     "output_type": "stream",
     "text": [
      "100%|██████████| 371/371 [00:01<00:00, 212.94it/s]\n"
     ]
    },
    {
     "name": "stdout",
     "output_type": "stream",
     "text": [
      "Population's average fitness: 81.22642 stdev: 145.25016\n",
      "Best fitness: 1141.00000 - size: (15, 46) - species 3703 - id 29707\n",
      "Average adjusted fitness: 0.041\n"
     ]
    },
    {
     "name": "stderr",
     "output_type": "stream",
     "text": [
      "100%|██████████| 371/371 [00:00<00:00, 2959.85it/s]\n",
      "  0%|          | 0/371 [00:00<?, ?it/s]"
     ]
    },
    {
     "name": "stdout",
     "output_type": "stream",
     "text": [
      "Mean genetic distance 5.650, standard deviation 1.248\n",
      "Population of 371 members in 105 species\n",
      "Total extinctions: 0\n",
      "Generation time: 4.546 sec (5.020 average)\n",
      "\n",
      " ****** Running generation 122 ****** \n",
      "\n"
     ]
    },
    {
     "name": "stderr",
     "output_type": "stream",
     "text": [
      "100%|██████████| 371/371 [00:01<00:00, 253.23it/s]\n"
     ]
    },
    {
     "name": "stdout",
     "output_type": "stream",
     "text": [
      "Population's average fitness: 72.64960 stdev: 123.43874\n",
      "Best fitness: 1117.00000 - size: (15, 47) - species 3807 - id 30537\n",
      "Average adjusted fitness: 0.041\n"
     ]
    },
    {
     "name": "stderr",
     "output_type": "stream",
     "text": [
      "100%|██████████| 372/372 [00:00<00:00, 2890.11it/s]\n",
      "  0%|          | 0/372 [00:00<?, ?it/s]"
     ]
    },
    {
     "name": "stdout",
     "output_type": "stream",
     "text": [
      "Mean genetic distance 5.605, standard deviation 1.228\n",
      "Population of 372 members in 124 species\n",
      "Total extinctions: 0\n",
      "Generation time: 4.026 sec (4.918 average)\n",
      "\n",
      " ****** Running generation 123 ****** \n",
      "\n"
     ]
    },
    {
     "name": "stderr",
     "output_type": "stream",
     "text": [
      "100%|██████████| 372/372 [00:02<00:00, 156.52it/s]\n"
     ]
    },
    {
     "name": "stdout",
     "output_type": "stream",
     "text": [
      "Population's average fitness: 90.16398 stdev: 233.04238\n",
      "Best fitness: 2896.00000 - size: (16, 50) - species 3867 - id 31177\n",
      "Average adjusted fitness: 0.015\n"
     ]
    },
    {
     "name": "stderr",
     "output_type": "stream",
     "text": [
      "100%|██████████| 384/384 [00:00<00:00, 3357.06it/s]\n",
      "  0%|          | 0/384 [00:00<?, ?it/s]"
     ]
    },
    {
     "name": "stdout",
     "output_type": "stream",
     "text": [
      "Mean genetic distance 5.557, standard deviation 1.236\n",
      "Population of 384 members in 122 species\n",
      "Total extinctions: 0\n",
      "Generation time: 5.094 sec (5.017 average)\n",
      "\n",
      " ****** Running generation 124 ****** \n",
      "\n"
     ]
    },
    {
     "name": "stderr",
     "output_type": "stream",
     "text": [
      "100%|██████████| 384/384 [00:02<00:00, 152.00it/s]\n"
     ]
    },
    {
     "name": "stdout",
     "output_type": "stream",
     "text": [
      "Population's average fitness: 84.13542 stdev: 177.80378\n",
      "Best fitness: 1685.00000 - size: (18, 45) - species 3857 - id 31340\n",
      "Average adjusted fitness: 0.029\n"
     ]
    },
    {
     "name": "stderr",
     "output_type": "stream",
     "text": [
      "100%|██████████| 389/389 [00:00<00:00, 2004.06it/s]"
     ]
    },
    {
     "name": "stdout",
     "output_type": "stream",
     "text": [
      "Mean genetic distance 5.585, standard deviation 1.270\n",
      "Population of 389 members in 122 species\n",
      "Total extinctions: 0\n",
      "Generation time: 6.088 sec (5.166 average)\n",
      "\n",
      " ****** Running generation 125 ****** \n",
      "\n"
     ]
    },
    {
     "name": "stderr",
     "output_type": "stream",
     "text": [
      "\n",
      "100%|██████████| 389/389 [00:03<00:00, 114.97it/s]\n"
     ]
    },
    {
     "name": "stdout",
     "output_type": "stream",
     "text": [
      "Population's average fitness: 96.05656 stdev: 188.67129\n",
      "Best fitness: 1603.00000 - size: (16, 50) - species 3941 - id 31577\n",
      "Average adjusted fitness: 0.026\n"
     ]
    },
    {
     "name": "stderr",
     "output_type": "stream",
     "text": [
      "100%|██████████| 369/369 [00:00<00:00, 2043.26it/s]\n",
      "  0%|          | 0/369 [00:00<?, ?it/s]"
     ]
    },
    {
     "name": "stdout",
     "output_type": "stream",
     "text": [
      "Mean genetic distance 5.460, standard deviation 1.255\n",
      "Population of 369 members in 100 species\n",
      "Total extinctions: 0\n",
      "Generation time: 6.911 sec (5.308 average)\n",
      "\n",
      " ****** Running generation 126 ****** \n",
      "\n"
     ]
    },
    {
     "name": "stderr",
     "output_type": "stream",
     "text": [
      "100%|██████████| 369/369 [00:02<00:00, 156.55it/s]\n"
     ]
    },
    {
     "name": "stdout",
     "output_type": "stream",
     "text": [
      "Population's average fitness: 103.39295 stdev: 322.98493\n",
      "Best fitness: 3954.00000 - size: (17, 49) - species 3941 - id 31914\n",
      "Average adjusted fitness: 0.012\n"
     ]
    },
    {
     "name": "stderr",
     "output_type": "stream",
     "text": [
      "100%|██████████| 372/372 [00:00<00:00, 2910.24it/s]\n",
      "  0%|          | 0/372 [00:00<?, ?it/s]"
     ]
    },
    {
     "name": "stdout",
     "output_type": "stream",
     "text": [
      "Mean genetic distance 5.299, standard deviation 1.201\n",
      "Population of 372 members in 105 species\n",
      "Total extinctions: 0\n",
      "Generation time: 4.994 sec (5.255 average)\n",
      "\n",
      " ****** Running generation 127 ****** \n",
      "\n"
     ]
    },
    {
     "name": "stderr",
     "output_type": "stream",
     "text": [
      "100%|██████████| 372/372 [00:02<00:00, 133.00it/s]\n"
     ]
    },
    {
     "name": "stdout",
     "output_type": "stream",
     "text": [
      "Population's average fitness: 114.38441 stdev: 275.42427\n",
      "Best fitness: 3472.00000 - size: (15, 45) - species 3961 - id 32116\n",
      "Average adjusted fitness: 0.020\n"
     ]
    },
    {
     "name": "stderr",
     "output_type": "stream",
     "text": [
      "100%|██████████| 384/384 [00:00<00:00, 4958.94it/s]\n",
      " 15%|█▌        | 58/384 [00:00<00:00, 553.04it/s]"
     ]
    },
    {
     "name": "stdout",
     "output_type": "stream",
     "text": [
      "Mean genetic distance 5.271, standard deviation 1.184\n",
      "Population of 384 members in 115 species\n",
      "Total extinctions: 0\n",
      "Generation time: 5.446 sec (5.185 average)\n",
      "\n",
      " ****** Running generation 128 ****** \n",
      "\n"
     ]
    },
    {
     "name": "stderr",
     "output_type": "stream",
     "text": [
      "100%|██████████| 384/384 [00:03<00:00, 127.90it/s]\n"
     ]
    },
    {
     "name": "stdout",
     "output_type": "stream",
     "text": [
      "Population's average fitness: 123.53125 stdev: 329.49323\n",
      "Best fitness: 4536.00000 - size: (16, 51) - species 4028 - id 32169\n",
      "Average adjusted fitness: 0.018\n"
     ]
    },
    {
     "name": "stderr",
     "output_type": "stream",
     "text": [
      "100%|██████████| 390/390 [00:00<00:00, 2697.34it/s]\n",
      "  0%|          | 0/390 [00:00<?, ?it/s]"
     ]
    },
    {
     "name": "stdout",
     "output_type": "stream",
     "text": [
      "Mean genetic distance 5.377, standard deviation 1.175\n",
      "Population of 390 members in 122 species\n",
      "Total extinctions: 0\n",
      "Generation time: 5.722 sec (5.260 average)\n",
      "\n",
      " ****** Running generation 129 ****** \n",
      "\n"
     ]
    },
    {
     "name": "stderr",
     "output_type": "stream",
     "text": [
      "100%|██████████| 390/390 [00:04<00:00, 93.40it/s] \n"
     ]
    },
    {
     "name": "stdout",
     "output_type": "stream",
     "text": [
      "Population's average fitness: 172.99744 stdev: 616.36206\n",
      "Best fitness: 7931.00000 - size: (14, 39) - species 4027 - id 32339\n",
      "\n",
      "Best individual in generation 129 meets fitness threshold - complexity: (14, 39)\n",
      "<neat.nn.feed_forward.FeedForwardNetwork object at 0x7faadcbf8828>\n"
     ]
    }
   ],
   "source": [
    "if __name__ == '__main__':\n",
    "    config_path = 'flappy-config.txt'\n",
    "    winner = run(config_path)\n",
    "    print(winner)"
   ]
  },
  {
   "cell_type": "code",
   "execution_count": 6,
   "metadata": {},
   "outputs": [],
   "source": [
    "import pickle\n",
    "with open('winner-ctrnn', 'wb') as f:\n",
    "    pickle.dump(winner, f)"
   ]
  },
  {
   "cell_type": "code",
   "execution_count": null,
   "metadata": {},
   "outputs": [],
   "source": []
  },
  {
   "cell_type": "code",
   "execution_count": null,
   "metadata": {},
   "outputs": [],
   "source": []
  }
 ],
 "metadata": {
  "kernelspec": {
   "display_name": "Python 3",
   "language": "python",
   "name": "python3"
  },
  "language_info": {
   "codemirror_mode": {
    "name": "ipython",
    "version": 3
   },
   "file_extension": ".py",
   "mimetype": "text/x-python",
   "name": "python",
   "nbconvert_exporter": "python",
   "pygments_lexer": "ipython3",
   "version": "3.6.8"
  }
 },
 "nbformat": 4,
 "nbformat_minor": 2
}
