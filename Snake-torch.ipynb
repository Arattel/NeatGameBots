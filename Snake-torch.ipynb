{
 "cells": [
  {
   "cell_type": "code",
   "execution_count": 1,
   "metadata": {},
   "outputs": [],
   "source": [
    "import gym\n",
    "import gym_snake\n",
    "import numpy as np\n",
    "import cv2 as cv\n",
    "import torch\n",
    "import random\n",
    "import matplotlib.pyplot as plt\n",
    "\n",
    "from helpers.feature_extraction import feature_vector\n",
    "from helpers.genetic_algorithms import create_mating_pool, create_population, calculate_fitness\n",
    "\n",
    "# Construct Environment\n",
    "env = gym.make('snake-v0')\n",
    "env.grid_size = 15, 15\n",
    "observation = env.reset()  # Constructs an instance of the game\n",
    "\n",
    "# Controller\n",
    "game_controller = env.controller\n",
    "\n",
    "# Grid\n",
    "grid_object = game_controller.grid\n",
    "grid_pixels = grid_object.grid\n",
    "\n",
    "# Snake(s)\n",
    "snakes_array = game_controller.snakes\n",
    "snake_object = snakes_array[0]\n",
    "\n",
    "# observation = env.reset()\n",
    "to_pixels = lambda x: cv.resize(x, env.grid_size)\n",
    "        "
   ]
  },
  {
   "cell_type": "code",
   "execution_count": 2,
   "metadata": {},
   "outputs": [
    {
     "name": "stdout",
     "output_type": "stream",
     "text": [
      "True\n"
     ]
    }
   ],
   "source": [
    "# Check if cuda is available\n",
    "print(torch.cuda.is_available())\n",
    "cuda = torch.device('cuda:0')"
   ]
  },
  {
   "cell_type": "code",
   "execution_count": 5,
   "metadata": {},
   "outputs": [
    {
     "name": "stdout",
     "output_type": "stream",
     "text": [
      "[ 0.          1.          0.          0.         11.         10.\n",
      "  3.          8.         12.          7.          0.08727021]\n"
     ]
    }
   ],
   "source": [
    "# Check feature vector for initial snake position\n",
    "print(feature_vector(snake_object, grid_object.grid, env.grid_size, grid_object.FOOD_COLOR))  "
   ]
  },
  {
   "cell_type": "code",
   "execution_count": 6,
   "metadata": {},
   "outputs": [
    {
     "data": {
      "text/plain": [
       "<matplotlib.image.AxesImage at 0x1ad837b4d30>"
      ]
     },
     "execution_count": 6,
     "metadata": {},
     "output_type": "execute_result"
    },
    {
     "data": {
      "image/png": "[encoded data removed]",
      "text/plain": [
       "<Figure size 432x288 with 1 Axes>"
      ]
     },
     "metadata": {
      "needs_background": "light"
     },
     "output_type": "display_data"
    }
   ],
   "source": [
    "# Make a step and plot the returned observation\n",
    "plt.imshow(env.step(snake_object.RIGHT)[0])"
   ]
  },
  {
   "cell_type": "code",
   "execution_count": 8,
   "metadata": {
    "scrolled": false
   },
   "outputs": [
    {
     "name": "stdout",
     "output_type": "stream",
     "text": [
      "gen: 1. Best result: -14.0\n",
      "gen: 2. Best result: -14.0\n",
      "gen: 3. Best result: -14.5\n",
      "gen: 4. Best result: -14.5\n",
      "gen: 5. Best result: -97.75\n",
      "gen: 6. Best result: -16.5\n",
      "gen: 7. Best result: -14.5\n",
      "gen: 8. Best result: -97.75\n",
      "gen: 9. Best result: -14.0\n",
      "gen: 10. Best result: -14.0\n",
      "gen: 11. Best result: -97.75\n",
      "gen: 12. Best result: -97.75\n",
      "gen: 13. Best result: -97.75\n",
      "gen: 14. Best result: -97.75\n",
      "gen: 15. Best result: -14.25\n",
      "gen: 16. Best result: -14.25\n",
      "gen: 17. Best result: -10.25\n",
      "gen: 18. Best result: -97.75\n",
      "gen: 19. Best result: -97.75\n",
      "gen: 20. Best result: -14.0\n",
      "gen: 21. Best result: -97.75\n",
      "gen: 22. Best result: -97.75\n",
      "gen: 23. Best result: -98.5\n",
      "gen: 24. Best result: -92.59314575050762\n",
      "gen: 25. Best result: -97.75\n",
      "gen: 26. Best result: -97.75\n",
      "gen: 27. Best result: -97.75\n",
      "gen: 28. Best result: -97.75\n",
      "gen: 29. Best result: -97.75\n",
      "gen: 30. Best result: -102.0\n",
      "gen: 31. Best result: -97.75\n",
      "gen: 32. Best result: -97.75\n",
      "gen: 33. Best result: -97.75\n",
      "gen: 34. Best result: -97.75\n",
      "gen: 35. Best result: -97.75\n",
      "gen: 36. Best result: -97.75\n",
      "gen: 37. Best result: -97.75\n",
      "gen: 38. Best result: -97.75\n",
      "gen: 39. Best result: -97.75\n",
      "gen: 40. Best result: -97.75\n",
      "gen: 41. Best result: -97.75\n",
      "gen: 42. Best result: -97.75\n",
      "gen: 43. Best result: -97.75\n",
      "gen: 44. Best result: -97.75\n",
      "gen: 45. Best result: -97.75\n",
      "gen: 46. Best result: -97.75\n",
      "gen: 47. Best result: -97.75\n",
      "gen: 48. Best result: -97.75\n",
      "gen: 49. Best result: -97.75\n",
      "gen: 50. Best result: -97.75\n",
      "gen: 51. Best result: -97.75\n",
      "gen: 52. Best result: -97.75\n",
      "gen: 53. Best result: -97.75\n",
      "gen: 54. Best result: -97.75\n",
      "gen: 55. Best result: -97.75\n",
      "gen: 56. Best result: -97.75\n",
      "gen: 57. Best result: -97.75\n",
      "gen: 58. Best result: -97.75\n",
      "gen: 59. Best result: -97.75\n",
      "gen: 60. Best result: -91.84314575050762\n",
      "gen: 61. Best result: -97.75\n",
      "gen: 62. Best result: -97.75\n",
      "gen: 63. Best result: -97.75\n",
      "gen: 64. Best result: -97.75\n",
      "gen: 65. Best result: -97.75\n",
      "gen: 66. Best result: -97.75\n",
      "gen: 67. Best result: -97.75\n",
      "gen: 68. Best result: -97.75\n",
      "gen: 69. Best result: -97.75\n",
      "gen: 70. Best result: -97.75\n",
      "gen: 71. Best result: -102.0\n",
      "gen: 72. Best result: -97.75\n",
      "gen: 73. Best result: -97.75\n",
      "gen: 74. Best result: -97.75\n",
      "gen: 75. Best result: -97.75\n",
      "gen: 76. Best result: -97.75\n",
      "gen: 77. Best result: -97.75\n",
      "gen: 78. Best result: -97.75\n",
      "gen: 79. Best result: -97.75\n",
      "gen: 80. Best result: -97.75\n",
      "gen: 81. Best result: -97.75\n",
      "gen: 82. Best result: -97.75\n",
      "gen: 83. Best result: -97.75\n",
      "gen: 84. Best result: -102.0\n",
      "gen: 85. Best result: -102.0\n",
      "gen: 86. Best result: -97.75\n",
      "gen: 87. Best result: -97.75\n",
      "gen: 88. Best result: -97.75\n",
      "gen: 89. Best result: -97.75\n",
      "gen: 90. Best result: -97.75\n",
      "gen: 91. Best result: -97.75\n"
     ]
    },
    {
     "ename": "KeyboardInterrupt",
     "evalue": "",
     "output_type": "error",
     "traceback": [
      "\u001b[1;31m---------------------------------------------------------------------------\u001b[0m",
      "\u001b[1;31mKeyboardInterrupt\u001b[0m                         Traceback (most recent call last)",
      "\u001b[1;32m<ipython-input-8-a9b21cbbbc35>\u001b[0m in \u001b[0;36m<module>\u001b[1;34m\u001b[0m\n\u001b[0;32m     21\u001b[0m         \u001b[0mparent1\u001b[0m\u001b[1;33m,\u001b[0m \u001b[0mparent2\u001b[0m \u001b[1;33m=\u001b[0m \u001b[0msample\u001b[0m\u001b[1;33m[\u001b[0m\u001b[1;36m0\u001b[0m\u001b[1;33m]\u001b[0m\u001b[1;33m,\u001b[0m \u001b[0msample\u001b[0m\u001b[1;33m[\u001b[0m\u001b[1;36m1\u001b[0m\u001b[1;33m]\u001b[0m\u001b[1;33m\u001b[0m\u001b[1;33m\u001b[0m\u001b[0m\n\u001b[0;32m     22\u001b[0m         \u001b[0mchild1\u001b[0m\u001b[1;33m,\u001b[0m \u001b[0mchild2\u001b[0m \u001b[1;33m=\u001b[0m \u001b[0mparent1\u001b[0m\u001b[1;33m.\u001b[0m\u001b[0mcrossover\u001b[0m\u001b[1;33m(\u001b[0m\u001b[0mparent2\u001b[0m\u001b[1;33m)\u001b[0m\u001b[1;33m\u001b[0m\u001b[1;33m\u001b[0m\u001b[0m\n\u001b[1;32m---> 23\u001b[1;33m         \u001b[0mchild1\u001b[0m\u001b[1;33m.\u001b[0m\u001b[0mmutate\u001b[0m\u001b[1;33m(\u001b[0m\u001b[1;33m)\u001b[0m\u001b[1;33m\u001b[0m\u001b[1;33m\u001b[0m\u001b[0m\n\u001b[0m\u001b[0;32m     24\u001b[0m         \u001b[0mchild2\u001b[0m\u001b[1;33m.\u001b[0m\u001b[0mmutate\u001b[0m\u001b[1;33m(\u001b[0m\u001b[1;33m)\u001b[0m\u001b[1;33m\u001b[0m\u001b[1;33m\u001b[0m\u001b[0m\n\u001b[0;32m     25\u001b[0m         \u001b[0mnew_generation\u001b[0m \u001b[1;33m+=\u001b[0m \u001b[1;33m[\u001b[0m\u001b[0mchild1\u001b[0m\u001b[1;33m,\u001b[0m \u001b[0mchild2\u001b[0m\u001b[1;33m]\u001b[0m\u001b[1;33m\u001b[0m\u001b[1;33m\u001b[0m\u001b[0m\n",
      "\u001b[1;32mD:\\programming\\untitled\\SnakeBot\\helpers\\GameNet.py\u001b[0m in \u001b[0;36mmutate\u001b[1;34m(self, p)\u001b[0m\n\u001b[0;32m     24\u001b[0m                 \u001b[1;32mif\u001b[0m \u001b[0mrandom\u001b[0m\u001b[1;33m.\u001b[0m\u001b[0muniform\u001b[0m\u001b[1;33m(\u001b[0m\u001b[1;36m0\u001b[0m\u001b[1;33m,\u001b[0m \u001b[1;36m1\u001b[0m\u001b[1;33m)\u001b[0m \u001b[1;33m<=\u001b[0m \u001b[0mp\u001b[0m\u001b[1;33m:\u001b[0m\u001b[1;33m\u001b[0m\u001b[1;33m\u001b[0m\u001b[0m\n\u001b[0;32m     25\u001b[0m                     \u001b[0mdelta\u001b[0m \u001b[1;33m=\u001b[0m \u001b[0mrandom\u001b[0m\u001b[1;33m.\u001b[0m\u001b[0muniform\u001b[0m\u001b[1;33m(\u001b[0m\u001b[1;33m-\u001b[0m\u001b[1;36m.5\u001b[0m\u001b[1;33m,\u001b[0m \u001b[1;36m.5\u001b[0m\u001b[1;33m)\u001b[0m\u001b[1;33m\u001b[0m\u001b[1;33m\u001b[0m\u001b[0m\n\u001b[1;32m---> 26\u001b[1;33m                     \u001b[0mstate_dict\u001b[0m\u001b[1;33m[\u001b[0m\u001b[0mkey\u001b[0m\u001b[1;33m]\u001b[0m\u001b[1;33m[\u001b[0m\u001b[0mindex\u001b[0m\u001b[1;33m]\u001b[0m \u001b[1;33m+=\u001b[0m \u001b[0mdelta\u001b[0m\u001b[1;33m\u001b[0m\u001b[1;33m\u001b[0m\u001b[0m\n\u001b[0m\u001b[0;32m     27\u001b[0m         \u001b[1;32mreturn\u001b[0m \u001b[0mself\u001b[0m\u001b[1;33m.\u001b[0m\u001b[0mload_state_dict\u001b[0m\u001b[1;33m(\u001b[0m\u001b[0mstate_dict\u001b[0m\u001b[1;33m)\u001b[0m\u001b[1;33m\u001b[0m\u001b[1;33m\u001b[0m\u001b[0m\n\u001b[0;32m     28\u001b[0m \u001b[1;33m\u001b[0m\u001b[0m\n",
      "\u001b[1;31mKeyboardInterrupt\u001b[0m: "
     ]
    }
   ],
   "source": [
    "# Initial population + configurations\n",
    "n_individuals = 100\n",
    "n_generations = 200\n",
    "population = create_population(n_individuals)\n",
    "percentage_to_save = .3\n",
    "\n",
    "\n",
    "for i in range(n_generations):\n",
    "    new_generation = []\n",
    "    fitness = []\n",
    "\n",
    "    for j in range(len(population)):\n",
    "        fit_score = calculate_fitness(population[j], env, display=False, save=False)\n",
    "        fitness.append(fit_score)\n",
    "\n",
    "    mating_pool = create_mating_pool(fitness, population, int(percentage_to_save * n_individuals))\n",
    "\n",
    "    new_generation = []\n",
    "    while len(new_generation) < n_individuals:\n",
    "        sample = random.sample(mating_pool, 2)  # Randomly select 2 individuals from mating_pool\n",
    "        parent1, parent2 = sample[0], sample[1]\n",
    "        child1, child2 = parent1.crossover(parent2)\n",
    "        child1.mutate()\n",
    "        child2.mutate()\n",
    "        new_generation += [child1, child2]\n",
    "    population = new_generation\n",
    "    \n",
    "    print(\"gen: \" + str(i + 1) + \". Best result:\", max(fitness))\n",
    "\n",
    "    \n",
    "# Save the best individual to file \"model\"\n",
    "max(population, key=lambda x: calculate_fitness(x, env)).save_model()"
   ]
  },
  {
   "cell_type": "code",
   "execution_count": null,
   "metadata": {},
   "outputs": [],
   "source": []
  }
 ],
 "metadata": {
  "kernelspec": {
   "display_name": "Python 3",
   "language": "python",
   "name": "python3"
  },
  "language_info": {
   "codemirror_mode": {
    "name": "ipython",
    "version": 3
   },
   "file_extension": ".py",
   "mimetype": "text/x-python",
   "name": "python",
   "nbconvert_exporter": "python",
   "pygments_lexer": "ipython3",
   "version": "3.7.2"
  },
  "pycharm": {
   "stem_cell": {
    "cell_type": "raw",
    "metadata": {
     "collapsed": false
    },
    "source": []
   }
  }
 },
 "nbformat": 4,
 "nbformat_minor": 2
}
